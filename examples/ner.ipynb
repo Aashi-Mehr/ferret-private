{
 "cells": [
  {
   "cell_type": "markdown",
   "metadata": {},
   "source": [
    "# Tutorial: Named Entity Recognition\n",
    "\n",
    "In this short tutorial, we show how to use *ferret* to use and evaluate post-hoc approaches in the task of Named Entity Recognition.\n",
    "\n",
    "We will use `Babelscape/wikineural-multilingual-ner` as model checkpoint."
   ]
  },
  {
   "cell_type": "code",
   "execution_count": 1,
   "metadata": {},
   "outputs": [],
   "source": [
    "%load_ext autoreload\n",
    "%autoreload 2"
   ]
  },
  {
   "cell_type": "code",
   "execution_count": 2,
   "metadata": {},
   "outputs": [
    {
     "data": {
      "text/plain": [
       "'cpu'"
      ]
     },
     "execution_count": 2,
     "metadata": {},
     "output_type": "execute_result"
    }
   ],
   "source": [
    "import torch\n",
    "from transformers import AutoModelForTokenClassification, AutoTokenizer\n",
    "\n",
    "from ferret import (\n",
    "    Benchmark,\n",
    "    GradientExplainer,\n",
    "    IntegratedGradientExplainer,\n",
    "    LIMEExplainer,\n",
    "    SHAPExplainer,\n",
    ")\n",
    "\n",
    "device = (\n",
    "    \"cuda:0\"\n",
    "    if torch.cuda.is_available()\n",
    "    else \"cpu\"\n",
    ")\n",
    "device"
   ]
  },
  {
   "cell_type": "code",
   "execution_count": 3,
   "metadata": {},
   "outputs": [],
   "source": [
    "model_name = \"Babelscape/wikineural-multilingual-ner\"\n",
    "tokenizer = AutoTokenizer.from_pretrained(model_name)\n",
    "model = AutoModelForTokenClassification.from_pretrained(model_name).to(device)"
   ]
  },
  {
   "cell_type": "code",
   "execution_count": 4,
   "metadata": {},
   "outputs": [
    {
     "name": "stderr",
     "output_type": "stream",
     "text": [
      "No helper provided. Using default 'text-classification' helper.\n"
     ]
    }
   ],
   "source": [
    "ig = IntegratedGradientExplainer(model, tokenizer, multiply_by_inputs=True)\n",
    "g = GradientExplainer(model, tokenizer, multiply_by_inputs=True)\n",
    "s = SHAPExplainer(model, tokenizer)\n",
    "l = LIMEExplainer(model, tokenizer)"
   ]
  },
  {
   "cell_type": "code",
   "execution_count": 5,
   "metadata": {},
   "outputs": [
    {
     "name": "stderr",
     "output_type": "stream",
     "text": [
      "Overriding helper for explainer <ferret.explainers.gradient.IntegratedGradientExplainer object at 0x104073a30>\n",
      "Overriding helper for explainer <ferret.explainers.gradient.GradientExplainer object at 0x104072b90>\n",
      "Overriding helper for explainer <ferret.explainers.shap.SHAPExplainer object at 0x104073c40>\n",
      "Overriding helper for explainer <ferret.explainers.lime.LIMEExplainer object at 0x28bb82fb0>\n"
     ]
    }
   ],
   "source": [
    "bench = Benchmark(model, tokenizer, explainers=[ig, g, s, l], task_name=\"ner\")"
   ]
  },
  {
   "cell_type": "code",
   "execution_count": 6,
   "metadata": {},
   "outputs": [],
   "source": [
    "example = \"My name is John and I live in New York\""
   ]
  },
  {
   "cell_type": "code",
   "execution_count": 7,
   "metadata": {},
   "outputs": [
    {
     "data": {
      "text/plain": [
       "{0: ('[CLS]',\n",
       "  {'O': 0.9994916915893555,\n",
       "   'B-PER': 2.6597157557262108e-05,\n",
       "   'I-PER': 0.00017279450548812747,\n",
       "   'B-ORG': 1.2901900845463388e-05,\n",
       "   'I-ORG': 6.348708848236129e-05,\n",
       "   'B-LOC': 9.968533049686812e-06,\n",
       "   'I-LOC': 0.00011104693840024993,\n",
       "   'B-MISC': 1.612466985534411e-05,\n",
       "   'I-MISC': 9.544858039589599e-05}),\n",
       " 1: ('My',\n",
       "  {'O': 0.9999566078186035,\n",
       "   'B-PER': 8.589893695898354e-06,\n",
       "   'I-PER': 5.9028357100032736e-06,\n",
       "   'B-ORG': 3.8377056625904515e-06,\n",
       "   'I-ORG': 2.641122591739986e-06,\n",
       "   'B-LOC': 3.42381417794968e-06,\n",
       "   'I-LOC': 3.109362978648278e-06,\n",
       "   'B-MISC': 7.962959898577537e-06,\n",
       "   'I-MISC': 7.821053259249311e-06}),\n",
       " 2: ('name',\n",
       "  {'O': 0.9999486207962036,\n",
       "   'B-PER': 2.657777713466203e-06,\n",
       "   'I-PER': 8.545751370547805e-06,\n",
       "   'B-ORG': 1.2938110103277722e-06,\n",
       "   'I-ORG': 6.107018180045998e-06,\n",
       "   'B-LOC': 8.132710149766353e-07,\n",
       "   'I-LOC': 6.332852080959128e-06,\n",
       "   'B-MISC': 2.279778982483549e-06,\n",
       "   'I-MISC': 2.3321948901866563e-05}),\n",
       " 3: ('is',\n",
       "  {'O': 0.9999440908432007,\n",
       "   'B-PER': 2.9799532512697624e-06,\n",
       "   'I-PER': 5.218511887505883e-06,\n",
       "   'B-ORG': 1.2089851679775165e-06,\n",
       "   'I-ORG': 5.656371286022477e-06,\n",
       "   'B-LOC': 8.120079542095482e-07,\n",
       "   'I-LOC': 7.17533157512662e-06,\n",
       "   'B-MISC': 1.8062958133668872e-06,\n",
       "   'I-MISC': 3.1156596378423274e-05}),\n",
       " 4: ('John',\n",
       "  {'O': 0.048748619854450226,\n",
       "   'B-PER': 0.9163889288902283,\n",
       "   'I-PER': 0.00019027898088097572,\n",
       "   'B-ORG': 0.004377895966172218,\n",
       "   'I-ORG': 4.786754652741365e-05,\n",
       "   'B-LOC': 0.012441666796803474,\n",
       "   'I-LOC': 0.00011447205179138109,\n",
       "   'B-MISC': 0.016483120620250702,\n",
       "   'I-MISC': 0.0012071066303178668}),\n",
       " 5: ('and',\n",
       "  {'O': 0.9994294047355652,\n",
       "   'B-PER': 1.0424008905829396e-05,\n",
       "   'I-PER': 0.0002799375797621906,\n",
       "   'B-ORG': 4.351963525550673e-06,\n",
       "   'I-ORG': 7.556832861155272e-05,\n",
       "   'B-LOC': 1.902254894048383e-06,\n",
       "   'I-LOC': 9.416306420462206e-05,\n",
       "   'B-MISC': 5.260108991933521e-06,\n",
       "   'I-MISC': 9.904107719194144e-05}),\n",
       " 6: ('I',\n",
       "  {'O': 0.9998694658279419,\n",
       "   'B-PER': 4.500163049669936e-05,\n",
       "   'I-PER': 7.1624967858952004e-06,\n",
       "   'B-ORG': 1.4382425433723256e-05,\n",
       "   'I-ORG': 4.1251437323808204e-06,\n",
       "   'B-LOC': 2.2142796296975575e-05,\n",
       "   'I-LOC': 2.6423638246342307e-06,\n",
       "   'B-MISC': 2.345448410778772e-05,\n",
       "   'I-MISC': 1.142858945968328e-05}),\n",
       " 7: ('live',\n",
       "  {'O': 0.9999547004699707,\n",
       "   'B-PER': 8.211254680645652e-07,\n",
       "   'I-PER': 5.064327069703722e-06,\n",
       "   'B-ORG': 1.2542394642878207e-06,\n",
       "   'I-ORG': 1.0311077858204953e-05,\n",
       "   'B-LOC': 1.2674082654484664e-06,\n",
       "   'I-LOC': 1.142166365752928e-05,\n",
       "   'B-MISC': 1.3220879964137566e-06,\n",
       "   'I-MISC': 1.385153882438317e-05}),\n",
       " 8: ('in',\n",
       "  {'O': 0.9999614953994751,\n",
       "   'B-PER': 1.0246035344607662e-06,\n",
       "   'I-PER': 1.937161641762941e-06,\n",
       "   'B-ORG': 2.4896476134017576e-06,\n",
       "   'I-ORG': 7.753865247650538e-06,\n",
       "   'B-LOC': 2.790600774460472e-06,\n",
       "   'I-LOC': 5.344508736015996e-06,\n",
       "   'B-MISC': 1.2137763860664563e-06,\n",
       "   'I-MISC': 1.6001746189431287e-05}),\n",
       " 9: ('New',\n",
       "  {'O': 3.3661861380096525e-05,\n",
       "   'B-PER': 7.558408924523974e-06,\n",
       "   'I-PER': 9.301462341682054e-06,\n",
       "   'B-ORG': 3.007847953995224e-05,\n",
       "   'I-ORG': 3.378668407094665e-05,\n",
       "   'B-LOC': 0.9997116923332214,\n",
       "   'I-LOC': 9.066626807907596e-05,\n",
       "   'B-MISC': 1.4789165106776636e-05,\n",
       "   'I-MISC': 6.846564792795107e-05}),\n",
       " 10: ('York',\n",
       "  {'O': 0.00014431646559387445,\n",
       "   'B-PER': 8.461460311082192e-06,\n",
       "   'I-PER': 1.8600563635118306e-05,\n",
       "   'B-ORG': 3.396892907403526e-06,\n",
       "   'I-ORG': 0.00010265278251608834,\n",
       "   'B-LOC': 0.00018672412261366844,\n",
       "   'I-LOC': 0.9994813799858093,\n",
       "   'B-MISC': 4.256101874489104e-06,\n",
       "   'I-MISC': 5.023982157581486e-05}),\n",
       " 11: ('[SEP]',\n",
       "  {'O': 0.9999499320983887,\n",
       "   'B-PER': 8.616510058345739e-06,\n",
       "   'I-PER': 1.4994312778071617e-06,\n",
       "   'B-ORG': 6.68305074214004e-06,\n",
       "   'I-ORG': 1.8902543388321646e-06,\n",
       "   'B-LOC': 6.021572517056484e-06,\n",
       "   'I-LOC': 1.540997004667588e-06,\n",
       "   'B-MISC': 1.7339854821329936e-05,\n",
       "   'I-MISC': 6.430337634810712e-06})}"
      ]
     },
     "execution_count": 7,
     "metadata": {},
     "output_type": "execute_result"
    }
   ],
   "source": [
    "bench.score(example, return_dict=True)"
   ]
  },
  {
   "cell_type": "code",
   "execution_count": 8,
   "metadata": {},
   "outputs": [
    {
     "data": {
      "application/vnd.jupyter.widget-view+json": {
       "model_id": "",
       "version_major": 2,
       "version_minor": 0
      },
      "text/plain": [
       "Explainer:   0%|          | 0/4 [00:00<?, ?it/s]"
      ]
     },
     "metadata": {},
     "output_type": "display_data"
    },
    {
     "data": {
      "application/vnd.jupyter.widget-view+json": {
       "model_id": "",
       "version_major": 2,
       "version_minor": 0
      },
      "text/plain": [
       "Batch:   0%|          | 0/18 [00:00<?, ?it/s]"
      ]
     },
     "metadata": {},
     "output_type": "display_data"
    }
   ],
   "source": [
    "exp = bench.explain(example, target=\"I-LOC\", target_token=\"York\")"
   ]
  },
  {
   "cell_type": "code",
   "execution_count": 9,
   "metadata": {},
   "outputs": [
    {
     "data": {
      "text/plain": [
       "[Explanation(text=['My name is John and I live in New York'], tokens=['[CLS]', 'My', 'name', 'is', 'John', 'and', 'I', 'live', 'in', 'New', 'York', '[SEP]'], scores=array([ 0.        ,  0.04970457,  0.54012624,  0.4566606 , -0.37592517,\n",
       "         0.25174783, -0.42135799,  0.3426674 ,  1.91907408,  4.45603646,\n",
       "         4.13728231,  0.        ]), explainer='Integrated Gradient (x Input)', target_pos_idx=6, helper_type='token-classification', target_token_pos_idx=10, target='I-LOC', target_token='York'),\n",
       " Explanation(text=['My name is John and I live in New York'], tokens=['[CLS]', 'My', 'name', 'is', 'John', 'and', 'I', 'live', 'in', 'New', 'York', '[SEP]'], scores=array([ 0.00748804, -0.00539828,  0.01949534, -0.02977793,  0.00305857,\n",
       "        -0.05528358,  0.03068757,  0.06589644, -0.07422812, -0.04219029,\n",
       "        -0.04760945, -0.01724538], dtype=float32), explainer='Gradient (x Input)', target_pos_idx=6, helper_type='token-classification', target_token_pos_idx=10, target='I-LOC', target_token='York'),\n",
       " Explanation(text=['My name is John and I live in New York'], tokens=['[CLS]', 'My', 'name', 'is', 'John', 'and', 'I', 'live', 'in', 'New', 'York', '[SEP]'], scores=array([ 0.00000000e+00,  3.51126439e-04,  1.13477162e-03,  9.82691259e-04,\n",
       "        -1.00637256e-03,  2.96195662e-05, -7.33306141e-02,  3.30899723e-01,\n",
       "         2.76855458e-01,  3.87821364e-01,  7.35887391e-02,  0.00000000e+00]), explainer='Partition SHAP', target_pos_idx=6, helper_type='token-classification', target_token_pos_idx=10, target='I-LOC', target_token='York'),\n",
       " Explanation(text=['My name is John and I live in New York'], tokens=['[CLS]', 'My', 'name', 'is', 'John', 'and', 'I', 'live', 'in', 'New', 'York', '[SEP]'], scores=array([ 0.00000000e+00,  1.03965368e-01,  7.46575465e-02,  1.33950965e-02,\n",
       "         3.14669607e-02, -1.42811752e-04, -3.11404058e-02,  8.48673288e-02,\n",
       "         1.63539833e-01,  2.82702852e-01,  3.49350510e-01,  0.00000000e+00]), explainer='LIME', target_pos_idx=6, helper_type='token-classification', target_token_pos_idx=10, target='I-LOC', target_token='York')]"
      ]
     },
     "execution_count": 9,
     "metadata": {},
     "output_type": "execute_result"
    }
   ],
   "source": [
    "exp"
   ]
  },
  {
   "cell_type": "code",
   "execution_count": 10,
   "metadata": {},
   "outputs": [
    {
     "data": {
      "text/html": [
       "<style type=\"text/css\">\n",
       "#T_e251b thead tr th:nth-child(1) {\n",
       "  position: sticky;\n",
       "  background-color: inherit;\n",
       "  left: 0px;\n",
       "  z-index: 3 !important;\n",
       "}\n",
       "#T_e251b tbody tr th:nth-child(1) {\n",
       "  position: sticky;\n",
       "  background-color: inherit;\n",
       "  left: 0px;\n",
       "  z-index: 1;\n",
       "}\n",
       "#T_e251b_row0_col0, #T_e251b_row0_col11, #T_e251b_row1_col0, #T_e251b_row1_col4, #T_e251b_row2_col0, #T_e251b_row2_col1, #T_e251b_row2_col2, #T_e251b_row2_col3, #T_e251b_row2_col5, #T_e251b_row2_col11, #T_e251b_row3_col0, #T_e251b_row3_col11 {\n",
       "  background-color: #f2f1f1;\n",
       "  color: #000000;\n",
       "}\n",
       "#T_e251b_row0_col1 {\n",
       "  background-color: #f1e8e9;\n",
       "  color: #000000;\n",
       "}\n",
       "#T_e251b_row0_col2 {\n",
       "  background-color: #e58d94;\n",
       "  color: #f1f1f1;\n",
       "}\n",
       "#T_e251b_row0_col3 {\n",
       "  background-color: #e79ea3;\n",
       "  color: #000000;\n",
       "}\n",
       "#T_e251b_row0_col4 {\n",
       "  background-color: #aec5d6;\n",
       "  color: #000000;\n",
       "}\n",
       "#T_e251b_row0_col5 {\n",
       "  background-color: #ecc3c6;\n",
       "  color: #000000;\n",
       "}\n",
       "#T_e251b_row0_col6 {\n",
       "  background-color: #a8c1d3;\n",
       "  color: #000000;\n",
       "}\n",
       "#T_e251b_row0_col7 {\n",
       "  background-color: #eab3b7;\n",
       "  color: #000000;\n",
       "}\n",
       "#T_e251b_row0_col8, #T_e251b_row0_col9, #T_e251b_row0_col10 {\n",
       "  background-color: #da3b46;\n",
       "  color: #f1f1f1;\n",
       "}\n",
       "#T_e251b_row1_col1, #T_e251b_row2_col4, #T_e251b_row3_col5 {\n",
       "  background-color: #f1f1f2;\n",
       "  color: #000000;\n",
       "}\n",
       "#T_e251b_row1_col2 {\n",
       "  background-color: #f2eeee;\n",
       "  color: #000000;\n",
       "}\n",
       "#T_e251b_row1_col3, #T_e251b_row3_col6 {\n",
       "  background-color: #eceef1;\n",
       "  color: #000000;\n",
       "}\n",
       "#T_e251b_row1_col5 {\n",
       "  background-color: #e7ebee;\n",
       "  color: #000000;\n",
       "}\n",
       "#T_e251b_row1_col6 {\n",
       "  background-color: #f2eded;\n",
       "  color: #000000;\n",
       "}\n",
       "#T_e251b_row1_col7 {\n",
       "  background-color: #f1e5e6;\n",
       "  color: #000000;\n",
       "}\n",
       "#T_e251b_row1_col8, #T_e251b_row2_col6 {\n",
       "  background-color: #e4e9ed;\n",
       "  color: #000000;\n",
       "}\n",
       "#T_e251b_row1_col9 {\n",
       "  background-color: #e9edf0;\n",
       "  color: #000000;\n",
       "}\n",
       "#T_e251b_row1_col10 {\n",
       "  background-color: #e8ecef;\n",
       "  color: #000000;\n",
       "}\n",
       "#T_e251b_row1_col11 {\n",
       "  background-color: #edeff1;\n",
       "  color: #000000;\n",
       "}\n",
       "#T_e251b_row2_col7 {\n",
       "  background-color: #eab5b9;\n",
       "  color: #000000;\n",
       "}\n",
       "#T_e251b_row2_col8 {\n",
       "  background-color: #ecbfc2;\n",
       "  color: #000000;\n",
       "}\n",
       "#T_e251b_row2_col9 {\n",
       "  background-color: #e9abaf;\n",
       "  color: #000000;\n",
       "}\n",
       "#T_e251b_row2_col10, #T_e251b_row3_col2 {\n",
       "  background-color: #f1e4e5;\n",
       "  color: #000000;\n",
       "}\n",
       "#T_e251b_row3_col1 {\n",
       "  background-color: #f0dedf;\n",
       "  color: #000000;\n",
       "}\n",
       "#T_e251b_row3_col3 {\n",
       "  background-color: #f2efef;\n",
       "  color: #000000;\n",
       "}\n",
       "#T_e251b_row3_col4 {\n",
       "  background-color: #f2ebeb;\n",
       "  color: #000000;\n",
       "}\n",
       "#T_e251b_row3_col7 {\n",
       "  background-color: #f0e3e3;\n",
       "  color: #000000;\n",
       "}\n",
       "#T_e251b_row3_col8 {\n",
       "  background-color: #efd4d6;\n",
       "  color: #000000;\n",
       "}\n",
       "#T_e251b_row3_col9 {\n",
       "  background-color: #ebbdc1;\n",
       "  color: #000000;\n",
       "}\n",
       "#T_e251b_row3_col10 {\n",
       "  background-color: #eab2b6;\n",
       "  color: #000000;\n",
       "}\n",
       "</style>\n",
       "<table id=\"T_e251b\">\n",
       "  <thead>\n",
       "    <tr>\n",
       "      <th class=\"blank level0\" >&nbsp;</th>\n",
       "      <th id=\"T_e251b_level0_col0\" class=\"col_heading level0 col0\" >[CLS]</th>\n",
       "      <th id=\"T_e251b_level0_col1\" class=\"col_heading level0 col1\" >My</th>\n",
       "      <th id=\"T_e251b_level0_col2\" class=\"col_heading level0 col2\" >name</th>\n",
       "      <th id=\"T_e251b_level0_col3\" class=\"col_heading level0 col3\" >is</th>\n",
       "      <th id=\"T_e251b_level0_col4\" class=\"col_heading level0 col4\" >John</th>\n",
       "      <th id=\"T_e251b_level0_col5\" class=\"col_heading level0 col5\" >and</th>\n",
       "      <th id=\"T_e251b_level0_col6\" class=\"col_heading level0 col6\" >I</th>\n",
       "      <th id=\"T_e251b_level0_col7\" class=\"col_heading level0 col7\" >live</th>\n",
       "      <th id=\"T_e251b_level0_col8\" class=\"col_heading level0 col8\" >in</th>\n",
       "      <th id=\"T_e251b_level0_col9\" class=\"col_heading level0 col9\" >New</th>\n",
       "      <th id=\"T_e251b_level0_col10\" class=\"col_heading level0 col10\" >York</th>\n",
       "      <th id=\"T_e251b_level0_col11\" class=\"col_heading level0 col11\" >[SEP]</th>\n",
       "    </tr>\n",
       "  </thead>\n",
       "  <tbody>\n",
       "    <tr>\n",
       "      <th id=\"T_e251b_level0_row0\" class=\"row_heading level0 row0\" >Integrated Gradient (x Input)</th>\n",
       "      <td id=\"T_e251b_row0_col0\" class=\"data row0 col0\" >0.00</td>\n",
       "      <td id=\"T_e251b_row0_col1\" class=\"data row0 col1\" >0.05</td>\n",
       "      <td id=\"T_e251b_row0_col2\" class=\"data row0 col2\" >0.54</td>\n",
       "      <td id=\"T_e251b_row0_col3\" class=\"data row0 col3\" >0.46</td>\n",
       "      <td id=\"T_e251b_row0_col4\" class=\"data row0 col4\" >-0.38</td>\n",
       "      <td id=\"T_e251b_row0_col5\" class=\"data row0 col5\" >0.25</td>\n",
       "      <td id=\"T_e251b_row0_col6\" class=\"data row0 col6\" >-0.42</td>\n",
       "      <td id=\"T_e251b_row0_col7\" class=\"data row0 col7\" >0.34</td>\n",
       "      <td id=\"T_e251b_row0_col8\" class=\"data row0 col8\" >1.92</td>\n",
       "      <td id=\"T_e251b_row0_col9\" class=\"data row0 col9\" >4.46</td>\n",
       "      <td id=\"T_e251b_row0_col10\" class=\"data row0 col10\" >4.14</td>\n",
       "      <td id=\"T_e251b_row0_col11\" class=\"data row0 col11\" >0.00</td>\n",
       "    </tr>\n",
       "    <tr>\n",
       "      <th id=\"T_e251b_level0_row1\" class=\"row_heading level0 row1\" >Gradient (x Input)</th>\n",
       "      <td id=\"T_e251b_row1_col0\" class=\"data row1 col0\" >0.01</td>\n",
       "      <td id=\"T_e251b_row1_col1\" class=\"data row1 col1\" >-0.01</td>\n",
       "      <td id=\"T_e251b_row1_col2\" class=\"data row1 col2\" >0.02</td>\n",
       "      <td id=\"T_e251b_row1_col3\" class=\"data row1 col3\" >-0.03</td>\n",
       "      <td id=\"T_e251b_row1_col4\" class=\"data row1 col4\" >0.00</td>\n",
       "      <td id=\"T_e251b_row1_col5\" class=\"data row1 col5\" >-0.06</td>\n",
       "      <td id=\"T_e251b_row1_col6\" class=\"data row1 col6\" >0.03</td>\n",
       "      <td id=\"T_e251b_row1_col7\" class=\"data row1 col7\" >0.07</td>\n",
       "      <td id=\"T_e251b_row1_col8\" class=\"data row1 col8\" >-0.07</td>\n",
       "      <td id=\"T_e251b_row1_col9\" class=\"data row1 col9\" >-0.04</td>\n",
       "      <td id=\"T_e251b_row1_col10\" class=\"data row1 col10\" >-0.05</td>\n",
       "      <td id=\"T_e251b_row1_col11\" class=\"data row1 col11\" >-0.02</td>\n",
       "    </tr>\n",
       "    <tr>\n",
       "      <th id=\"T_e251b_level0_row2\" class=\"row_heading level0 row2\" >Partition SHAP</th>\n",
       "      <td id=\"T_e251b_row2_col0\" class=\"data row2 col0\" >0.00</td>\n",
       "      <td id=\"T_e251b_row2_col1\" class=\"data row2 col1\" >0.00</td>\n",
       "      <td id=\"T_e251b_row2_col2\" class=\"data row2 col2\" >0.00</td>\n",
       "      <td id=\"T_e251b_row2_col3\" class=\"data row2 col3\" >0.00</td>\n",
       "      <td id=\"T_e251b_row2_col4\" class=\"data row2 col4\" >-0.00</td>\n",
       "      <td id=\"T_e251b_row2_col5\" class=\"data row2 col5\" >0.00</td>\n",
       "      <td id=\"T_e251b_row2_col6\" class=\"data row2 col6\" >-0.07</td>\n",
       "      <td id=\"T_e251b_row2_col7\" class=\"data row2 col7\" >0.33</td>\n",
       "      <td id=\"T_e251b_row2_col8\" class=\"data row2 col8\" >0.28</td>\n",
       "      <td id=\"T_e251b_row2_col9\" class=\"data row2 col9\" >0.39</td>\n",
       "      <td id=\"T_e251b_row2_col10\" class=\"data row2 col10\" >0.07</td>\n",
       "      <td id=\"T_e251b_row2_col11\" class=\"data row2 col11\" >0.00</td>\n",
       "    </tr>\n",
       "    <tr>\n",
       "      <th id=\"T_e251b_level0_row3\" class=\"row_heading level0 row3\" >LIME</th>\n",
       "      <td id=\"T_e251b_row3_col0\" class=\"data row3 col0\" >0.00</td>\n",
       "      <td id=\"T_e251b_row3_col1\" class=\"data row3 col1\" >0.10</td>\n",
       "      <td id=\"T_e251b_row3_col2\" class=\"data row3 col2\" >0.07</td>\n",
       "      <td id=\"T_e251b_row3_col3\" class=\"data row3 col3\" >0.01</td>\n",
       "      <td id=\"T_e251b_row3_col4\" class=\"data row3 col4\" >0.03</td>\n",
       "      <td id=\"T_e251b_row3_col5\" class=\"data row3 col5\" >-0.00</td>\n",
       "      <td id=\"T_e251b_row3_col6\" class=\"data row3 col6\" >-0.03</td>\n",
       "      <td id=\"T_e251b_row3_col7\" class=\"data row3 col7\" >0.08</td>\n",
       "      <td id=\"T_e251b_row3_col8\" class=\"data row3 col8\" >0.16</td>\n",
       "      <td id=\"T_e251b_row3_col9\" class=\"data row3 col9\" >0.28</td>\n",
       "      <td id=\"T_e251b_row3_col10\" class=\"data row3 col10\" >0.35</td>\n",
       "      <td id=\"T_e251b_row3_col11\" class=\"data row3 col11\" >0.00</td>\n",
       "    </tr>\n",
       "  </tbody>\n",
       "</table>\n"
      ],
      "text/plain": [
       "<pandas.io.formats.style.Styler at 0x28e911150>"
      ]
     },
     "execution_count": 10,
     "metadata": {},
     "output_type": "execute_result"
    }
   ],
   "source": [
    "bench.show_table(exp)"
   ]
  },
  {
   "cell_type": "code",
   "execution_count": 11,
   "metadata": {},
   "outputs": [
    {
     "data": {
      "application/vnd.jupyter.widget-view+json": {
       "model_id": "",
       "version_major": 2,
       "version_minor": 0
      },
      "text/plain": [
       "Explanation eval:   0%|          | 0/4 [00:00<?, ?it/s]"
      ]
     },
     "metadata": {},
     "output_type": "display_data"
    },
    {
     "name": "stderr",
     "output_type": "stream",
     "text": [
      "NER does not support token removal. 'remove_tokens' set to False\n",
      "NER does not support token removal. 'remove_tokens' set to False\n"
     ]
    }
   ],
   "source": [
    "evaluations = bench.evaluate_explanations(exp)"
   ]
  },
  {
   "cell_type": "code",
   "execution_count": 12,
   "metadata": {},
   "outputs": [
    {
     "data": {
      "text/html": [
       "<style type=\"text/css\">\n",
       "#T_431cb thead tr th:nth-child(1) {\n",
       "  position: sticky;\n",
       "  background-color: inherit;\n",
       "  left: 0px;\n",
       "  z-index: 3 !important;\n",
       "}\n",
       "#T_431cb tbody tr th:nth-child(1) {\n",
       "  position: sticky;\n",
       "  background-color: inherit;\n",
       "  left: 0px;\n",
       "  z-index: 1;\n",
       "}\n",
       "#T_431cb_row0_col0, #T_431cb_row1_col0, #T_431cb_row2_col0, #T_431cb_row3_col0 {\n",
       "  background-color: #800080;\n",
       "  color: #f1f1f1;\n",
       "}\n",
       "#T_431cb_row0_col1, #T_431cb_row1_col1, #T_431cb_row2_col1, #T_431cb_row3_col1 {\n",
       "  background-color: #ffffff;\n",
       "  color: #000000;\n",
       "}\n",
       "#T_431cb_row0_col2 {\n",
       "  background-color: #cc9fcc;\n",
       "  color: #000000;\n",
       "}\n",
       "#T_431cb_row1_col2 {\n",
       "  background-color: #c086c0;\n",
       "  color: #f1f1f1;\n",
       "}\n",
       "#T_431cb_row2_col2 {\n",
       "  background-color: #d3add3;\n",
       "  color: #000000;\n",
       "}\n",
       "#T_431cb_row3_col2 {\n",
       "  background-color: #ca9bca;\n",
       "  color: #f1f1f1;\n",
       "}\n",
       "</style>\n",
       "<table id=\"T_431cb\">\n",
       "  <thead>\n",
       "    <tr>\n",
       "      <th class=\"blank level0\" >&nbsp;</th>\n",
       "      <th id=\"T_431cb_level0_col0\" class=\"col_heading level0 col0\" >aopc_compr</th>\n",
       "      <th id=\"T_431cb_level0_col1\" class=\"col_heading level0 col1\" >aopc_suff</th>\n",
       "      <th id=\"T_431cb_level0_col2\" class=\"col_heading level0 col2\" >taucorr_loo</th>\n",
       "    </tr>\n",
       "    <tr>\n",
       "      <th class=\"index_name level0\" >Explainer</th>\n",
       "      <th class=\"blank col0\" >&nbsp;</th>\n",
       "      <th class=\"blank col1\" >&nbsp;</th>\n",
       "      <th class=\"blank col2\" >&nbsp;</th>\n",
       "    </tr>\n",
       "  </thead>\n",
       "  <tbody>\n",
       "    <tr>\n",
       "      <th id=\"T_431cb_level0_row0\" class=\"row_heading level0 row0\" >Integrated Gradient (x Input)</th>\n",
       "      <td id=\"T_431cb_row0_col0\" class=\"data row0 col0\" >1.00</td>\n",
       "      <td id=\"T_431cb_row0_col1\" class=\"data row0 col1\" >1.00</td>\n",
       "      <td id=\"T_431cb_row0_col2\" class=\"data row0 col2\" >-0.32</td>\n",
       "    </tr>\n",
       "    <tr>\n",
       "      <th id=\"T_431cb_level0_row1\" class=\"row_heading level0 row1\" >Gradient (x Input)</th>\n",
       "      <td id=\"T_431cb_row1_col0\" class=\"data row1 col0\" >0.99</td>\n",
       "      <td id=\"T_431cb_row1_col1\" class=\"data row1 col1\" >1.00</td>\n",
       "      <td id=\"T_431cb_row1_col2\" class=\"data row1 col2\" >-0.12</td>\n",
       "    </tr>\n",
       "    <tr>\n",
       "      <th id=\"T_431cb_level0_row2\" class=\"row_heading level0 row2\" >Partition SHAP</th>\n",
       "      <td id=\"T_431cb_row2_col0\" class=\"data row2 col0\" >1.00</td>\n",
       "      <td id=\"T_431cb_row2_col1\" class=\"data row2 col1\" >1.00</td>\n",
       "      <td id=\"T_431cb_row2_col2\" class=\"data row2 col2\" >-0.44</td>\n",
       "    </tr>\n",
       "    <tr>\n",
       "      <th id=\"T_431cb_level0_row3\" class=\"row_heading level0 row3\" >LIME</th>\n",
       "      <td id=\"T_431cb_row3_col0\" class=\"data row3 col0\" >1.00</td>\n",
       "      <td id=\"T_431cb_row3_col1\" class=\"data row3 col1\" >1.00</td>\n",
       "      <td id=\"T_431cb_row3_col2\" class=\"data row3 col2\" >-0.29</td>\n",
       "    </tr>\n",
       "  </tbody>\n",
       "</table>\n"
      ],
      "text/plain": [
       "<pandas.io.formats.style.Styler at 0x28eef9e10>"
      ]
     },
     "execution_count": 12,
     "metadata": {},
     "output_type": "execute_result"
    }
   ],
   "source": [
    "bench.show_evaluation_table(evaluations)"
   ]
  }
 ],
 "metadata": {
  "kernelspec": {
   "display_name": "Python 3 (ipykernel)",
   "language": "python",
   "name": "python3"
  },
  "language_info": {
   "codemirror_mode": {
    "name": "ipython",
    "version": 3
   },
   "file_extension": ".py",
   "mimetype": "text/x-python",
   "name": "python",
   "nbconvert_exporter": "python",
   "pygments_lexer": "ipython3",
   "version": "3.10.11"
  },
  "vscode": {
   "interpreter": {
    "hash": "78645345e5495b5ada400086274ed52038b33bbda7f86ad5b81938b6e8cf303a"
   }
  }
 },
 "nbformat": 4,
 "nbformat_minor": 4
}
