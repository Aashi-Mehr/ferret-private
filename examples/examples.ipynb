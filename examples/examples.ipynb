{
 "cells": [
  {
   "cell_type": "code",
   "execution_count": 1,
   "id": "52852519-03d4-4f7e-8a73-8c80786d5646",
   "metadata": {},
   "outputs": [],
   "source": [
    "%load_ext autoreload\n",
    "%autoreload 2"
   ]
  },
  {
   "cell_type": "code",
   "execution_count": 12,
   "id": "14d18989-fda4-4f8d-b265-2992d9062e99",
   "metadata": {},
   "outputs": [],
   "source": [
    "from transformers import AutoTokenizer, AutoModelForSequenceClassification\n",
    "from ferret import Benchmark"
   ]
  },
  {
   "cell_type": "code",
   "execution_count": 3,
   "id": "d537c947-682e-49fd-92d2-bd823bb90808",
   "metadata": {},
   "outputs": [],
   "source": [
    "tokenizer = AutoTokenizer.from_pretrained(\"bert-base-cased\")\n",
    "model = AutoModelForSequenceClassification.from_pretrained(\"g8a9/bert-base-cased_ami18\")"
   ]
  },
  {
   "cell_type": "markdown",
   "id": "7370ffd4",
   "metadata": {},
   "source": [
    "The fastest way to get started with *ferret* is using the Benchmark interface class."
   ]
  },
  {
   "cell_type": "code",
   "execution_count": 5,
   "id": "737c9329",
   "metadata": {},
   "outputs": [],
   "source": [
    "bench = Benchmark(model, tokenizer)"
   ]
  },
  {
   "cell_type": "markdown",
   "id": "c75cc6b5",
   "metadata": {},
   "source": [
    "Extracting post-hoc explanations with all the supported methods and standard parameters is as easy as:"
   ]
  },
  {
   "cell_type": "code",
   "execution_count": 6,
   "id": "94c4f140",
   "metadata": {},
   "outputs": [
    {
     "name": "stderr",
     "output_type": "stream",
     "text": [
      "Explainer:   0%|          | 0/4 [00:00<?, ?it/s]`return_all_scores` is now deprecated, use `top_k=1` if you want similar functionnality\n",
      "Partition explainer: 2it [00:14, 14.81s/it]               \n",
      "Explainer: 100%|██████████| 4/4 [00:20<00:00,  5.11s/it]\n"
     ]
    }
   ],
   "source": [
    "explanations = bench.explain(\"I love your style!\")"
   ]
  },
  {
   "cell_type": "code",
   "execution_count": 8,
   "id": "8a1ba65b",
   "metadata": {},
   "outputs": [
    {
     "data": {
      "text/plain": [
       "[Explanation(text='I love your style!', tokens=['[CLS]', 'I', 'love', 'your', 'style', '!', '[SEP]'], scores=array([ 0.        , -0.20228152, -0.34075298,  0.15254336, -0.26609306,\n",
       "         0.03832909,  0.        ]), explainer='Partition SHAP'),\n",
       " Explanation(text='I love your style!', tokens=['[CLS]', 'I', 'love', 'your', 'style', '!', '[SEP]'], scores=tensor([ 0.0011, -0.1456,  0.2927, -0.0879,  0.0727, -0.3694, -0.0306]), explainer='Gradient'),\n",
       " Explanation(text='I love your style!', tokens=['[CLS]', 'I', 'love', 'your', 'style', '!', '[SEP]'], scores=tensor([ 0.1153, -0.1675,  0.0387, -0.2461,  0.1325, -0.2262,  0.0737],\n",
       "        dtype=torch.float64), explainer='Integrated Gradient'),\n",
       " Explanation(text='I love your style!', tokens=['[CLS]', 'I', 'love', 'your', 'style', '!', '[SEP]'], scores=array([-0.04105946, -0.18526636,  0.05381994, -0.00660401, -0.2711323 ,\n",
       "         0.28812219,  0.15399574]), explainer='LIME')]"
      ]
     },
     "execution_count": 8,
     "metadata": {},
     "output_type": "execute_result"
    }
   ],
   "source": [
    "explanations"
   ]
  },
  {
   "cell_type": "markdown",
   "id": "ac9f79e2",
   "metadata": {},
   "source": [
    "Let's visualize the results."
   ]
  },
  {
   "cell_type": "code",
   "execution_count": 9,
   "id": "18800ed9",
   "metadata": {},
   "outputs": [
    {
     "data": {
      "text/html": [
       "<style type=\"text/css\">\n",
       "#T_f5d7d_row0_col0, #T_f5d7d_row0_col6, #T_f5d7d_row1_col0 {\n",
       "  background-color: #f2f1f1;\n",
       "  color: #000000;\n",
       "}\n",
       "#T_f5d7d_row0_col1 {\n",
       "  background-color: #cedae4;\n",
       "  color: #000000;\n",
       "}\n",
       "#T_f5d7d_row0_col2 {\n",
       "  background-color: #b5cad9;\n",
       "  color: #000000;\n",
       "}\n",
       "#T_f5d7d_row0_col3, #T_f5d7d_row3_col6 {\n",
       "  background-color: #efd6d7;\n",
       "  color: #000000;\n",
       "}\n",
       "#T_f5d7d_row0_col4, #T_f5d7d_row3_col4 {\n",
       "  background-color: #c2d2df;\n",
       "  color: #000000;\n",
       "}\n",
       "#T_f5d7d_row0_col5, #T_f5d7d_row2_col2 {\n",
       "  background-color: #f2ebeb;\n",
       "  color: #000000;\n",
       "}\n",
       "#T_f5d7d_row1_col1 {\n",
       "  background-color: #d8e1e8;\n",
       "  color: #000000;\n",
       "}\n",
       "#T_f5d7d_row1_col2 {\n",
       "  background-color: #ebbcbf;\n",
       "  color: #000000;\n",
       "}\n",
       "#T_f5d7d_row1_col3 {\n",
       "  background-color: #e1e7ec;\n",
       "  color: #000000;\n",
       "}\n",
       "#T_f5d7d_row1_col4, #T_f5d7d_row2_col6 {\n",
       "  background-color: #f1e4e5;\n",
       "  color: #000000;\n",
       "}\n",
       "#T_f5d7d_row1_col5 {\n",
       "  background-color: #b0c6d7;\n",
       "  color: #000000;\n",
       "}\n",
       "#T_f5d7d_row1_col6 {\n",
       "  background-color: #eceef1;\n",
       "  color: #000000;\n",
       "}\n",
       "#T_f5d7d_row2_col0 {\n",
       "  background-color: #f0ddde;\n",
       "  color: #000000;\n",
       "}\n",
       "#T_f5d7d_row2_col1 {\n",
       "  background-color: #d3dee6;\n",
       "  color: #000000;\n",
       "}\n",
       "#T_f5d7d_row2_col3 {\n",
       "  background-color: #c6d5e0;\n",
       "  color: #000000;\n",
       "}\n",
       "#T_f5d7d_row2_col4 {\n",
       "  background-color: #efdadb;\n",
       "  color: #000000;\n",
       "}\n",
       "#T_f5d7d_row2_col5 {\n",
       "  background-color: #cad8e2;\n",
       "  color: #000000;\n",
       "}\n",
       "#T_f5d7d_row3_col0 {\n",
       "  background-color: #e9edf0;\n",
       "  color: #000000;\n",
       "}\n",
       "#T_f5d7d_row3_col1 {\n",
       "  background-color: #d1dce5;\n",
       "  color: #000000;\n",
       "}\n",
       "#T_f5d7d_row3_col2 {\n",
       "  background-color: #f1e8e9;\n",
       "  color: #000000;\n",
       "}\n",
       "#T_f5d7d_row3_col3 {\n",
       "  background-color: #f1f1f2;\n",
       "  color: #000000;\n",
       "}\n",
       "#T_f5d7d_row3_col5 {\n",
       "  background-color: #ebbdc1;\n",
       "  color: #000000;\n",
       "}\n",
       "</style>\n",
       "<table id=\"T_f5d7d_\">\n",
       "  <thead>\n",
       "    <tr>\n",
       "      <th class=\"index_name level0\" >Token</th>\n",
       "      <th class=\"col_heading level0 col0\" >[CLS]</th>\n",
       "      <th class=\"col_heading level0 col1\" >I</th>\n",
       "      <th class=\"col_heading level0 col2\" >love</th>\n",
       "      <th class=\"col_heading level0 col3\" >your</th>\n",
       "      <th class=\"col_heading level0 col4\" >style</th>\n",
       "      <th class=\"col_heading level0 col5\" >!</th>\n",
       "      <th class=\"col_heading level0 col6\" >[SEP]</th>\n",
       "    </tr>\n",
       "  </thead>\n",
       "  <tbody>\n",
       "    <tr>\n",
       "      <th id=\"T_f5d7d_level0_row0\" class=\"row_heading level0 row0\" >Partition SHAP</th>\n",
       "      <td id=\"T_f5d7d_row0_col0\" class=\"data row0 col0\" >0.000000</td>\n",
       "      <td id=\"T_f5d7d_row0_col1\" class=\"data row0 col1\" >-0.202282</td>\n",
       "      <td id=\"T_f5d7d_row0_col2\" class=\"data row0 col2\" >-0.340753</td>\n",
       "      <td id=\"T_f5d7d_row0_col3\" class=\"data row0 col3\" >0.152543</td>\n",
       "      <td id=\"T_f5d7d_row0_col4\" class=\"data row0 col4\" >-0.266093</td>\n",
       "      <td id=\"T_f5d7d_row0_col5\" class=\"data row0 col5\" >0.038329</td>\n",
       "      <td id=\"T_f5d7d_row0_col6\" class=\"data row0 col6\" >0.000000</td>\n",
       "    </tr>\n",
       "    <tr>\n",
       "      <th id=\"T_f5d7d_level0_row1\" class=\"row_heading level0 row1\" >Gradient</th>\n",
       "      <td id=\"T_f5d7d_row1_col0\" class=\"data row1 col0\" >0.001106</td>\n",
       "      <td id=\"T_f5d7d_row1_col1\" class=\"data row1 col1\" >-0.145644</td>\n",
       "      <td id=\"T_f5d7d_row1_col2\" class=\"data row1 col2\" >0.292689</td>\n",
       "      <td id=\"T_f5d7d_row1_col3\" class=\"data row1 col3\" >-0.087870</td>\n",
       "      <td id=\"T_f5d7d_row1_col4\" class=\"data row1 col4\" >0.072717</td>\n",
       "      <td id=\"T_f5d7d_row1_col5\" class=\"data row1 col5\" >-0.369399</td>\n",
       "      <td id=\"T_f5d7d_row1_col6\" class=\"data row1 col6\" >-0.030575</td>\n",
       "    </tr>\n",
       "    <tr>\n",
       "      <th id=\"T_f5d7d_level0_row2\" class=\"row_heading level0 row2\" >Integrated Gradient</th>\n",
       "      <td id=\"T_f5d7d_row2_col0\" class=\"data row2 col0\" >0.115340</td>\n",
       "      <td id=\"T_f5d7d_row2_col1\" class=\"data row2 col1\" >-0.167506</td>\n",
       "      <td id=\"T_f5d7d_row2_col2\" class=\"data row2 col2\" >0.038743</td>\n",
       "      <td id=\"T_f5d7d_row2_col3\" class=\"data row2 col3\" >-0.246091</td>\n",
       "      <td id=\"T_f5d7d_row2_col4\" class=\"data row2 col4\" >0.132474</td>\n",
       "      <td id=\"T_f5d7d_row2_col5\" class=\"data row2 col5\" >-0.226191</td>\n",
       "      <td id=\"T_f5d7d_row2_col6\" class=\"data row2 col6\" >0.073656</td>\n",
       "    </tr>\n",
       "    <tr>\n",
       "      <th id=\"T_f5d7d_level0_row3\" class=\"row_heading level0 row3\" >LIME</th>\n",
       "      <td id=\"T_f5d7d_row3_col0\" class=\"data row3 col0\" >-0.041059</td>\n",
       "      <td id=\"T_f5d7d_row3_col1\" class=\"data row3 col1\" >-0.185266</td>\n",
       "      <td id=\"T_f5d7d_row3_col2\" class=\"data row3 col2\" >0.053820</td>\n",
       "      <td id=\"T_f5d7d_row3_col3\" class=\"data row3 col3\" >-0.006604</td>\n",
       "      <td id=\"T_f5d7d_row3_col4\" class=\"data row3 col4\" >-0.271132</td>\n",
       "      <td id=\"T_f5d7d_row3_col5\" class=\"data row3 col5\" >0.288122</td>\n",
       "      <td id=\"T_f5d7d_row3_col6\" class=\"data row3 col6\" >0.153996</td>\n",
       "    </tr>\n",
       "  </tbody>\n",
       "</table>\n"
      ],
      "text/plain": [
       "<pandas.io.formats.style.Styler at 0x7f95bdf59340>"
      ]
     },
     "execution_count": 9,
     "metadata": {},
     "output_type": "execute_result"
    }
   ],
   "source": [
    "t = bench.show_table(explanations)\n",
    "t"
   ]
  },
  {
   "cell_type": "markdown",
   "id": "561f2113",
   "metadata": {},
   "source": [
    "**Interface to individual explainers**\n",
    "\n",
    "You can also use individual explainers using an object oriented interface."
   ]
  },
  {
   "cell_type": "code",
   "execution_count": 13,
   "id": "77e3877f",
   "metadata": {},
   "outputs": [],
   "source": [
    "from ferret import SHAPExplainer, LIMEExplainer"
   ]
  },
  {
   "cell_type": "code",
   "execution_count": 14,
   "id": "52c85a95",
   "metadata": {},
   "outputs": [
    {
     "data": {
      "text/plain": [
       "Explanation(text='hello my friend', tokens=['[CLS]', 'hello', 'my', 'friend', '[SEP]'], scores=[-0.03134701957661651, -0.08080190792106838, -0.06166692253270579, 0.008113092867286986, 0.0112991057803243], explainer='LIME')"
      ]
     },
     "execution_count": 14,
     "metadata": {},
     "output_type": "execute_result"
    }
   ],
   "source": [
    "exp = LIMEExplainer(model, tokenizer)\n",
    "exp(\"hello my friend\")"
   ]
  },
  {
   "cell_type": "code",
   "execution_count": 15,
   "id": "e75aa80e-773a-48de-a27f-5eb6cdb670a6",
   "metadata": {},
   "outputs": [
    {
     "name": "stderr",
     "output_type": "stream",
     "text": [
      "`return_all_scores` is now deprecated, use `top_k=1` if you want similar functionnality\n"
     ]
    },
    {
     "data": {
      "text/plain": [
       "Explanation(text='hello my friend', tokens=['[CLS]', 'hello', 'my', 'friend', '[SEP]'], scores=array([ 0.        , -0.16196121, -0.09804483, -0.13852778,  0.        ]), explainer='Partition SHAP')"
      ]
     },
     "execution_count": 15,
     "metadata": {},
     "output_type": "execute_result"
    }
   ],
   "source": [
    "exp = SHAPExplainer(model, tokenizer)\n",
    "exp(\"hello my friend\")"
   ]
  }
 ],
 "metadata": {
  "kernelspec": {
   "display_name": "Python 3.8.5 ('base')",
   "language": "python",
   "name": "python3"
  },
  "language_info": {
   "codemirror_mode": {
    "name": "ipython",
    "version": 3
   },
   "file_extension": ".py",
   "mimetype": "text/x-python",
   "name": "python",
   "nbconvert_exporter": "python",
   "pygments_lexer": "ipython3",
   "version": "3.8.5"
  },
  "vscode": {
   "interpreter": {
    "hash": "d8f902cf6ca391daaec6c50bfce6a52cbc75b613a5db9822f88b522b8035bbf2"
   }
  }
 },
 "nbformat": 4,
 "nbformat_minor": 5
}
