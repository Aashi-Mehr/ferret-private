{
 "cells": [
  {
   "cell_type": "markdown",
   "metadata": {},
   "source": [
    "# Tutorial: Natural Language Inference\n",
    "\n",
    "In this short tutorial, we show how to use *ferret* to use and evaluate different gradient based approaches in the task of Natural Language Inference.\n",
    "\n",
    "We will use`distilbert-base-uncased-finetuned-sst-2-english` as model checkpoint."
   ]
  },
  {
   "cell_type": "code",
   "execution_count": 1,
   "metadata": {},
   "outputs": [],
   "source": [
    "%load_ext autoreload\n",
    "%autoreload 2"
   ]
  },
  {
   "cell_type": "code",
   "execution_count": 2,
   "metadata": {},
   "outputs": [],
   "source": [
    "import torch\n",
    "from datasets import load_dataset\n",
    "from transformers import AutoModelForSequenceClassification, AutoTokenizer\n",
    "\n",
    "from ferret import (\n",
    "    Benchmark,\n",
    "    GradientExplainer,\n",
    "    IntegratedGradientExplainer,\n",
    "    LIMEExplainer,\n",
    "    SHAPExplainer,\n",
    ")\n",
    "\n",
    "device = \"cuda:0\" if torch.cuda.is_available() else \"cpu\""
   ]
  },
  {
   "cell_type": "code",
   "execution_count": 3,
   "metadata": {},
   "outputs": [],
   "source": [
    "premise = \"I first thought that I liked the movie, but upon second thought it was actually disappointing.\"\n",
    "hypothesis = \"The movie was good.\"\n",
    "sample = (premise, hypothesis)"
   ]
  },
  {
   "cell_type": "code",
   "execution_count": 4,
   "metadata": {},
   "outputs": [
    {
     "name": "stderr",
     "output_type": "stream",
     "text": [
      "The sentencepiece tokenizer that you are converting to a fast tokenizer uses the byte fallback option which is not implemented in the fast tokenizers. In practice this means that the fast version of the tokenizer can produce unknown tokens whereas the sentencepiece version would have converted these unknown tokens into a sequence of byte tokens matching the original piece of text.\n"
     ]
    }
   ],
   "source": [
    "model_name = \"MoritzLaurer/DeBERTa-v3-base-mnli-fever-anli\"\n",
    "tokenizer = AutoTokenizer.from_pretrained(model_name)\n",
    "model = AutoModelForSequenceClassification.from_pretrained(model_name).to(device)"
   ]
  },
  {
   "cell_type": "code",
   "execution_count": 5,
   "metadata": {},
   "outputs": [
    {
     "name": "stderr",
     "output_type": "stream",
     "text": [
      "No helper provided. Using default 'text-classification' helper.\n"
     ]
    }
   ],
   "source": [
    "ig = IntegratedGradientExplainer(model, tokenizer, multiply_by_inputs=True)\n",
    "g = GradientExplainer(model, tokenizer, multiply_by_inputs=True)\n",
    "l = LIMEExplainer(model, tokenizer)"
   ]
  },
  {
   "cell_type": "code",
   "execution_count": 6,
   "metadata": {},
   "outputs": [
    {
     "name": "stderr",
     "output_type": "stream",
     "text": [
      "Overriding helper for explainer <ferret.explainers.gradient.IntegratedGradientExplainer object at 0x107526f50>\n",
      "Overriding helper for explainer <ferret.explainers.gradient.GradientExplainer object at 0x28d55d660>\n",
      "Overriding helper for explainer <ferret.explainers.lime.LIMEExplainer object at 0x107527d90>\n"
     ]
    }
   ],
   "source": [
    "bench = Benchmark(model, tokenizer, task_name=\"nli\", explainers=[ig, g, l])"
   ]
  },
  {
   "cell_type": "markdown",
   "metadata": {},
   "source": [
    "You can use `targets` to see what are the available targets classes. You can then use them as integers (e.g., `2`) or in textual form (e.g., `contradiction`)."
   ]
  },
  {
   "cell_type": "code",
   "execution_count": 7,
   "metadata": {},
   "outputs": [
    {
     "data": {
      "text/plain": [
       "{0: 'entailment', 1: 'neutral', 2: 'contradiction'}"
      ]
     },
     "execution_count": 7,
     "metadata": {},
     "output_type": "execute_result"
    }
   ],
   "source": [
    "bench.targets"
   ]
  },
  {
   "cell_type": "code",
   "execution_count": 8,
   "metadata": {},
   "outputs": [
    {
     "data": {
      "text/plain": [
       "{'entailment': 0.06558265537023544,\n",
       " 'neutral': 0.17329996824264526,\n",
       " 'contradiction': 0.7611173987388611}"
      ]
     },
     "execution_count": 8,
     "metadata": {},
     "output_type": "execute_result"
    }
   ],
   "source": [
    "# get the prediction from our model\n",
    "bench.score(sample)"
   ]
  },
  {
   "cell_type": "code",
   "execution_count": 9,
   "metadata": {},
   "outputs": [
    {
     "data": {
      "application/vnd.jupyter.widget-view+json": {
       "model_id": "",
       "version_major": 2,
       "version_minor": 0
      },
      "text/plain": [
       "Explainer:   0%|          | 0/3 [00:00<?, ?it/s]"
      ]
     },
     "metadata": {},
     "output_type": "display_data"
    },
    {
     "data": {
      "application/vnd.jupyter.widget-view+json": {
       "model_id": "",
       "version_major": 2,
       "version_minor": 0
      },
      "text/plain": [
       "Batch:   0%|          | 0/85 [00:00<?, ?it/s]"
      ]
     },
     "metadata": {},
     "output_type": "display_data"
    }
   ],
   "source": [
    "# explain the contradiction class\n",
    "exp = bench.explain(sample, target=\"contradiction\")"
   ]
  },
  {
   "cell_type": "code",
   "execution_count": 10,
   "metadata": {},
   "outputs": [
    {
     "data": {
      "text/html": [
       "<style type=\"text/css\">\n",
       "#T_edc39 thead tr th:nth-child(1) {\n",
       "  position: sticky;\n",
       "  background-color: inherit;\n",
       "  left: 0px;\n",
       "  z-index: 3 !important;\n",
       "}\n",
       "#T_edc39 tbody tr th:nth-child(1) {\n",
       "  position: sticky;\n",
       "  background-color: inherit;\n",
       "  left: 0px;\n",
       "  z-index: 1;\n",
       "}\n",
       "#T_edc39_row0_col0, #T_edc39_row0_col25, #T_edc39_row1_col0, #T_edc39_row1_col1, #T_edc39_row1_col2, #T_edc39_row1_col3, #T_edc39_row1_col4, #T_edc39_row1_col5, #T_edc39_row1_col6, #T_edc39_row1_col9, #T_edc39_row1_col10, #T_edc39_row1_col11, #T_edc39_row1_col12, #T_edc39_row1_col16, #T_edc39_row1_col17, #T_edc39_row1_col19, #T_edc39_row1_col23, #T_edc39_row1_col24, #T_edc39_row1_col25, #T_edc39_row2_col0, #T_edc39_row2_col9, #T_edc39_row2_col15, #T_edc39_row2_col19, #T_edc39_row2_col25 {\n",
       "  background-color: #f2f1f1;\n",
       "  color: #000000;\n",
       "}\n",
       "#T_edc39_row0_col1 {\n",
       "  background-color: #d8e1e8;\n",
       "  color: #000000;\n",
       "}\n",
       "#T_edc39_row0_col2 {\n",
       "  background-color: #ecc2c5;\n",
       "  color: #000000;\n",
       "}\n",
       "#T_edc39_row0_col3, #T_edc39_row2_col2, #T_edc39_row2_col5, #T_edc39_row2_col13 {\n",
       "  background-color: #eceef1;\n",
       "  color: #000000;\n",
       "}\n",
       "#T_edc39_row0_col4 {\n",
       "  background-color: #eff0f2;\n",
       "  color: #000000;\n",
       "}\n",
       "#T_edc39_row0_col5 {\n",
       "  background-color: #f1e8e9;\n",
       "  color: #000000;\n",
       "}\n",
       "#T_edc39_row0_col6 {\n",
       "  background-color: #4e84ad;\n",
       "  color: #f1f1f1;\n",
       "}\n",
       "#T_edc39_row0_col7, #T_edc39_row0_col9, #T_edc39_row2_col10 {\n",
       "  background-color: #f2eded;\n",
       "  color: #000000;\n",
       "}\n",
       "#T_edc39_row0_col8 {\n",
       "  background-color: #f1e5e6;\n",
       "  color: #000000;\n",
       "}\n",
       "#T_edc39_row0_col10 {\n",
       "  background-color: #edc6c9;\n",
       "  color: #000000;\n",
       "}\n",
       "#T_edc39_row0_col11 {\n",
       "  background-color: #edc9cb;\n",
       "  color: #000000;\n",
       "}\n",
       "#T_edc39_row0_col12 {\n",
       "  background-color: #da3b46;\n",
       "  color: #f1f1f1;\n",
       "}\n",
       "#T_edc39_row0_col13 {\n",
       "  background-color: #e9acb1;\n",
       "  color: #000000;\n",
       "}\n",
       "#T_edc39_row0_col14 {\n",
       "  background-color: #adc4d6;\n",
       "  color: #000000;\n",
       "}\n",
       "#T_edc39_row0_col15 {\n",
       "  background-color: #a2bdd1;\n",
       "  color: #000000;\n",
       "}\n",
       "#T_edc39_row0_col16 {\n",
       "  background-color: #a1bcd0;\n",
       "  color: #000000;\n",
       "}\n",
       "#T_edc39_row0_col17 {\n",
       "  background-color: #efd6d7;\n",
       "  color: #000000;\n",
       "}\n",
       "#T_edc39_row0_col18 {\n",
       "  background-color: #e9abaf;\n",
       "  color: #000000;\n",
       "}\n",
       "#T_edc39_row0_col19 {\n",
       "  background-color: #bfd0dd;\n",
       "  color: #000000;\n",
       "}\n",
       "#T_edc39_row0_col20, #T_edc39_row1_col7, #T_edc39_row1_col8, #T_edc39_row1_col13, #T_edc39_row1_col14, #T_edc39_row1_col15, #T_edc39_row1_col18, #T_edc39_row1_col20, #T_edc39_row1_col21, #T_edc39_row1_col22, #T_edc39_row2_col8 {\n",
       "  background-color: #f1f1f2;\n",
       "  color: #000000;\n",
       "}\n",
       "#T_edc39_row0_col21 {\n",
       "  background-color: #d3dee6;\n",
       "  color: #000000;\n",
       "}\n",
       "#T_edc39_row0_col22 {\n",
       "  background-color: #90b1c9;\n",
       "  color: #000000;\n",
       "}\n",
       "#T_edc39_row0_col23 {\n",
       "  background-color: #7ba3c0;\n",
       "  color: #f1f1f1;\n",
       "}\n",
       "#T_edc39_row0_col24 {\n",
       "  background-color: #cdd9e3;\n",
       "  color: #000000;\n",
       "}\n",
       "#T_edc39_row2_col1, #T_edc39_row2_col11, #T_edc39_row2_col14, #T_edc39_row2_col24 {\n",
       "  background-color: #f2ebeb;\n",
       "  color: #000000;\n",
       "}\n",
       "#T_edc39_row2_col3 {\n",
       "  background-color: #f0e0e1;\n",
       "  color: #000000;\n",
       "}\n",
       "#T_edc39_row2_col4 {\n",
       "  background-color: #f1eaea;\n",
       "  color: #000000;\n",
       "}\n",
       "#T_edc39_row2_col6 {\n",
       "  background-color: #e4e9ed;\n",
       "  color: #000000;\n",
       "}\n",
       "#T_edc39_row2_col7 {\n",
       "  background-color: #e9edf0;\n",
       "  color: #000000;\n",
       "}\n",
       "#T_edc39_row2_col12, #T_edc39_row2_col22 {\n",
       "  background-color: #e5eaee;\n",
       "  color: #000000;\n",
       "}\n",
       "#T_edc39_row2_col16 {\n",
       "  background-color: #f2efef;\n",
       "  color: #000000;\n",
       "}\n",
       "#T_edc39_row2_col17 {\n",
       "  background-color: #eab6ba;\n",
       "  color: #000000;\n",
       "}\n",
       "#T_edc39_row2_col18 {\n",
       "  background-color: #ebeef0;\n",
       "  color: #000000;\n",
       "}\n",
       "#T_edc39_row2_col20 {\n",
       "  background-color: #edeff1;\n",
       "  color: #000000;\n",
       "}\n",
       "#T_edc39_row2_col21 {\n",
       "  background-color: #e1e7ec;\n",
       "  color: #000000;\n",
       "}\n",
       "#T_edc39_row2_col23 {\n",
       "  background-color: #efdbdd;\n",
       "  color: #000000;\n",
       "}\n",
       "</style>\n",
       "<table id=\"T_edc39\">\n",
       "  <thead>\n",
       "    <tr>\n",
       "      <th class=\"blank level0\" >&nbsp;</th>\n",
       "      <th id=\"T_edc39_level0_col0\" class=\"col_heading level0 col0\" >[CLS]</th>\n",
       "      <th id=\"T_edc39_level0_col1\" class=\"col_heading level0 col1\" >▁I_0</th>\n",
       "      <th id=\"T_edc39_level0_col2\" class=\"col_heading level0 col2\" >▁first</th>\n",
       "      <th id=\"T_edc39_level0_col3\" class=\"col_heading level0 col3\" >▁thought_0</th>\n",
       "      <th id=\"T_edc39_level0_col4\" class=\"col_heading level0 col4\" >▁that</th>\n",
       "      <th id=\"T_edc39_level0_col5\" class=\"col_heading level0 col5\" >▁I_1</th>\n",
       "      <th id=\"T_edc39_level0_col6\" class=\"col_heading level0 col6\" >▁liked</th>\n",
       "      <th id=\"T_edc39_level0_col7\" class=\"col_heading level0 col7\" >▁the</th>\n",
       "      <th id=\"T_edc39_level0_col8\" class=\"col_heading level0 col8\" >▁movie_0</th>\n",
       "      <th id=\"T_edc39_level0_col9\" class=\"col_heading level0 col9\" >,</th>\n",
       "      <th id=\"T_edc39_level0_col10\" class=\"col_heading level0 col10\" >▁but</th>\n",
       "      <th id=\"T_edc39_level0_col11\" class=\"col_heading level0 col11\" >▁upon</th>\n",
       "      <th id=\"T_edc39_level0_col12\" class=\"col_heading level0 col12\" >▁second</th>\n",
       "      <th id=\"T_edc39_level0_col13\" class=\"col_heading level0 col13\" >▁thought_1</th>\n",
       "      <th id=\"T_edc39_level0_col14\" class=\"col_heading level0 col14\" >▁it</th>\n",
       "      <th id=\"T_edc39_level0_col15\" class=\"col_heading level0 col15\" >▁was_0</th>\n",
       "      <th id=\"T_edc39_level0_col16\" class=\"col_heading level0 col16\" >▁actually</th>\n",
       "      <th id=\"T_edc39_level0_col17\" class=\"col_heading level0 col17\" >▁disappointing</th>\n",
       "      <th id=\"T_edc39_level0_col18\" class=\"col_heading level0 col18\" >._0</th>\n",
       "      <th id=\"T_edc39_level0_col19\" class=\"col_heading level0 col19\" >[SEP]_0</th>\n",
       "      <th id=\"T_edc39_level0_col20\" class=\"col_heading level0 col20\" >▁The</th>\n",
       "      <th id=\"T_edc39_level0_col21\" class=\"col_heading level0 col21\" >▁movie_1</th>\n",
       "      <th id=\"T_edc39_level0_col22\" class=\"col_heading level0 col22\" >▁was_1</th>\n",
       "      <th id=\"T_edc39_level0_col23\" class=\"col_heading level0 col23\" >▁good</th>\n",
       "      <th id=\"T_edc39_level0_col24\" class=\"col_heading level0 col24\" >._1</th>\n",
       "      <th id=\"T_edc39_level0_col25\" class=\"col_heading level0 col25\" >[SEP]_1</th>\n",
       "    </tr>\n",
       "  </thead>\n",
       "  <tbody>\n",
       "    <tr>\n",
       "      <th id=\"T_edc39_level0_row0\" class=\"row_heading level0 row0\" >Integrated Gradient (x Input)</th>\n",
       "      <td id=\"T_edc39_row0_col0\" class=\"data row0 col0\" >0.00</td>\n",
       "      <td id=\"T_edc39_row0_col1\" class=\"data row0 col1\" >-0.14</td>\n",
       "      <td id=\"T_edc39_row0_col2\" class=\"data row0 col2\" >0.26</td>\n",
       "      <td id=\"T_edc39_row0_col3\" class=\"data row0 col3\" >-0.03</td>\n",
       "      <td id=\"T_edc39_row0_col4\" class=\"data row0 col4\" >-0.01</td>\n",
       "      <td id=\"T_edc39_row0_col5\" class=\"data row0 col5\" >0.05</td>\n",
       "      <td id=\"T_edc39_row0_col6\" class=\"data row0 col6\" >-0.92</td>\n",
       "      <td id=\"T_edc39_row0_col7\" class=\"data row0 col7\" >0.03</td>\n",
       "      <td id=\"T_edc39_row0_col8\" class=\"data row0 col8\" >0.07</td>\n",
       "      <td id=\"T_edc39_row0_col9\" class=\"data row0 col9\" >0.03</td>\n",
       "      <td id=\"T_edc39_row0_col10\" class=\"data row0 col10\" >0.24</td>\n",
       "      <td id=\"T_edc39_row0_col11\" class=\"data row0 col11\" >0.22</td>\n",
       "      <td id=\"T_edc39_row0_col12\" class=\"data row0 col12\" >1.05</td>\n",
       "      <td id=\"T_edc39_row0_col13\" class=\"data row0 col13\" >0.38</td>\n",
       "      <td id=\"T_edc39_row0_col14\" class=\"data row0 col14\" >-0.39</td>\n",
       "      <td id=\"T_edc39_row0_col15\" class=\"data row0 col15\" >-0.45</td>\n",
       "      <td id=\"T_edc39_row0_col16\" class=\"data row0 col16\" >-0.45</td>\n",
       "      <td id=\"T_edc39_row0_col17\" class=\"data row0 col17\" >0.15</td>\n",
       "      <td id=\"T_edc39_row0_col18\" class=\"data row0 col18\" >0.39</td>\n",
       "      <td id=\"T_edc39_row0_col19\" class=\"data row0 col19\" >-0.28</td>\n",
       "      <td id=\"T_edc39_row0_col20\" class=\"data row0 col20\" >-0.00</td>\n",
       "      <td id=\"T_edc39_row0_col21\" class=\"data row0 col21\" >-0.17</td>\n",
       "      <td id=\"T_edc39_row0_col22\" class=\"data row0 col22\" >-0.55</td>\n",
       "      <td id=\"T_edc39_row0_col23\" class=\"data row0 col23\" >-0.67</td>\n",
       "      <td id=\"T_edc39_row0_col24\" class=\"data row0 col24\" >-0.21</td>\n",
       "      <td id=\"T_edc39_row0_col25\" class=\"data row0 col25\" >0.00</td>\n",
       "    </tr>\n",
       "    <tr>\n",
       "      <th id=\"T_edc39_level0_row1\" class=\"row_heading level0 row1\" >Gradient (x Input)</th>\n",
       "      <td id=\"T_edc39_row1_col0\" class=\"data row1 col0\" >0.00</td>\n",
       "      <td id=\"T_edc39_row1_col1\" class=\"data row1 col1\" >0.00</td>\n",
       "      <td id=\"T_edc39_row1_col2\" class=\"data row1 col2\" >0.00</td>\n",
       "      <td id=\"T_edc39_row1_col3\" class=\"data row1 col3\" >0.00</td>\n",
       "      <td id=\"T_edc39_row1_col4\" class=\"data row1 col4\" >0.00</td>\n",
       "      <td id=\"T_edc39_row1_col5\" class=\"data row1 col5\" >0.00</td>\n",
       "      <td id=\"T_edc39_row1_col6\" class=\"data row1 col6\" >0.00</td>\n",
       "      <td id=\"T_edc39_row1_col7\" class=\"data row1 col7\" >-0.00</td>\n",
       "      <td id=\"T_edc39_row1_col8\" class=\"data row1 col8\" >-0.00</td>\n",
       "      <td id=\"T_edc39_row1_col9\" class=\"data row1 col9\" >0.00</td>\n",
       "      <td id=\"T_edc39_row1_col10\" class=\"data row1 col10\" >0.00</td>\n",
       "      <td id=\"T_edc39_row1_col11\" class=\"data row1 col11\" >0.00</td>\n",
       "      <td id=\"T_edc39_row1_col12\" class=\"data row1 col12\" >0.00</td>\n",
       "      <td id=\"T_edc39_row1_col13\" class=\"data row1 col13\" >-0.00</td>\n",
       "      <td id=\"T_edc39_row1_col14\" class=\"data row1 col14\" >-0.00</td>\n",
       "      <td id=\"T_edc39_row1_col15\" class=\"data row1 col15\" >-0.00</td>\n",
       "      <td id=\"T_edc39_row1_col16\" class=\"data row1 col16\" >0.00</td>\n",
       "      <td id=\"T_edc39_row1_col17\" class=\"data row1 col17\" >0.00</td>\n",
       "      <td id=\"T_edc39_row1_col18\" class=\"data row1 col18\" >-0.00</td>\n",
       "      <td id=\"T_edc39_row1_col19\" class=\"data row1 col19\" >0.00</td>\n",
       "      <td id=\"T_edc39_row1_col20\" class=\"data row1 col20\" >-0.00</td>\n",
       "      <td id=\"T_edc39_row1_col21\" class=\"data row1 col21\" >-0.00</td>\n",
       "      <td id=\"T_edc39_row1_col22\" class=\"data row1 col22\" >-0.00</td>\n",
       "      <td id=\"T_edc39_row1_col23\" class=\"data row1 col23\" >0.00</td>\n",
       "      <td id=\"T_edc39_row1_col24\" class=\"data row1 col24\" >0.00</td>\n",
       "      <td id=\"T_edc39_row1_col25\" class=\"data row1 col25\" >0.00</td>\n",
       "    </tr>\n",
       "    <tr>\n",
       "      <th id=\"T_edc39_level0_row2\" class=\"row_heading level0 row2\" >LIME</th>\n",
       "      <td id=\"T_edc39_row2_col0\" class=\"data row2 col0\" >0.00</td>\n",
       "      <td id=\"T_edc39_row2_col1\" class=\"data row2 col1\" >0.04</td>\n",
       "      <td id=\"T_edc39_row2_col2\" class=\"data row2 col2\" >-0.03</td>\n",
       "      <td id=\"T_edc39_row2_col3\" class=\"data row2 col3\" >0.10</td>\n",
       "      <td id=\"T_edc39_row2_col4\" class=\"data row2 col4\" >0.04</td>\n",
       "      <td id=\"T_edc39_row2_col5\" class=\"data row2 col5\" >-0.03</td>\n",
       "      <td id=\"T_edc39_row2_col6\" class=\"data row2 col6\" >-0.07</td>\n",
       "      <td id=\"T_edc39_row2_col7\" class=\"data row2 col7\" >-0.04</td>\n",
       "      <td id=\"T_edc39_row2_col8\" class=\"data row2 col8\" >-0.00</td>\n",
       "      <td id=\"T_edc39_row2_col9\" class=\"data row2 col9\" >0.01</td>\n",
       "      <td id=\"T_edc39_row2_col10\" class=\"data row2 col10\" >0.03</td>\n",
       "      <td id=\"T_edc39_row2_col11\" class=\"data row2 col11\" >0.03</td>\n",
       "      <td id=\"T_edc39_row2_col12\" class=\"data row2 col12\" >-0.07</td>\n",
       "      <td id=\"T_edc39_row2_col13\" class=\"data row2 col13\" >-0.03</td>\n",
       "      <td id=\"T_edc39_row2_col14\" class=\"data row2 col14\" >0.03</td>\n",
       "      <td id=\"T_edc39_row2_col15\" class=\"data row2 col15\" >0.00</td>\n",
       "      <td id=\"T_edc39_row2_col16\" class=\"data row2 col16\" >0.01</td>\n",
       "      <td id=\"T_edc39_row2_col17\" class=\"data row2 col17\" >0.32</td>\n",
       "      <td id=\"T_edc39_row2_col18\" class=\"data row2 col18\" >-0.04</td>\n",
       "      <td id=\"T_edc39_row2_col19\" class=\"data row2 col19\" >0.00</td>\n",
       "      <td id=\"T_edc39_row2_col20\" class=\"data row2 col20\" >-0.02</td>\n",
       "      <td id=\"T_edc39_row2_col21\" class=\"data row2 col21\" >-0.09</td>\n",
       "      <td id=\"T_edc39_row2_col22\" class=\"data row2 col22\" >-0.06</td>\n",
       "      <td id=\"T_edc39_row2_col23\" class=\"data row2 col23\" >0.12</td>\n",
       "      <td id=\"T_edc39_row2_col24\" class=\"data row2 col24\" >0.04</td>\n",
       "      <td id=\"T_edc39_row2_col25\" class=\"data row2 col25\" >0.00</td>\n",
       "    </tr>\n",
       "  </tbody>\n",
       "</table>\n"
      ],
      "text/plain": [
       "<pandas.io.formats.style.Styler at 0x29ed31540>"
      ]
     },
     "execution_count": 10,
     "metadata": {},
     "output_type": "execute_result"
    }
   ],
   "source": [
    "# show explanations\n",
    "bench.show_table(exp)"
   ]
  },
  {
   "cell_type": "code",
   "execution_count": 11,
   "metadata": {},
   "outputs": [
    {
     "data": {
      "application/vnd.jupyter.widget-view+json": {
       "model_id": "",
       "version_major": 2,
       "version_minor": 0
      },
      "text/plain": [
       "Explanation eval:   0%|          | 0/3 [00:00<?, ?it/s]"
      ]
     },
     "metadata": {},
     "output_type": "display_data"
    },
    {
     "data": {
      "text/html": [
       "<style type=\"text/css\">\n",
       "#T_c1b8d thead tr th:nth-child(1) {\n",
       "  position: sticky;\n",
       "  background-color: inherit;\n",
       "  left: 0px;\n",
       "  z-index: 3 !important;\n",
       "}\n",
       "#T_c1b8d tbody tr th:nth-child(1) {\n",
       "  position: sticky;\n",
       "  background-color: inherit;\n",
       "  left: 0px;\n",
       "  z-index: 1;\n",
       "}\n",
       "#T_c1b8d_row0_col0 {\n",
       "  background-color: #a044a0;\n",
       "  color: #f1f1f1;\n",
       "}\n",
       "#T_c1b8d_row0_col1 {\n",
       "  background-color: #debdde;\n",
       "  color: #000000;\n",
       "}\n",
       "#T_c1b8d_row0_col2 {\n",
       "  background-color: #c085c0;\n",
       "  color: #f1f1f1;\n",
       "}\n",
       "#T_c1b8d_row1_col0 {\n",
       "  background-color: #962d96;\n",
       "  color: #f1f1f1;\n",
       "}\n",
       "#T_c1b8d_row1_col1 {\n",
       "  background-color: #d2a5d2;\n",
       "  color: #000000;\n",
       "}\n",
       "#T_c1b8d_row1_col2 {\n",
       "  background-color: #ad5fad;\n",
       "  color: #f1f1f1;\n",
       "}\n",
       "#T_c1b8d_row2_col0 {\n",
       "  background-color: #922792;\n",
       "  color: #f1f1f1;\n",
       "}\n",
       "#T_c1b8d_row2_col1 {\n",
       "  background-color: #922592;\n",
       "  color: #f1f1f1;\n",
       "}\n",
       "#T_c1b8d_row2_col2 {\n",
       "  background-color: #942994;\n",
       "  color: #f1f1f1;\n",
       "}\n",
       "</style>\n",
       "<table id=\"T_c1b8d\">\n",
       "  <thead>\n",
       "    <tr>\n",
       "      <th class=\"blank level0\" >&nbsp;</th>\n",
       "      <th id=\"T_c1b8d_level0_col0\" class=\"col_heading level0 col0\" >aopc_compr</th>\n",
       "      <th id=\"T_c1b8d_level0_col1\" class=\"col_heading level0 col1\" >aopc_suff</th>\n",
       "      <th id=\"T_c1b8d_level0_col2\" class=\"col_heading level0 col2\" >taucorr_loo</th>\n",
       "    </tr>\n",
       "    <tr>\n",
       "      <th class=\"index_name level0\" >Explainer</th>\n",
       "      <th class=\"blank col0\" >&nbsp;</th>\n",
       "      <th class=\"blank col1\" >&nbsp;</th>\n",
       "      <th class=\"blank col2\" >&nbsp;</th>\n",
       "    </tr>\n",
       "  </thead>\n",
       "  <tbody>\n",
       "    <tr>\n",
       "      <th id=\"T_c1b8d_level0_row0\" class=\"row_heading level0 row0\" >Integrated Gradient (x Input)</th>\n",
       "      <td id=\"T_c1b8d_row0_col0\" class=\"data row0 col0\" >0.43</td>\n",
       "      <td id=\"T_c1b8d_row0_col1\" class=\"data row0 col1\" >0.74</td>\n",
       "      <td id=\"T_c1b8d_row0_col2\" class=\"data row0 col2\" >-0.11</td>\n",
       "    </tr>\n",
       "    <tr>\n",
       "      <th id=\"T_c1b8d_level0_row1\" class=\"row_heading level0 row1\" >Gradient (x Input)</th>\n",
       "      <td id=\"T_c1b8d_row1_col0\" class=\"data row1 col0\" >0.62</td>\n",
       "      <td id=\"T_c1b8d_row1_col1\" class=\"data row1 col1\" >0.64</td>\n",
       "      <td id=\"T_c1b8d_row1_col2\" class=\"data row1 col2\" >0.21</td>\n",
       "    </tr>\n",
       "    <tr>\n",
       "      <th id=\"T_c1b8d_level0_row2\" class=\"row_heading level0 row2\" >LIME</th>\n",
       "      <td id=\"T_c1b8d_row2_col0\" class=\"data row2 col0\" >0.67</td>\n",
       "      <td id=\"T_c1b8d_row2_col1\" class=\"data row2 col1\" >-0.15</td>\n",
       "      <td id=\"T_c1b8d_row2_col2\" class=\"data row2 col2\" >0.65</td>\n",
       "    </tr>\n",
       "  </tbody>\n",
       "</table>\n"
      ],
      "text/plain": [
       "<pandas.io.formats.style.Styler at 0x29e557580>"
      ]
     },
     "execution_count": 11,
     "metadata": {},
     "output_type": "execute_result"
    }
   ],
   "source": [
    "# evaluate explanations and show faithfulness metrics\n",
    "bench.show_evaluation_table(bench.evaluate_explanations(exp, target=\"contradiction\"))"
   ]
  }
 ],
 "metadata": {
  "kernelspec": {
   "display_name": "Python 3 (ipykernel)",
   "language": "python",
   "name": "python3"
  },
  "language_info": {
   "codemirror_mode": {
    "name": "ipython",
    "version": 3
   },
   "file_extension": ".py",
   "mimetype": "text/x-python",
   "name": "python",
   "nbconvert_exporter": "python",
   "pygments_lexer": "ipython3",
   "version": "3.10.11"
  },
  "vscode": {
   "interpreter": {
    "hash": "78645345e5495b5ada400086274ed52038b33bbda7f86ad5b81938b6e8cf303a"
   }
  }
 },
 "nbformat": 4,
 "nbformat_minor": 4
}
