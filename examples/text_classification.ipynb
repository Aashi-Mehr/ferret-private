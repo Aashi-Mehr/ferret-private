{
 "cells": [
  {
   "cell_type": "markdown",
   "metadata": {},
   "source": [
    "# Tutorial: Sentiment Classification\n",
    "\n",
    "In this short tutorial, we show how to use *ferret* to use and evaluate post-hoc approaches in the task of Sentiment Classification.\n",
    "\n",
    "We will use `distilbert-base-uncased-finetuned-sst-2-english` as model checkpoint."
   ]
  },
  {
   "cell_type": "code",
   "execution_count": 1,
   "metadata": {},
   "outputs": [],
   "source": [
    "%load_ext autoreload\n",
    "%autoreload 2"
   ]
  },
  {
   "cell_type": "code",
   "execution_count": 2,
   "metadata": {},
   "outputs": [
    {
     "data": {
      "text/plain": [
       "'cpu'"
      ]
     },
     "execution_count": 2,
     "metadata": {},
     "output_type": "execute_result"
    }
   ],
   "source": [
    "import torch\n",
    "from transformers import AutoModelForSequenceClassification, AutoTokenizer\n",
    "\n",
    "from ferret import (\n",
    "    Benchmark,\n",
    "    GradientExplainer,\n",
    "    IntegratedGradientExplainer,\n",
    "    LIMEExplainer,\n",
    "    SHAPExplainer,\n",
    ")\n",
    "\n",
    "device = (\n",
    "    \"cuda:0\"\n",
    "    if torch.cuda.is_available()\n",
    "    else \"cpu\"\n",
    ")\n",
    "device"
   ]
  },
  {
   "cell_type": "code",
   "execution_count": 3,
   "metadata": {},
   "outputs": [],
   "source": [
    "model_name = \"distilbert-base-uncased-finetuned-sst-2-english\"\n",
    "tokenizer = AutoTokenizer.from_pretrained(model_name)\n",
    "model = AutoModelForSequenceClassification.from_pretrained(model_name).to(device)"
   ]
  },
  {
   "cell_type": "code",
   "execution_count": 4,
   "metadata": {},
   "outputs": [
    {
     "name": "stderr",
     "output_type": "stream",
     "text": [
      "No helper provided. Using default 'text-classification' helper.\n"
     ]
    }
   ],
   "source": [
    "ig = IntegratedGradientExplainer(model, tokenizer, multiply_by_inputs=True)\n",
    "g = GradientExplainer(model, tokenizer, multiply_by_inputs=True)\n",
    "s = SHAPExplainer(model, tokenizer)\n",
    "l = LIMEExplainer(model, tokenizer)"
   ]
  },
  {
   "cell_type": "code",
   "execution_count": 5,
   "metadata": {},
   "outputs": [
    {
     "name": "stderr",
     "output_type": "stream",
     "text": [
      "Overriding helper for explainer <ferret.explainers.gradient.IntegratedGradientExplainer object at 0x106bfba60>\n",
      "Overriding helper for explainer <ferret.explainers.gradient.GradientExplainer object at 0x106bf92d0>\n",
      "Overriding helper for explainer <ferret.explainers.shap.SHAPExplainer object at 0x106bfbd30>\n",
      "Overriding helper for explainer <ferret.explainers.lime.LIMEExplainer object at 0x28b8da560>\n"
     ]
    }
   ],
   "source": [
    "bench = Benchmark(model, tokenizer, explainers=[ig, g, s, l])"
   ]
  },
  {
   "cell_type": "code",
   "execution_count": 6,
   "metadata": {},
   "outputs": [],
   "source": [
    "text = \"You are the sweatest person, I wish I had known you before.\""
   ]
  },
  {
   "cell_type": "code",
   "execution_count": 7,
   "metadata": {},
   "outputs": [
    {
     "data": {
      "text/plain": [
       "{'NEGATIVE': 0.00674427067860961, 'POSITIVE': 0.9932557344436646}"
      ]
     },
     "execution_count": 7,
     "metadata": {},
     "output_type": "execute_result"
    }
   ],
   "source": [
    "# get the prediction from our model\n",
    "bench.score(text)"
   ]
  },
  {
   "cell_type": "code",
   "execution_count": 8,
   "metadata": {},
   "outputs": [
    {
     "data": {
      "application/vnd.jupyter.widget-view+json": {
       "model_id": "",
       "version_major": 2,
       "version_minor": 0
      },
      "text/plain": [
       "Explainer:   0%|          | 0/4 [00:00<?, ?it/s]"
      ]
     },
     "metadata": {},
     "output_type": "display_data"
    },
    {
     "data": {
      "application/vnd.jupyter.widget-view+json": {
       "model_id": "",
       "version_major": 2,
       "version_minor": 0
      },
      "text/plain": [
       "Batch:   0%|          | 0/37 [00:00<?, ?it/s]"
      ]
     },
     "metadata": {},
     "output_type": "display_data"
    }
   ],
   "source": [
    "# explain the positive class\n",
    "exp = bench.explain(text, target=\"POSITIVE\", normalize_scores=False)"
   ]
  },
  {
   "cell_type": "code",
   "execution_count": 9,
   "metadata": {},
   "outputs": [
    {
     "data": {
      "text/html": [
       "<style type=\"text/css\">\n",
       "#T_1588f thead tr th:nth-child(1) {\n",
       "  position: sticky;\n",
       "  background-color: inherit;\n",
       "  left: 0px;\n",
       "  z-index: 3 !important;\n",
       "}\n",
       "#T_1588f tbody tr th:nth-child(1) {\n",
       "  position: sticky;\n",
       "  background-color: inherit;\n",
       "  left: 0px;\n",
       "  z-index: 1;\n",
       "}\n",
       "#T_1588f_row0_col0, #T_1588f_row0_col3, #T_1588f_row0_col16, #T_1588f_row2_col4, #T_1588f_row2_col16, #T_1588f_row3_col0, #T_1588f_row3_col16 {\n",
       "  background-color: #f2f1f1;\n",
       "  color: #000000;\n",
       "}\n",
       "#T_1588f_row0_col1 {\n",
       "  background-color: #d6e0e7;\n",
       "  color: #000000;\n",
       "}\n",
       "#T_1588f_row0_col2 {\n",
       "  background-color: #df646d;\n",
       "  color: #f1f1f1;\n",
       "}\n",
       "#T_1588f_row0_col4, #T_1588f_row1_col11 {\n",
       "  background-color: #efd6d7;\n",
       "  color: #000000;\n",
       "}\n",
       "#T_1588f_row0_col5 {\n",
       "  background-color: #da3b46;\n",
       "  color: #f1f1f1;\n",
       "}\n",
       "#T_1588f_row0_col6 {\n",
       "  background-color: #e9a8ad;\n",
       "  color: #000000;\n",
       "}\n",
       "#T_1588f_row0_col7 {\n",
       "  background-color: #dce3ea;\n",
       "  color: #000000;\n",
       "}\n",
       "#T_1588f_row0_col8, #T_1588f_row0_col11 {\n",
       "  background-color: #eecfd1;\n",
       "  color: #000000;\n",
       "}\n",
       "#T_1588f_row0_col9 {\n",
       "  background-color: #bdcfdd;\n",
       "  color: #000000;\n",
       "}\n",
       "#T_1588f_row0_col10 {\n",
       "  background-color: #eab6ba;\n",
       "  color: #000000;\n",
       "}\n",
       "#T_1588f_row0_col12, #T_1588f_row1_col1, #T_1588f_row1_col15, #T_1588f_row2_col0, #T_1588f_row2_col11, #T_1588f_row2_col12, #T_1588f_row2_col15 {\n",
       "  background-color: #f1f1f2;\n",
       "  color: #000000;\n",
       "}\n",
       "#T_1588f_row0_col13 {\n",
       "  background-color: #e69298;\n",
       "  color: #f1f1f1;\n",
       "}\n",
       "#T_1588f_row0_col14, #T_1588f_row1_col3 {\n",
       "  background-color: #b8ccda;\n",
       "  color: #000000;\n",
       "}\n",
       "#T_1588f_row0_col15, #T_1588f_row2_col3 {\n",
       "  background-color: #f2eeee;\n",
       "  color: #000000;\n",
       "}\n",
       "#T_1588f_row1_col0 {\n",
       "  background-color: #e2e8ed;\n",
       "  color: #000000;\n",
       "}\n",
       "#T_1588f_row1_col2 {\n",
       "  background-color: #dde4ea;\n",
       "  color: #000000;\n",
       "}\n",
       "#T_1588f_row1_col4 {\n",
       "  background-color: #e7ebee;\n",
       "  color: #000000;\n",
       "}\n",
       "#T_1588f_row1_col5, #T_1588f_row3_col6, #T_1588f_row3_col15 {\n",
       "  background-color: #f2eded;\n",
       "  color: #000000;\n",
       "}\n",
       "#T_1588f_row1_col6 {\n",
       "  background-color: #dae3e9;\n",
       "  color: #000000;\n",
       "}\n",
       "#T_1588f_row1_col7, #T_1588f_row2_col8, #T_1588f_row2_col10 {\n",
       "  background-color: #eceef1;\n",
       "  color: #000000;\n",
       "}\n",
       "#T_1588f_row1_col8 {\n",
       "  background-color: #85a9c4;\n",
       "  color: #f1f1f1;\n",
       "}\n",
       "#T_1588f_row1_col9 {\n",
       "  background-color: #749ebd;\n",
       "  color: #f1f1f1;\n",
       "}\n",
       "#T_1588f_row1_col10 {\n",
       "  background-color: #b0c6d7;\n",
       "  color: #000000;\n",
       "}\n",
       "#T_1588f_row1_col12 {\n",
       "  background-color: #efd7d9;\n",
       "  color: #000000;\n",
       "}\n",
       "#T_1588f_row1_col13 {\n",
       "  background-color: #e6989e;\n",
       "  color: #000000;\n",
       "}\n",
       "#T_1588f_row1_col14 {\n",
       "  background-color: #efd9da;\n",
       "  color: #000000;\n",
       "}\n",
       "#T_1588f_row1_col16 {\n",
       "  background-color: #ebeef0;\n",
       "  color: #000000;\n",
       "}\n",
       "#T_1588f_row2_col1 {\n",
       "  background-color: #e79ca2;\n",
       "  color: #000000;\n",
       "}\n",
       "#T_1588f_row2_col2 {\n",
       "  background-color: #ecc2c5;\n",
       "  color: #000000;\n",
       "}\n",
       "#T_1588f_row2_col5, #T_1588f_row2_col6, #T_1588f_row2_col13 {\n",
       "  background-color: #f1e8e9;\n",
       "  color: #000000;\n",
       "}\n",
       "#T_1588f_row2_col7 {\n",
       "  background-color: #e1e7ec;\n",
       "  color: #000000;\n",
       "}\n",
       "#T_1588f_row2_col9 {\n",
       "  background-color: #dee5eb;\n",
       "  color: #000000;\n",
       "}\n",
       "#T_1588f_row2_col14 {\n",
       "  background-color: #e4e9ed;\n",
       "  color: #000000;\n",
       "}\n",
       "#T_1588f_row3_col1 {\n",
       "  background-color: #e8a1a6;\n",
       "  color: #000000;\n",
       "}\n",
       "#T_1588f_row3_col2 {\n",
       "  background-color: #edc7ca;\n",
       "  color: #000000;\n",
       "}\n",
       "#T_1588f_row3_col3, #T_1588f_row3_col5 {\n",
       "  background-color: #efdadb;\n",
       "  color: #000000;\n",
       "}\n",
       "#T_1588f_row3_col4, #T_1588f_row3_col13 {\n",
       "  background-color: #f1e7e7;\n",
       "  color: #000000;\n",
       "}\n",
       "#T_1588f_row3_col7 {\n",
       "  background-color: #f2efef;\n",
       "  color: #000000;\n",
       "}\n",
       "#T_1588f_row3_col8 {\n",
       "  background-color: #f1e5e6;\n",
       "  color: #000000;\n",
       "}\n",
       "#T_1588f_row3_col9 {\n",
       "  background-color: #cfdbe4;\n",
       "  color: #000000;\n",
       "}\n",
       "#T_1588f_row3_col10 {\n",
       "  background-color: #edeff1;\n",
       "  color: #000000;\n",
       "}\n",
       "#T_1588f_row3_col11, #T_1588f_row3_col14 {\n",
       "  background-color: #eff0f2;\n",
       "  color: #000000;\n",
       "}\n",
       "#T_1588f_row3_col12 {\n",
       "  background-color: #f0e0e1;\n",
       "  color: #000000;\n",
       "}\n",
       "</style>\n",
       "<table id=\"T_1588f\">\n",
       "  <thead>\n",
       "    <tr>\n",
       "      <th class=\"blank level0\" >&nbsp;</th>\n",
       "      <th id=\"T_1588f_level0_col0\" class=\"col_heading level0 col0\" >[CLS]</th>\n",
       "      <th id=\"T_1588f_level0_col1\" class=\"col_heading level0 col1\" >you_0</th>\n",
       "      <th id=\"T_1588f_level0_col2\" class=\"col_heading level0 col2\" >are</th>\n",
       "      <th id=\"T_1588f_level0_col3\" class=\"col_heading level0 col3\" >the</th>\n",
       "      <th id=\"T_1588f_level0_col4\" class=\"col_heading level0 col4\" >sweat</th>\n",
       "      <th id=\"T_1588f_level0_col5\" class=\"col_heading level0 col5\" >##est</th>\n",
       "      <th id=\"T_1588f_level0_col6\" class=\"col_heading level0 col6\" >person</th>\n",
       "      <th id=\"T_1588f_level0_col7\" class=\"col_heading level0 col7\" >,</th>\n",
       "      <th id=\"T_1588f_level0_col8\" class=\"col_heading level0 col8\" >i_0</th>\n",
       "      <th id=\"T_1588f_level0_col9\" class=\"col_heading level0 col9\" >wish</th>\n",
       "      <th id=\"T_1588f_level0_col10\" class=\"col_heading level0 col10\" >i_1</th>\n",
       "      <th id=\"T_1588f_level0_col11\" class=\"col_heading level0 col11\" >had</th>\n",
       "      <th id=\"T_1588f_level0_col12\" class=\"col_heading level0 col12\" >known</th>\n",
       "      <th id=\"T_1588f_level0_col13\" class=\"col_heading level0 col13\" >you_1</th>\n",
       "      <th id=\"T_1588f_level0_col14\" class=\"col_heading level0 col14\" >before</th>\n",
       "      <th id=\"T_1588f_level0_col15\" class=\"col_heading level0 col15\" >.</th>\n",
       "      <th id=\"T_1588f_level0_col16\" class=\"col_heading level0 col16\" >[SEP]</th>\n",
       "    </tr>\n",
       "  </thead>\n",
       "  <tbody>\n",
       "    <tr>\n",
       "      <th id=\"T_1588f_level0_row0\" class=\"row_heading level0 row0\" >Integrated Gradient (x Input)</th>\n",
       "      <td id=\"T_1588f_row0_col0\" class=\"data row0 col0\" >0.00</td>\n",
       "      <td id=\"T_1588f_row0_col1\" class=\"data row0 col1\" >-0.15</td>\n",
       "      <td id=\"T_1588f_row0_col2\" class=\"data row0 col2\" >0.77</td>\n",
       "      <td id=\"T_1588f_row0_col3\" class=\"data row0 col3\" >0.00</td>\n",
       "      <td id=\"T_1588f_row0_col4\" class=\"data row0 col4\" >0.15</td>\n",
       "      <td id=\"T_1588f_row0_col5\" class=\"data row0 col5\" >1.75</td>\n",
       "      <td id=\"T_1588f_row0_col6\" class=\"data row0 col6\" >0.40</td>\n",
       "      <td id=\"T_1588f_row0_col7\" class=\"data row0 col7\" >-0.12</td>\n",
       "      <td id=\"T_1588f_row0_col8\" class=\"data row0 col8\" >0.19</td>\n",
       "      <td id=\"T_1588f_row0_col9\" class=\"data row0 col9\" >-0.29</td>\n",
       "      <td id=\"T_1588f_row0_col10\" class=\"data row0 col10\" >0.33</td>\n",
       "      <td id=\"T_1588f_row0_col11\" class=\"data row0 col11\" >0.19</td>\n",
       "      <td id=\"T_1588f_row0_col12\" class=\"data row0 col12\" >-0.00</td>\n",
       "      <td id=\"T_1588f_row0_col13\" class=\"data row0 col13\" >0.52</td>\n",
       "      <td id=\"T_1588f_row0_col14\" class=\"data row0 col14\" >-0.32</td>\n",
       "      <td id=\"T_1588f_row0_col15\" class=\"data row0 col15\" >0.02</td>\n",
       "      <td id=\"T_1588f_row0_col16\" class=\"data row0 col16\" >0.00</td>\n",
       "    </tr>\n",
       "    <tr>\n",
       "      <th id=\"T_1588f_level0_row1\" class=\"row_heading level0 row1\" >Gradient (x Input)</th>\n",
       "      <td id=\"T_1588f_row1_col0\" class=\"data row1 col0\" >-0.08</td>\n",
       "      <td id=\"T_1588f_row1_col1\" class=\"data row1 col1\" >-0.01</td>\n",
       "      <td id=\"T_1588f_row1_col2\" class=\"data row1 col2\" >-0.11</td>\n",
       "      <td id=\"T_1588f_row1_col3\" class=\"data row1 col3\" >-0.32</td>\n",
       "      <td id=\"T_1588f_row1_col4\" class=\"data row1 col4\" >-0.06</td>\n",
       "      <td id=\"T_1588f_row1_col5\" class=\"data row1 col5\" >0.03</td>\n",
       "      <td id=\"T_1588f_row1_col6\" class=\"data row1 col6\" >-0.13</td>\n",
       "      <td id=\"T_1588f_row1_col7\" class=\"data row1 col7\" >-0.02</td>\n",
       "      <td id=\"T_1588f_row1_col8\" class=\"data row1 col8\" >-0.61</td>\n",
       "      <td id=\"T_1588f_row1_col9\" class=\"data row1 col9\" >-0.71</td>\n",
       "      <td id=\"T_1588f_row1_col10\" class=\"data row1 col10\" >-0.37</td>\n",
       "      <td id=\"T_1588f_row1_col11\" class=\"data row1 col11\" >0.15</td>\n",
       "      <td id=\"T_1588f_row1_col12\" class=\"data row1 col12\" >0.15</td>\n",
       "      <td id=\"T_1588f_row1_col13\" class=\"data row1 col13\" >0.49</td>\n",
       "      <td id=\"T_1588f_row1_col14\" class=\"data row1 col14\" >0.13</td>\n",
       "      <td id=\"T_1588f_row1_col15\" class=\"data row1 col15\" >-0.00</td>\n",
       "      <td id=\"T_1588f_row1_col16\" class=\"data row1 col16\" >-0.04</td>\n",
       "    </tr>\n",
       "    <tr>\n",
       "      <th id=\"T_1588f_level0_row2\" class=\"row_heading level0 row2\" >Partition SHAP</th>\n",
       "      <td id=\"T_1588f_row2_col0\" class=\"data row2 col0\" >-0.00</td>\n",
       "      <td id=\"T_1588f_row2_col1\" class=\"data row2 col1\" >0.46</td>\n",
       "      <td id=\"T_1588f_row2_col2\" class=\"data row2 col2\" >0.26</td>\n",
       "      <td id=\"T_1588f_row2_col3\" class=\"data row2 col3\" >0.02</td>\n",
       "      <td id=\"T_1588f_row2_col4\" class=\"data row2 col4\" >0.00</td>\n",
       "      <td id=\"T_1588f_row2_col5\" class=\"data row2 col5\" >0.05</td>\n",
       "      <td id=\"T_1588f_row2_col6\" class=\"data row2 col6\" >0.05</td>\n",
       "      <td id=\"T_1588f_row2_col7\" class=\"data row2 col7\" >-0.09</td>\n",
       "      <td id=\"T_1588f_row2_col8\" class=\"data row2 col8\" >-0.03</td>\n",
       "      <td id=\"T_1588f_row2_col9\" class=\"data row2 col9\" >-0.10</td>\n",
       "      <td id=\"T_1588f_row2_col10\" class=\"data row2 col10\" >-0.02</td>\n",
       "      <td id=\"T_1588f_row2_col11\" class=\"data row2 col11\" >-0.00</td>\n",
       "      <td id=\"T_1588f_row2_col12\" class=\"data row2 col12\" >-0.00</td>\n",
       "      <td id=\"T_1588f_row2_col13\" class=\"data row2 col13\" >0.05</td>\n",
       "      <td id=\"T_1588f_row2_col14\" class=\"data row2 col14\" >-0.07</td>\n",
       "      <td id=\"T_1588f_row2_col15\" class=\"data row2 col15\" >-0.00</td>\n",
       "      <td id=\"T_1588f_row2_col16\" class=\"data row2 col16\" >0.00</td>\n",
       "    </tr>\n",
       "    <tr>\n",
       "      <th id=\"T_1588f_level0_row3\" class=\"row_heading level0 row3\" >LIME</th>\n",
       "      <td id=\"T_1588f_row3_col0\" class=\"data row3 col0\" >0.00</td>\n",
       "      <td id=\"T_1588f_row3_col1\" class=\"data row3 col1\" >0.44</td>\n",
       "      <td id=\"T_1588f_row3_col2\" class=\"data row3 col2\" >0.23</td>\n",
       "      <td id=\"T_1588f_row3_col3\" class=\"data row3 col3\" >0.13</td>\n",
       "      <td id=\"T_1588f_row3_col4\" class=\"data row3 col4\" >0.06</td>\n",
       "      <td id=\"T_1588f_row3_col5\" class=\"data row3 col5\" >0.13</td>\n",
       "      <td id=\"T_1588f_row3_col6\" class=\"data row3 col6\" >0.03</td>\n",
       "      <td id=\"T_1588f_row3_col7\" class=\"data row3 col7\" >0.01</td>\n",
       "      <td id=\"T_1588f_row3_col8\" class=\"data row3 col8\" >0.07</td>\n",
       "      <td id=\"T_1588f_row3_col9\" class=\"data row3 col9\" >-0.19</td>\n",
       "      <td id=\"T_1588f_row3_col10\" class=\"data row3 col10\" >-0.02</td>\n",
       "      <td id=\"T_1588f_row3_col11\" class=\"data row3 col11\" >-0.01</td>\n",
       "      <td id=\"T_1588f_row3_col12\" class=\"data row3 col12\" >0.10</td>\n",
       "      <td id=\"T_1588f_row3_col13\" class=\"data row3 col13\" >0.06</td>\n",
       "      <td id=\"T_1588f_row3_col14\" class=\"data row3 col14\" >-0.02</td>\n",
       "      <td id=\"T_1588f_row3_col15\" class=\"data row3 col15\" >0.03</td>\n",
       "      <td id=\"T_1588f_row3_col16\" class=\"data row3 col16\" >0.00</td>\n",
       "    </tr>\n",
       "  </tbody>\n",
       "</table>\n"
      ],
      "text/plain": [
       "<pandas.io.formats.style.Styler at 0x28b8d8940>"
      ]
     },
     "execution_count": 9,
     "metadata": {},
     "output_type": "execute_result"
    }
   ],
   "source": [
    "# show token level explanations\n",
    "bench.show_table(exp)"
   ]
  },
  {
   "cell_type": "code",
   "execution_count": 10,
   "metadata": {},
   "outputs": [
    {
     "data": {
      "application/vnd.jupyter.widget-view+json": {
       "model_id": "",
       "version_major": 2,
       "version_minor": 0
      },
      "text/plain": [
       "Explanation eval:   0%|          | 0/4 [00:00<?, ?it/s]"
      ]
     },
     "metadata": {},
     "output_type": "display_data"
    }
   ],
   "source": [
    "# evaluate the explanations with all the supported faithfulness and plausibility metrics\n",
    "evaluations = bench.evaluate_explanations(exp, target=\"POSITIVE\")"
   ]
  },
  {
   "cell_type": "code",
   "execution_count": 11,
   "metadata": {},
   "outputs": [
    {
     "data": {
      "text/html": [
       "<style type=\"text/css\">\n",
       "#T_42704 thead tr th:nth-child(1) {\n",
       "  position: sticky;\n",
       "  background-color: inherit;\n",
       "  left: 0px;\n",
       "  z-index: 3 !important;\n",
       "}\n",
       "#T_42704 tbody tr th:nth-child(1) {\n",
       "  position: sticky;\n",
       "  background-color: inherit;\n",
       "  left: 0px;\n",
       "  z-index: 1;\n",
       "}\n",
       "#T_42704_row0_col0 {\n",
       "  background-color: #ad5dad;\n",
       "  color: #f1f1f1;\n",
       "}\n",
       "#T_42704_row0_col1 {\n",
       "  background-color: #902190;\n",
       "  color: #f1f1f1;\n",
       "}\n",
       "#T_42704_row0_col2 {\n",
       "  background-color: #b46cb4;\n",
       "  color: #f1f1f1;\n",
       "}\n",
       "#T_42704_row1_col0 {\n",
       "  background-color: #ba78ba;\n",
       "  color: #f1f1f1;\n",
       "}\n",
       "#T_42704_row1_col1 {\n",
       "  background-color: #9c399c;\n",
       "  color: #f1f1f1;\n",
       "}\n",
       "#T_42704_row1_col2 {\n",
       "  background-color: #c48fc4;\n",
       "  color: #f1f1f1;\n",
       "}\n",
       "#T_42704_row2_col0 {\n",
       "  background-color: #8b188b;\n",
       "  color: #f1f1f1;\n",
       "}\n",
       "#T_42704_row2_col1, #T_42704_row3_col1 {\n",
       "  background-color: #800180;\n",
       "  color: #f1f1f1;\n",
       "}\n",
       "#T_42704_row2_col2 {\n",
       "  background-color: #a44aa4;\n",
       "  color: #f1f1f1;\n",
       "}\n",
       "#T_42704_row3_col0 {\n",
       "  background-color: #942994;\n",
       "  color: #f1f1f1;\n",
       "}\n",
       "#T_42704_row3_col2 {\n",
       "  background-color: #962e96;\n",
       "  color: #f1f1f1;\n",
       "}\n",
       "</style>\n",
       "<table id=\"T_42704\">\n",
       "  <thead>\n",
       "    <tr>\n",
       "      <th class=\"blank level0\" >&nbsp;</th>\n",
       "      <th id=\"T_42704_level0_col0\" class=\"col_heading level0 col0\" >aopc_compr</th>\n",
       "      <th id=\"T_42704_level0_col1\" class=\"col_heading level0 col1\" >aopc_suff</th>\n",
       "      <th id=\"T_42704_level0_col2\" class=\"col_heading level0 col2\" >taucorr_loo</th>\n",
       "    </tr>\n",
       "    <tr>\n",
       "      <th class=\"index_name level0\" >Explainer</th>\n",
       "      <th class=\"blank col0\" >&nbsp;</th>\n",
       "      <th class=\"blank col1\" >&nbsp;</th>\n",
       "      <th class=\"blank col2\" >&nbsp;</th>\n",
       "    </tr>\n",
       "  </thead>\n",
       "  <tbody>\n",
       "    <tr>\n",
       "      <th id=\"T_42704_level0_row0\" class=\"row_heading level0 row0\" >Integrated Gradient (x Input)</th>\n",
       "      <td id=\"T_42704_row0_col0\" class=\"data row0 col0\" >0.22</td>\n",
       "      <td id=\"T_42704_row0_col1\" class=\"data row0 col1\" >0.13</td>\n",
       "      <td id=\"T_42704_row0_col2\" class=\"data row0 col2\" >0.10</td>\n",
       "    </tr>\n",
       "    <tr>\n",
       "      <th id=\"T_42704_level0_row1\" class=\"row_heading level0 row1\" >Gradient (x Input)</th>\n",
       "      <td id=\"T_42704_row1_col0\" class=\"data row1 col0\" >-0.00</td>\n",
       "      <td id=\"T_42704_row1_col1\" class=\"data row1 col1\" >0.22</td>\n",
       "      <td id=\"T_42704_row1_col2\" class=\"data row1 col2\" >-0.19</td>\n",
       "    </tr>\n",
       "    <tr>\n",
       "      <th id=\"T_42704_level0_row2\" class=\"row_heading level0 row2\" >Partition SHAP</th>\n",
       "      <td id=\"T_42704_row2_col0\" class=\"data row2 col0\" >0.80</td>\n",
       "      <td id=\"T_42704_row2_col1\" class=\"data row2 col1\" >-0.00</td>\n",
       "      <td id=\"T_42704_row2_col2\" class=\"data row2 col2\" >0.38</td>\n",
       "    </tr>\n",
       "    <tr>\n",
       "      <th id=\"T_42704_level0_row3\" class=\"row_heading level0 row3\" >LIME</th>\n",
       "      <td id=\"T_42704_row3_col0\" class=\"data row3 col0\" >0.66</td>\n",
       "      <td id=\"T_42704_row3_col1\" class=\"data row3 col1\" >-0.00</td>\n",
       "      <td id=\"T_42704_row3_col2\" class=\"data row3 col2\" >0.61</td>\n",
       "    </tr>\n",
       "  </tbody>\n",
       "</table>\n"
      ],
      "text/plain": [
       "<pandas.io.formats.style.Styler at 0x2b8fbe260>"
      ]
     },
     "execution_count": 11,
     "metadata": {},
     "output_type": "execute_result"
    }
   ],
   "source": [
    "# evaluate explanations and show faithfulness metrics\n",
    "bench.show_evaluation_table(evaluations)"
   ]
  }
 ],
 "metadata": {
  "kernelspec": {
   "display_name": "Python 3 (ipykernel)",
   "language": "python",
   "name": "python3"
  },
  "language_info": {
   "codemirror_mode": {
    "name": "ipython",
    "version": 3
   },
   "file_extension": ".py",
   "mimetype": "text/x-python",
   "name": "python",
   "nbconvert_exporter": "python",
   "pygments_lexer": "ipython3",
   "version": "3.10.11"
  },
  "vscode": {
   "interpreter": {
    "hash": "78645345e5495b5ada400086274ed52038b33bbda7f86ad5b81938b6e8cf303a"
   }
  }
 },
 "nbformat": 4,
 "nbformat_minor": 4
}
