{
 "cells": [
  {
   "cell_type": "markdown",
   "metadata": {},
   "source": [
    "# Tutorial: Zero-Shot Text Classification\n",
    "\n",
    "In this short tutorial, we show how to use *ferret* to use and evaluate different explainability approaches in the task of Zero-Shot Text Classification.\n",
    "\n",
    "We will use `MoritzLaurer/mDeBERTa-v3-base-mnli-xnli` as model checkpoint."
   ]
  },
  {
   "cell_type": "code",
   "execution_count": null,
   "metadata": {},
   "outputs": [],
   "source": [
    "%%capture\n",
    "!pip install -U ferret-xai"
   ]
  },
  {
   "cell_type": "code",
   "execution_count": null,
   "metadata": {},
   "outputs": [],
   "source": [
    "import torch\n",
    "from datasets import load_dataset\n",
    "from transformers import AutoModelForSequenceClassification, AutoTokenizer\n",
    "\n",
    "from ferret import (\n",
    "    Benchmark,\n",
    "    GradientExplainer,\n",
    "    IntegratedGradientExplainer,\n",
    "    LIMEExplainer,\n",
    "    SHAPExplainer,\n",
    ")\n",
    "\n",
    "device = \"cuda:0\" if torch.cuda.is_available() else \"cpu\""
   ]
  },
  {
   "cell_type": "code",
   "execution_count": null,
   "metadata": {},
   "outputs": [],
   "source": [
    "model_name = \"MoritzLaurer/mDeBERTa-v3-base-mnli-xnli\"\n",
    "tokenizer = AutoTokenizer.from_pretrained(model_name)\n",
    "model = AutoModelForSequenceClassification.from_pretrained(model_name).to(device)"
   ]
  },
  {
   "cell_type": "code",
   "execution_count": null,
   "metadata": {},
   "outputs": [],
   "source": [
    "ig = IntegratedGradientExplainer(model, tokenizer, multiply_by_inputs=True)\n",
    "g = GradientExplainer(model, tokenizer, multiply_by_inputs=True)\n",
    "l = LIMEExplainer(model, tokenizer)"
   ]
  },
  {
   "cell_type": "code",
   "execution_count": null,
   "metadata": {},
   "outputs": [],
   "source": [
    "bench = Benchmark(\n",
    "    model, tokenizer, task_name=\"zero-shot-text-classification\", explainers=[ig, g, l]\n",
    ")"
   ]
  },
  {
   "cell_type": "code",
   "execution_count": null,
   "metadata": {},
   "outputs": [],
   "source": [
    "sequence_to_classify = (\n",
    "    \"Amanda ha cucinato la più buona torta pecan che abbia mai provato!\"\n",
    ")\n",
    "candidate_labels = [\"politics\", \"economy\", \"bakery\"]\n",
    "sample = (sequence_to_classify, candidate_labels)"
   ]
  },
  {
   "cell_type": "code",
   "execution_count": null,
   "metadata": {},
   "outputs": [],
   "source": [
    "# get the prediction from our model\n",
    "bench.score(sample, return_probs=True)"
   ]
  },
  {
   "cell_type": "code",
   "execution_count": null,
   "metadata": {},
   "outputs": [],
   "source": [
    "# explain the contradiction class\n",
    "exp = bench.explain(sample, target=\"entailment\")"
   ]
  },
  {
   "cell_type": "code",
   "execution_count": null,
   "metadata": {},
   "outputs": [],
   "source": [
    "# show explanations\n",
    "bench.show_table(exp)"
   ]
  },
  {
   "cell_type": "code",
   "execution_count": null,
   "metadata": {},
   "outputs": [],
   "source": [
    "# evaluate explanations and show faithfulness metrics\n",
    "bench.show_evaluation_table(bench.evaluate_explanations(exp, target=\"contradiction\"))"
   ]
  }
 ],
 "metadata": {
  "kernelspec": {
   "display_name": "Python 3",
   "language": "python",
   "name": "python3"
  },
  "language_info": {
   "codemirror_mode": {
    "name": "ipython",
    "version": 3
   },
   "file_extension": ".py",
   "mimetype": "text/x-python",
   "name": "python",
   "nbconvert_exporter": "python",
   "pygments_lexer": "ipython3",
   "version": "3.9.12"
  },
  "vscode": {
   "interpreter": {
    "hash": "78645345e5495b5ada400086274ed52038b33bbda7f86ad5b81938b6e8cf303a"
   }
  }
 },
 "nbformat": 4,
 "nbformat_minor": 4
}
