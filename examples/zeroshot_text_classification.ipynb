{
 "cells": [
  {
   "cell_type": "markdown",
   "metadata": {},
   "source": [
    "# Tutorial: Zero-Shot Text Classification\n",
    "\n",
    "In this short tutorial, we show how to use *ferret* to use and evaluate different explainability approaches in the task of Zero-Shot Text Classification.\n",
    "\n",
    "We will use `MoritzLaurer/mDeBERTa-v3-base-mnli-xnli` as model checkpoint."
   ]
  },
  {
   "cell_type": "code",
   "execution_count": 1,
   "metadata": {},
   "outputs": [],
   "source": [
    "%load_ext autoreload\n",
    "%autoreload 2"
   ]
  },
  {
   "cell_type": "code",
   "execution_count": 2,
   "metadata": {},
   "outputs": [],
   "source": [
    "import torch\n",
    "from datasets import load_dataset\n",
    "from transformers import AutoModelForSequenceClassification, AutoTokenizer\n",
    "\n",
    "from ferret import (\n",
    "    Benchmark,\n",
    "    GradientExplainer,\n",
    "    IntegratedGradientExplainer,\n",
    "    LIMEExplainer,\n",
    "    SHAPExplainer,\n",
    ")\n",
    "\n",
    "device = \"cuda:0\" if torch.cuda.is_available() else \"cpu\""
   ]
  },
  {
   "cell_type": "code",
   "execution_count": 3,
   "metadata": {},
   "outputs": [
    {
     "name": "stderr",
     "output_type": "stream",
     "text": [
      "The sentencepiece tokenizer that you are converting to a fast tokenizer uses the byte fallback option which is not implemented in the fast tokenizers. In practice this means that the fast version of the tokenizer can produce unknown tokens whereas the sentencepiece version would have converted these unknown tokens into a sequence of byte tokens matching the original piece of text.\n"
     ]
    }
   ],
   "source": [
    "model_name = \"MoritzLaurer/mDeBERTa-v3-base-mnli-xnli\"\n",
    "tokenizer = AutoTokenizer.from_pretrained(model_name)\n",
    "model = AutoModelForSequenceClassification.from_pretrained(model_name).to(device)"
   ]
  },
  {
   "cell_type": "code",
   "execution_count": 4,
   "metadata": {},
   "outputs": [
    {
     "name": "stderr",
     "output_type": "stream",
     "text": [
      "No helper provided. Using default 'text-classification' helper.\n"
     ]
    }
   ],
   "source": [
    "ig = IntegratedGradientExplainer(model, tokenizer, multiply_by_inputs=True)\n",
    "g = GradientExplainer(model, tokenizer, multiply_by_inputs=True)\n",
    "l = LIMEExplainer(model, tokenizer)"
   ]
  },
  {
   "cell_type": "code",
   "execution_count": 5,
   "metadata": {},
   "outputs": [
    {
     "name": "stderr",
     "output_type": "stream",
     "text": [
      "Overriding helper for explainer <ferret.explainers.gradient.IntegratedGradientExplainer object at 0x2ab4f4ee0>\n",
      "Overriding helper for explainer <ferret.explainers.gradient.GradientExplainer object at 0x1079faf80>\n",
      "Overriding helper for explainer <ferret.explainers.lime.LIMEExplainer object at 0x1079f80d0>\n"
     ]
    }
   ],
   "source": [
    "bench = Benchmark(\n",
    "    model, tokenizer, task_name=\"zero-shot-text-classification\", explainers=[ig, g, l]\n",
    ")"
   ]
  },
  {
   "cell_type": "code",
   "execution_count": 6,
   "metadata": {},
   "outputs": [],
   "source": [
    "sequence_to_classify = (\n",
    "    \"Amanda ha cucinato la più buona torta pecan che abbia mai provato!\"\n",
    ")\n",
    "candidate_labels = [\"politics\", \"economy\", \"bakery\"]\n",
    "sample = (sequence_to_classify, candidate_labels)"
   ]
  },
  {
   "cell_type": "code",
   "execution_count": 7,
   "metadata": {},
   "outputs": [
    {
     "data": {
      "text/plain": [
       "('Amanda ha cucinato la più buona torta pecan che abbia mai provato!',\n",
       " ['politics', 'economy', 'bakery'])"
      ]
     },
     "execution_count": 7,
     "metadata": {},
     "output_type": "execute_result"
    }
   ],
   "source": [
    "sample"
   ]
  },
  {
   "cell_type": "code",
   "execution_count": 14,
   "metadata": {},
   "outputs": [
    {
     "data": {
      "text/plain": [
       "{'politics': 0.2317681610584259,\n",
       " 'economy': 0.23227249085903168,\n",
       " 'bakery': 0.5359593629837036}"
      ]
     },
     "execution_count": 14,
     "metadata": {},
     "output_type": "execute_result"
    }
   ],
   "source": [
    "# get the prediction from our model\n",
    "bench.score(sample[0], options=candidate_labels, return_probs=True)"
   ]
  },
  {
   "cell_type": "code",
   "execution_count": 15,
   "metadata": {},
   "outputs": [
    {
     "data": {
      "application/vnd.jupyter.widget-view+json": {
       "model_id": "",
       "version_major": 2,
       "version_minor": 0
      },
      "text/plain": [
       "Explainer:   0%|          | 0/3 [00:00<?, ?it/s]"
      ]
     },
     "metadata": {},
     "output_type": "display_data"
    },
    {
     "data": {
      "application/vnd.jupyter.widget-view+json": {
       "model_id": "",
       "version_major": 2,
       "version_minor": 0
      },
      "text/plain": [
       "Batch:   0%|          | 0/113 [00:00<?, ?it/s]"
      ]
     },
     "metadata": {},
     "output_type": "display_data"
    }
   ],
   "source": [
    "# explain the contradiction class\n",
    "exp = bench.explain(sample[0], target=\"entailment\", target_option=\"bakery\")"
   ]
  },
  {
   "cell_type": "code",
   "execution_count": 16,
   "metadata": {},
   "outputs": [
    {
     "data": {
      "text/html": [
       "<style type=\"text/css\">\n",
       "#T_f4f1c thead tr th:nth-child(1) {\n",
       "  position: sticky;\n",
       "  background-color: inherit;\n",
       "  left: 0px;\n",
       "  z-index: 3 !important;\n",
       "}\n",
       "#T_f4f1c tbody tr th:nth-child(1) {\n",
       "  position: sticky;\n",
       "  background-color: inherit;\n",
       "  left: 0px;\n",
       "  z-index: 1;\n",
       "}\n",
       "#T_f4f1c_row0_col0, #T_f4f1c_row0_col12, #T_f4f1c_row0_col29, #T_f4f1c_row1_col5, #T_f4f1c_row1_col6, #T_f4f1c_row1_col7, #T_f4f1c_row1_col8, #T_f4f1c_row1_col9, #T_f4f1c_row1_col10, #T_f4f1c_row1_col15, #T_f4f1c_row1_col16, #T_f4f1c_row1_col18, #T_f4f1c_row1_col19, #T_f4f1c_row1_col21, #T_f4f1c_row1_col26, #T_f4f1c_row1_col27, #T_f4f1c_row1_col28, #T_f4f1c_row2_col0, #T_f4f1c_row2_col8, #T_f4f1c_row2_col10, #T_f4f1c_row2_col11, #T_f4f1c_row2_col17, #T_f4f1c_row2_col23, #T_f4f1c_row2_col27, #T_f4f1c_row2_col29 {\n",
       "  background-color: #f2f1f1;\n",
       "  color: #000000;\n",
       "}\n",
       "#T_f4f1c_row0_col1 {\n",
       "  background-color: #db424d;\n",
       "  color: #f1f1f1;\n",
       "}\n",
       "#T_f4f1c_row0_col2 {\n",
       "  background-color: #eaafb3;\n",
       "  color: #000000;\n",
       "}\n",
       "#T_f4f1c_row0_col3 {\n",
       "  background-color: #cad8e2;\n",
       "  color: #000000;\n",
       "}\n",
       "#T_f4f1c_row0_col4 {\n",
       "  background-color: #d9e2e9;\n",
       "  color: #000000;\n",
       "}\n",
       "#T_f4f1c_row0_col5, #T_f4f1c_row0_col15 {\n",
       "  background-color: #dde4ea;\n",
       "  color: #000000;\n",
       "}\n",
       "#T_f4f1c_row0_col6, #T_f4f1c_row2_col21 {\n",
       "  background-color: #f2ebeb;\n",
       "  color: #000000;\n",
       "}\n",
       "#T_f4f1c_row0_col7, #T_f4f1c_row2_col6 {\n",
       "  background-color: #f0e3e3;\n",
       "  color: #000000;\n",
       "}\n",
       "#T_f4f1c_row0_col8 {\n",
       "  background-color: #ebeef0;\n",
       "  color: #000000;\n",
       "}\n",
       "#T_f4f1c_row0_col9, #T_f4f1c_row0_col23, #T_f4f1c_row2_col5 {\n",
       "  background-color: #e0e6eb;\n",
       "  color: #000000;\n",
       "}\n",
       "#T_f4f1c_row0_col10, #T_f4f1c_row0_col11 {\n",
       "  background-color: #e1e7ec;\n",
       "  color: #000000;\n",
       "}\n",
       "#T_f4f1c_row0_col13 {\n",
       "  background-color: #f0dedf;\n",
       "  color: #000000;\n",
       "}\n",
       "#T_f4f1c_row0_col14, #T_f4f1c_row0_col16 {\n",
       "  background-color: #d5dfe7;\n",
       "  color: #000000;\n",
       "}\n",
       "#T_f4f1c_row0_col17 {\n",
       "  background-color: #da3b46;\n",
       "  color: #f1f1f1;\n",
       "}\n",
       "#T_f4f1c_row0_col18 {\n",
       "  background-color: #bdcfdd;\n",
       "  color: #000000;\n",
       "}\n",
       "#T_f4f1c_row0_col19, #T_f4f1c_row2_col22 {\n",
       "  background-color: #f1e7e7;\n",
       "  color: #000000;\n",
       "}\n",
       "#T_f4f1c_row0_col20, #T_f4f1c_row2_col3, #T_f4f1c_row2_col16, #T_f4f1c_row2_col28 {\n",
       "  background-color: #eceef1;\n",
       "  color: #000000;\n",
       "}\n",
       "#T_f4f1c_row0_col21, #T_f4f1c_row2_col7, #T_f4f1c_row2_col9 {\n",
       "  background-color: #f2eded;\n",
       "  color: #000000;\n",
       "}\n",
       "#T_f4f1c_row0_col22 {\n",
       "  background-color: #bccedc;\n",
       "  color: #000000;\n",
       "}\n",
       "#T_f4f1c_row0_col24 {\n",
       "  background-color: #417ca8;\n",
       "  color: #f1f1f1;\n",
       "}\n",
       "#T_f4f1c_row0_col25 {\n",
       "  background-color: #98b6cd;\n",
       "  color: #000000;\n",
       "}\n",
       "#T_f4f1c_row0_col26 {\n",
       "  background-color: #f2eeee;\n",
       "  color: #000000;\n",
       "}\n",
       "#T_f4f1c_row0_col27 {\n",
       "  background-color: #da3c48;\n",
       "  color: #f1f1f1;\n",
       "}\n",
       "#T_f4f1c_row0_col28 {\n",
       "  background-color: #b0c6d7;\n",
       "  color: #000000;\n",
       "}\n",
       "#T_f4f1c_row1_col0, #T_f4f1c_row1_col1, #T_f4f1c_row1_col2, #T_f4f1c_row1_col3, #T_f4f1c_row1_col4, #T_f4f1c_row1_col11, #T_f4f1c_row1_col12, #T_f4f1c_row1_col13, #T_f4f1c_row1_col14, #T_f4f1c_row1_col17, #T_f4f1c_row1_col20, #T_f4f1c_row1_col22, #T_f4f1c_row1_col23, #T_f4f1c_row1_col24, #T_f4f1c_row1_col25, #T_f4f1c_row1_col29, #T_f4f1c_row2_col1, #T_f4f1c_row2_col4 {\n",
       "  background-color: #f1f1f2;\n",
       "  color: #000000;\n",
       "}\n",
       "#T_f4f1c_row2_col2, #T_f4f1c_row2_col15, #T_f4f1c_row2_col18, #T_f4f1c_row2_col19, #T_f4f1c_row2_col20 {\n",
       "  background-color: #f2efef;\n",
       "  color: #000000;\n",
       "}\n",
       "#T_f4f1c_row2_col12 {\n",
       "  background-color: #ecc5c7;\n",
       "  color: #000000;\n",
       "}\n",
       "#T_f4f1c_row2_col13 {\n",
       "  background-color: #efd7d9;\n",
       "  color: #000000;\n",
       "}\n",
       "#T_f4f1c_row2_col14 {\n",
       "  background-color: #f1eaea;\n",
       "  color: #000000;\n",
       "}\n",
       "#T_f4f1c_row2_col24, #T_f4f1c_row2_col26 {\n",
       "  background-color: #e8ecef;\n",
       "  color: #000000;\n",
       "}\n",
       "#T_f4f1c_row2_col25 {\n",
       "  background-color: #dee5eb;\n",
       "  color: #000000;\n",
       "}\n",
       "</style>\n",
       "<table id=\"T_f4f1c\">\n",
       "  <thead>\n",
       "    <tr>\n",
       "      <th class=\"blank level0\" >&nbsp;</th>\n",
       "      <th id=\"T_f4f1c_level0_col0\" class=\"col_heading level0 col0\" >[CLS]</th>\n",
       "      <th id=\"T_f4f1c_level0_col1\" class=\"col_heading level0 col1\" >▁_0</th>\n",
       "      <th id=\"T_f4f1c_level0_col2\" class=\"col_heading level0 col2\" >Amanda</th>\n",
       "      <th id=\"T_f4f1c_level0_col3\" class=\"col_heading level0 col3\" >▁ha</th>\n",
       "      <th id=\"T_f4f1c_level0_col4\" class=\"col_heading level0 col4\" >▁_1</th>\n",
       "      <th id=\"T_f4f1c_level0_col5\" class=\"col_heading level0 col5\" >cucina</th>\n",
       "      <th id=\"T_f4f1c_level0_col6\" class=\"col_heading level0 col6\" >to_0</th>\n",
       "      <th id=\"T_f4f1c_level0_col7\" class=\"col_heading level0 col7\" >▁la</th>\n",
       "      <th id=\"T_f4f1c_level0_col8\" class=\"col_heading level0 col8\" >▁p</th>\n",
       "      <th id=\"T_f4f1c_level0_col9\" class=\"col_heading level0 col9\" >iù</th>\n",
       "      <th id=\"T_f4f1c_level0_col10\" class=\"col_heading level0 col10\" >▁buon</th>\n",
       "      <th id=\"T_f4f1c_level0_col11\" class=\"col_heading level0 col11\" >a_0</th>\n",
       "      <th id=\"T_f4f1c_level0_col12\" class=\"col_heading level0 col12\" >▁tort</th>\n",
       "      <th id=\"T_f4f1c_level0_col13\" class=\"col_heading level0 col13\" >a_1</th>\n",
       "      <th id=\"T_f4f1c_level0_col14\" class=\"col_heading level0 col14\" >▁pe</th>\n",
       "      <th id=\"T_f4f1c_level0_col15\" class=\"col_heading level0 col15\" >can</th>\n",
       "      <th id=\"T_f4f1c_level0_col16\" class=\"col_heading level0 col16\" >▁che</th>\n",
       "      <th id=\"T_f4f1c_level0_col17\" class=\"col_heading level0 col17\" >▁_2</th>\n",
       "      <th id=\"T_f4f1c_level0_col18\" class=\"col_heading level0 col18\" >abbia</th>\n",
       "      <th id=\"T_f4f1c_level0_col19\" class=\"col_heading level0 col19\" >▁mai</th>\n",
       "      <th id=\"T_f4f1c_level0_col20\" class=\"col_heading level0 col20\" >▁prova</th>\n",
       "      <th id=\"T_f4f1c_level0_col21\" class=\"col_heading level0 col21\" >to_1</th>\n",
       "      <th id=\"T_f4f1c_level0_col22\" class=\"col_heading level0 col22\" >!</th>\n",
       "      <th id=\"T_f4f1c_level0_col23\" class=\"col_heading level0 col23\" >[SEP]_0</th>\n",
       "      <th id=\"T_f4f1c_level0_col24\" class=\"col_heading level0 col24\" >▁This</th>\n",
       "      <th id=\"T_f4f1c_level0_col25\" class=\"col_heading level0 col25\" >▁is</th>\n",
       "      <th id=\"T_f4f1c_level0_col26\" class=\"col_heading level0 col26\" >▁_3</th>\n",
       "      <th id=\"T_f4f1c_level0_col27\" class=\"col_heading level0 col27\" >baker</th>\n",
       "      <th id=\"T_f4f1c_level0_col28\" class=\"col_heading level0 col28\" >y</th>\n",
       "      <th id=\"T_f4f1c_level0_col29\" class=\"col_heading level0 col29\" >[SEP]_1</th>\n",
       "    </tr>\n",
       "  </thead>\n",
       "  <tbody>\n",
       "    <tr>\n",
       "      <th id=\"T_f4f1c_level0_row0\" class=\"row_heading level0 row0\" >Integrated Gradient (x Input)</th>\n",
       "      <td id=\"T_f4f1c_row0_col0\" class=\"data row0 col0\" >0.00</td>\n",
       "      <td id=\"T_f4f1c_row0_col1\" class=\"data row0 col1\" >0.96</td>\n",
       "      <td id=\"T_f4f1c_row0_col2\" class=\"data row0 col2\" >0.37</td>\n",
       "      <td id=\"T_f4f1c_row0_col3\" class=\"data row0 col3\" >-0.22</td>\n",
       "      <td id=\"T_f4f1c_row0_col4\" class=\"data row0 col4\" >-0.14</td>\n",
       "      <td id=\"T_f4f1c_row0_col5\" class=\"data row0 col5\" >-0.11</td>\n",
       "      <td id=\"T_f4f1c_row0_col6\" class=\"data row0 col6\" >0.03</td>\n",
       "      <td id=\"T_f4f1c_row0_col7\" class=\"data row0 col7\" >0.08</td>\n",
       "      <td id=\"T_f4f1c_row0_col8\" class=\"data row0 col8\" >-0.03</td>\n",
       "      <td id=\"T_f4f1c_row0_col9\" class=\"data row0 col9\" >-0.10</td>\n",
       "      <td id=\"T_f4f1c_row0_col10\" class=\"data row0 col10\" >-0.09</td>\n",
       "      <td id=\"T_f4f1c_row0_col11\" class=\"data row0 col11\" >-0.09</td>\n",
       "      <td id=\"T_f4f1c_row0_col12\" class=\"data row0 col12\" >0.01</td>\n",
       "      <td id=\"T_f4f1c_row0_col13\" class=\"data row0 col13\" >0.11</td>\n",
       "      <td id=\"T_f4f1c_row0_col14\" class=\"data row0 col14\" >-0.16</td>\n",
       "      <td id=\"T_f4f1c_row0_col15\" class=\"data row0 col15\" >-0.11</td>\n",
       "      <td id=\"T_f4f1c_row0_col16\" class=\"data row0 col16\" >-0.16</td>\n",
       "      <td id=\"T_f4f1c_row0_col17\" class=\"data row0 col17\" >1.05</td>\n",
       "      <td id=\"T_f4f1c_row0_col18\" class=\"data row0 col18\" >-0.29</td>\n",
       "      <td id=\"T_f4f1c_row0_col19\" class=\"data row0 col19\" >0.06</td>\n",
       "      <td id=\"T_f4f1c_row0_col20\" class=\"data row0 col20\" >-0.03</td>\n",
       "      <td id=\"T_f4f1c_row0_col21\" class=\"data row0 col21\" >0.03</td>\n",
       "      <td id=\"T_f4f1c_row0_col22\" class=\"data row0 col22\" >-0.30</td>\n",
       "      <td id=\"T_f4f1c_row0_col23\" class=\"data row0 col23\" >-0.10</td>\n",
       "      <td id=\"T_f4f1c_row0_col24\" class=\"data row0 col24\" >-1.48</td>\n",
       "      <td id=\"T_f4f1c_row0_col25\" class=\"data row0 col25\" >-0.51</td>\n",
       "      <td id=\"T_f4f1c_row0_col26\" class=\"data row0 col26\" >0.02</td>\n",
       "      <td id=\"T_f4f1c_row0_col27\" class=\"data row0 col27\" >0.99</td>\n",
       "      <td id=\"T_f4f1c_row0_col28\" class=\"data row0 col28\" >-0.37</td>\n",
       "      <td id=\"T_f4f1c_row0_col29\" class=\"data row0 col29\" >0.00</td>\n",
       "    </tr>\n",
       "    <tr>\n",
       "      <th id=\"T_f4f1c_level0_row1\" class=\"row_heading level0 row1\" >Gradient (x Input)</th>\n",
       "      <td id=\"T_f4f1c_row1_col0\" class=\"data row1 col0\" >-0.00</td>\n",
       "      <td id=\"T_f4f1c_row1_col1\" class=\"data row1 col1\" >-0.00</td>\n",
       "      <td id=\"T_f4f1c_row1_col2\" class=\"data row1 col2\" >-0.00</td>\n",
       "      <td id=\"T_f4f1c_row1_col3\" class=\"data row1 col3\" >-0.00</td>\n",
       "      <td id=\"T_f4f1c_row1_col4\" class=\"data row1 col4\" >-0.00</td>\n",
       "      <td id=\"T_f4f1c_row1_col5\" class=\"data row1 col5\" >0.00</td>\n",
       "      <td id=\"T_f4f1c_row1_col6\" class=\"data row1 col6\" >0.00</td>\n",
       "      <td id=\"T_f4f1c_row1_col7\" class=\"data row1 col7\" >0.00</td>\n",
       "      <td id=\"T_f4f1c_row1_col8\" class=\"data row1 col8\" >0.00</td>\n",
       "      <td id=\"T_f4f1c_row1_col9\" class=\"data row1 col9\" >0.00</td>\n",
       "      <td id=\"T_f4f1c_row1_col10\" class=\"data row1 col10\" >0.00</td>\n",
       "      <td id=\"T_f4f1c_row1_col11\" class=\"data row1 col11\" >-0.00</td>\n",
       "      <td id=\"T_f4f1c_row1_col12\" class=\"data row1 col12\" >-0.00</td>\n",
       "      <td id=\"T_f4f1c_row1_col13\" class=\"data row1 col13\" >-0.00</td>\n",
       "      <td id=\"T_f4f1c_row1_col14\" class=\"data row1 col14\" >-0.00</td>\n",
       "      <td id=\"T_f4f1c_row1_col15\" class=\"data row1 col15\" >0.00</td>\n",
       "      <td id=\"T_f4f1c_row1_col16\" class=\"data row1 col16\" >0.00</td>\n",
       "      <td id=\"T_f4f1c_row1_col17\" class=\"data row1 col17\" >-0.00</td>\n",
       "      <td id=\"T_f4f1c_row1_col18\" class=\"data row1 col18\" >0.00</td>\n",
       "      <td id=\"T_f4f1c_row1_col19\" class=\"data row1 col19\" >0.00</td>\n",
       "      <td id=\"T_f4f1c_row1_col20\" class=\"data row1 col20\" >-0.00</td>\n",
       "      <td id=\"T_f4f1c_row1_col21\" class=\"data row1 col21\" >0.00</td>\n",
       "      <td id=\"T_f4f1c_row1_col22\" class=\"data row1 col22\" >-0.00</td>\n",
       "      <td id=\"T_f4f1c_row1_col23\" class=\"data row1 col23\" >-0.00</td>\n",
       "      <td id=\"T_f4f1c_row1_col24\" class=\"data row1 col24\" >-0.00</td>\n",
       "      <td id=\"T_f4f1c_row1_col25\" class=\"data row1 col25\" >-0.00</td>\n",
       "      <td id=\"T_f4f1c_row1_col26\" class=\"data row1 col26\" >0.00</td>\n",
       "      <td id=\"T_f4f1c_row1_col27\" class=\"data row1 col27\" >0.00</td>\n",
       "      <td id=\"T_f4f1c_row1_col28\" class=\"data row1 col28\" >0.00</td>\n",
       "      <td id=\"T_f4f1c_row1_col29\" class=\"data row1 col29\" >-0.00</td>\n",
       "    </tr>\n",
       "    <tr>\n",
       "      <th id=\"T_f4f1c_level0_row2\" class=\"row_heading level0 row2\" >LIME</th>\n",
       "      <td id=\"T_f4f1c_row2_col0\" class=\"data row2 col0\" >0.00</td>\n",
       "      <td id=\"T_f4f1c_row2_col1\" class=\"data row2 col1\" >-0.01</td>\n",
       "      <td id=\"T_f4f1c_row2_col2\" class=\"data row2 col2\" >0.01</td>\n",
       "      <td id=\"T_f4f1c_row2_col3\" class=\"data row2 col3\" >-0.03</td>\n",
       "      <td id=\"T_f4f1c_row2_col4\" class=\"data row2 col4\" >-0.00</td>\n",
       "      <td id=\"T_f4f1c_row2_col5\" class=\"data row2 col5\" >-0.10</td>\n",
       "      <td id=\"T_f4f1c_row2_col6\" class=\"data row2 col6\" >0.08</td>\n",
       "      <td id=\"T_f4f1c_row2_col7\" class=\"data row2 col7\" >0.02</td>\n",
       "      <td id=\"T_f4f1c_row2_col8\" class=\"data row2 col8\" >0.01</td>\n",
       "      <td id=\"T_f4f1c_row2_col9\" class=\"data row2 col9\" >0.03</td>\n",
       "      <td id=\"T_f4f1c_row2_col10\" class=\"data row2 col10\" >0.00</td>\n",
       "      <td id=\"T_f4f1c_row2_col11\" class=\"data row2 col11\" >0.01</td>\n",
       "      <td id=\"T_f4f1c_row2_col12\" class=\"data row2 col12\" >0.25</td>\n",
       "      <td id=\"T_f4f1c_row2_col13\" class=\"data row2 col13\" >0.14</td>\n",
       "      <td id=\"T_f4f1c_row2_col14\" class=\"data row2 col14\" >0.04</td>\n",
       "      <td id=\"T_f4f1c_row2_col15\" class=\"data row2 col15\" >0.01</td>\n",
       "      <td id=\"T_f4f1c_row2_col16\" class=\"data row2 col16\" >-0.02</td>\n",
       "      <td id=\"T_f4f1c_row2_col17\" class=\"data row2 col17\" >0.01</td>\n",
       "      <td id=\"T_f4f1c_row2_col18\" class=\"data row2 col18\" >0.01</td>\n",
       "      <td id=\"T_f4f1c_row2_col19\" class=\"data row2 col19\" >0.01</td>\n",
       "      <td id=\"T_f4f1c_row2_col20\" class=\"data row2 col20\" >0.01</td>\n",
       "      <td id=\"T_f4f1c_row2_col21\" class=\"data row2 col21\" >0.04</td>\n",
       "      <td id=\"T_f4f1c_row2_col22\" class=\"data row2 col22\" >0.06</td>\n",
       "      <td id=\"T_f4f1c_row2_col23\" class=\"data row2 col23\" >0.00</td>\n",
       "      <td id=\"T_f4f1c_row2_col24\" class=\"data row2 col24\" >-0.05</td>\n",
       "      <td id=\"T_f4f1c_row2_col25\" class=\"data row2 col25\" >-0.10</td>\n",
       "      <td id=\"T_f4f1c_row2_col26\" class=\"data row2 col26\" >-0.05</td>\n",
       "      <td id=\"T_f4f1c_row2_col27\" class=\"data row2 col27\" >0.01</td>\n",
       "      <td id=\"T_f4f1c_row2_col28\" class=\"data row2 col28\" >-0.03</td>\n",
       "      <td id=\"T_f4f1c_row2_col29\" class=\"data row2 col29\" >0.00</td>\n",
       "    </tr>\n",
       "  </tbody>\n",
       "</table>\n"
      ],
      "text/plain": [
       "<pandas.io.formats.style.Styler at 0x2a9e7a320>"
      ]
     },
     "execution_count": 16,
     "metadata": {},
     "output_type": "execute_result"
    }
   ],
   "source": [
    "# show explanations\n",
    "bench.show_table(exp)"
   ]
  },
  {
   "cell_type": "code",
   "execution_count": 17,
   "metadata": {},
   "outputs": [
    {
     "data": {
      "application/vnd.jupyter.widget-view+json": {
       "model_id": "",
       "version_major": 2,
       "version_minor": 0
      },
      "text/plain": [
       "Explanation eval:   0%|          | 0/3 [00:00<?, ?it/s]"
      ]
     },
     "metadata": {},
     "output_type": "display_data"
    },
    {
     "data": {
      "text/html": [
       "<style type=\"text/css\">\n",
       "#T_2efbf thead tr th:nth-child(1) {\n",
       "  position: sticky;\n",
       "  background-color: inherit;\n",
       "  left: 0px;\n",
       "  z-index: 3 !important;\n",
       "}\n",
       "#T_2efbf tbody tr th:nth-child(1) {\n",
       "  position: sticky;\n",
       "  background-color: inherit;\n",
       "  left: 0px;\n",
       "  z-index: 1;\n",
       "}\n",
       "#T_2efbf_row0_col0 {\n",
       "  background-color: #9d3d9d;\n",
       "  color: #f1f1f1;\n",
       "}\n",
       "#T_2efbf_row0_col1 {\n",
       "  background-color: #cd9bcd;\n",
       "  color: #000000;\n",
       "}\n",
       "#T_2efbf_row0_col2 {\n",
       "  background-color: #b671b6;\n",
       "  color: #f1f1f1;\n",
       "}\n",
       "#T_2efbf_row1_col0 {\n",
       "  background-color: #973097;\n",
       "  color: #f1f1f1;\n",
       "}\n",
       "#T_2efbf_row1_col1 {\n",
       "  background-color: #e7cfe7;\n",
       "  color: #000000;\n",
       "}\n",
       "#T_2efbf_row1_col2 {\n",
       "  background-color: #bd80bd;\n",
       "  color: #f1f1f1;\n",
       "}\n",
       "#T_2efbf_row2_col0 {\n",
       "  background-color: #8d1b8d;\n",
       "  color: #f1f1f1;\n",
       "}\n",
       "#T_2efbf_row2_col1 {\n",
       "  background-color: #e2c5e2;\n",
       "  color: #000000;\n",
       "}\n",
       "#T_2efbf_row2_col2 {\n",
       "  background-color: #aa57aa;\n",
       "  color: #f1f1f1;\n",
       "}\n",
       "</style>\n",
       "<table id=\"T_2efbf\">\n",
       "  <thead>\n",
       "    <tr>\n",
       "      <th class=\"blank level0\" >&nbsp;</th>\n",
       "      <th id=\"T_2efbf_level0_col0\" class=\"col_heading level0 col0\" >aopc_compr</th>\n",
       "      <th id=\"T_2efbf_level0_col1\" class=\"col_heading level0 col1\" >aopc_suff</th>\n",
       "      <th id=\"T_2efbf_level0_col2\" class=\"col_heading level0 col2\" >taucorr_loo</th>\n",
       "    </tr>\n",
       "    <tr>\n",
       "      <th class=\"index_name level0\" >Explainer</th>\n",
       "      <th class=\"blank col0\" >&nbsp;</th>\n",
       "      <th class=\"blank col1\" >&nbsp;</th>\n",
       "      <th class=\"blank col2\" >&nbsp;</th>\n",
       "    </tr>\n",
       "  </thead>\n",
       "  <tbody>\n",
       "    <tr>\n",
       "      <th id=\"T_2efbf_level0_row0\" class=\"row_heading level0 row0\" >Integrated Gradient (x Input)</th>\n",
       "      <td id=\"T_2efbf_row0_col0\" class=\"data row0 col0\" >0.48</td>\n",
       "      <td id=\"T_2efbf_row0_col1\" class=\"data row0 col1\" >0.61</td>\n",
       "      <td id=\"T_2efbf_row0_col2\" class=\"data row0 col2\" >0.06</td>\n",
       "    </tr>\n",
       "    <tr>\n",
       "      <th id=\"T_2efbf_level0_row1\" class=\"row_heading level0 row1\" >Gradient (x Input)</th>\n",
       "      <td id=\"T_2efbf_row1_col0\" class=\"data row1 col0\" >0.60</td>\n",
       "      <td id=\"T_2efbf_row1_col1\" class=\"data row1 col1\" >0.80</td>\n",
       "      <td id=\"T_2efbf_row1_col2\" class=\"data row1 col2\" >-0.07</td>\n",
       "    </tr>\n",
       "    <tr>\n",
       "      <th id=\"T_2efbf_level0_row2\" class=\"row_heading level0 row2\" >LIME</th>\n",
       "      <td id=\"T_2efbf_row2_col0\" class=\"data row2 col0\" >0.77</td>\n",
       "      <td id=\"T_2efbf_row2_col1\" class=\"data row2 col1\" >0.77</td>\n",
       "      <td id=\"T_2efbf_row2_col2\" class=\"data row2 col2\" >0.27</td>\n",
       "    </tr>\n",
       "  </tbody>\n",
       "</table>\n"
      ],
      "text/plain": [
       "<pandas.io.formats.style.Styler at 0x2ab04a710>"
      ]
     },
     "execution_count": 17,
     "metadata": {},
     "output_type": "execute_result"
    }
   ],
   "source": [
    "# evaluate explanations and show faithfulness metrics\n",
    "bench.show_evaluation_table(bench.evaluate_explanations(exp, target=\"contradiction\"))"
   ]
  }
 ],
 "metadata": {
  "kernelspec": {
   "display_name": "Python 3 (ipykernel)",
   "language": "python",
   "name": "python3"
  },
  "language_info": {
   "codemirror_mode": {
    "name": "ipython",
    "version": 3
   },
   "file_extension": ".py",
   "mimetype": "text/x-python",
   "name": "python",
   "nbconvert_exporter": "python",
   "pygments_lexer": "ipython3",
   "version": "3.10.11"
  },
  "vscode": {
   "interpreter": {
    "hash": "78645345e5495b5ada400086274ed52038b33bbda7f86ad5b81938b6e8cf303a"
   }
  }
 },
 "nbformat": 4,
 "nbformat_minor": 4
}
