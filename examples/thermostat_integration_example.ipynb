{
 "cells": [
  {
   "cell_type": "markdown",
   "id": "9d24491a",
   "metadata": {},
   "source": [
    "# *ferret* ❤️ *thermostat*\n",
    "\n",
    "Hi there! This notebook show how **ferret** easily integrates **[thermostat](https://github.com/DFKI-NLP/thermostat)**, a large collection of pre-computed NLP model explanations.\n",
    "\n",
    "Specifically, you will see how to:\n",
    "\n",
    "- load a thermostat dataset;\n",
    "- visualize the explanations of thermostat dataset of multiple explainers;\n",
    "- **evaluate** thermostat explanations over the faithfulness metrics."
   ]
  },
  {
   "cell_type": "code",
   "execution_count": 1,
   "id": "52852519-03d4-4f7e-8a73-8c80786d5646",
   "metadata": {},
   "outputs": [],
   "source": [
    "%load_ext autoreload\n",
    "%autoreload 2"
   ]
  },
  {
   "cell_type": "code",
   "execution_count": 2,
   "id": "14d18989-fda4-4f8d-b265-2992d9062e99",
   "metadata": {},
   "outputs": [
    {
     "name": "stderr",
     "output_type": "stream",
     "text": [
      "/Users/eliana/miniconda3/envs/xai/lib/python3.9/site-packages/tqdm/auto.py:22: TqdmWarning: IProgress not found. Please update jupyter and ipywidgets. See https://ipywidgets.readthedocs.io/en/stable/user_install.html\n",
      "  from .autonotebook import tqdm as notebook_tqdm\n"
     ]
    }
   ],
   "source": [
    "from transformers import AutoTokenizer, AutoModelForSequenceClassification\n",
    "from ferret.datasets.datamanagers_thermostat import ThermostatDataset\n",
    "from ferret import Benchmark\n",
    "import numpy as np"
   ]
  },
  {
   "cell_type": "markdown",
   "id": "ae208bd3",
   "metadata": {},
   "source": [
    "## Load Thermostat explanations"
   ]
  },
  {
   "cell_type": "markdown",
   "id": "d828d20a",
   "metadata": {},
   "source": [
    "thermostat is a collection of pre-computed explanations of NLP models. Explanations are pre-computed for a wide range of Hugging Face's datasets and transformers-based models.\n",
    "\n",
    "\n",
    "\n",
    "ferret easily integrates thermostat.\n",
    "A thermostat dataset is identified by the three basic information: dataset, model, and explainer.\n",
    "For loading it, ferret adopts the same input configuration. \n",
    "\n",
    "For example, we can load the explanations of lime for the bert model on the ag news dataset by specifying the string \"ag_news-bert-lime\": `thermostat_data_exp = ThermostatDataset(\"ag_news-bert-lime\")`"
   ]
  },
  {
   "cell_type": "markdown",
   "id": "b604b0fc",
   "metadata": {},
   "source": [
    "The power of **ferret** is its ability to **compare** explanations for **multiple explainers and evaluate** them.\n",
    "\n",
    "ferret directly integrates explanations of multiple explainers, directly available in Thermostat! 🚀 "
   ]
  },
  {
   "cell_type": "markdown",
   "id": "5a87bdd9",
   "metadata": {},
   "source": [
    "In the example, we load the explanations of the *lime*, *occlusion* and *layer integrated gradients* (lig) explainers for the bert prediction on the ag news dataset. "
   ]
  },
  {
   "cell_type": "code",
   "execution_count": 3,
   "id": "ac4f81b0",
   "metadata": {},
   "outputs": [
    {
     "name": "stderr",
     "output_type": "stream",
     "text": [
      "Reusing dataset dataset (/Users/eliana/.cache/huggingface/datasets/dataset/ag_news-bert-lime/1.0.2/0cbe93e1fbe5b8ed0217559442d8b49a80fd4c2787185f2d7940817c67d8707b)\n"
     ]
    },
    {
     "name": "stdout",
     "output_type": "stream",
     "text": [
      "Loading Thermostat configuration: ag_news-bert-lime\n"
     ]
    },
    {
     "name": "stderr",
     "output_type": "stream",
     "text": [
      "Reusing dataset dataset (/Users/eliana/.cache/huggingface/datasets/dataset/ag_news-bert-occlusion/1.0.2/0cbe93e1fbe5b8ed0217559442d8b49a80fd4c2787185f2d7940817c67d8707b)\n"
     ]
    },
    {
     "name": "stdout",
     "output_type": "stream",
     "text": [
      "Loading Thermostat configuration: ag_news-bert-occlusion\n"
     ]
    },
    {
     "name": "stderr",
     "output_type": "stream",
     "text": [
      "Reusing dataset dataset (/Users/eliana/.cache/huggingface/datasets/dataset/ag_news-bert-lig/1.0.2/0cbe93e1fbe5b8ed0217559442d8b49a80fd4c2787185f2d7940817c67d8707b)\n"
     ]
    },
    {
     "name": "stdout",
     "output_type": "stream",
     "text": [
      "Loading Thermostat configuration: ag_news-bert-lig\n"
     ]
    }
   ],
   "source": [
    "thermostat_data = ThermostatDataset(\"ag_news-bert\", name_explainers=[\"lime\", \"occlusion\", \"lig\"])"
   ]
  },
  {
   "cell_type": "markdown",
   "id": "096d9a7c",
   "metadata": {},
   "source": [
    "We access to the model and tokenizer adopted by the imported thermostat dataset. We then directly use our `Benchmark` interface class."
   ]
  },
  {
   "cell_type": "code",
   "execution_count": 4,
   "id": "6306c2e9",
   "metadata": {},
   "outputs": [],
   "source": [
    "model = AutoModelForSequenceClassification.from_pretrained(thermostat_data.model_name)\n",
    "tokenizer = AutoTokenizer.from_pretrained(thermostat_data.tokenizer_name)\n",
    "\n",
    "\n",
    "from ferret import Benchmark\n",
    "\n",
    "bench = Benchmark(model, tokenizer)"
   ]
  },
  {
   "cell_type": "markdown",
   "id": "5b9fd2f9",
   "metadata": {},
   "source": [
    "## Explanations of a single instance and its evaluation"
   ]
  },
  {
   "cell_type": "markdown",
   "id": "d54e135d",
   "metadata": {},
   "source": [
    "We can easily get the explanations for an instance and visualize it.\n",
    "\n",
    "Note that we can get explanations by its index (`explanations = thermostat_data[i][\"explanations\"]`) or directly via the `get_explanations` function."
   ]
  },
  {
   "cell_type": "code",
   "execution_count": 5,
   "id": "b53f0547",
   "metadata": {},
   "outputs": [
    {
     "data": {
      "text/html": [
       "<style type=\"text/css\">\n",
       "#T_3acc0_row0_col0, #T_3acc0_row1_col29, #T_3acc0_row2_col3, #T_3acc0_row2_col5, #T_3acc0_row2_col21, #T_3acc0_row2_col28 {\n",
       "  background-color: #f2eded;\n",
       "  color: #000000;\n",
       "}\n",
       "#T_3acc0_row0_col1, #T_3acc0_row0_col8, #T_3acc0_row0_col18, #T_3acc0_row0_col23, #T_3acc0_row0_col24, #T_3acc0_row1_col16, #T_3acc0_row1_col17, #T_3acc0_row1_col21, #T_3acc0_row2_col14, #T_3acc0_row2_col15, #T_3acc0_row2_col22 {\n",
       "  background-color: #f1f1f2;\n",
       "  color: #000000;\n",
       "}\n",
       "#T_3acc0_row0_col2, #T_3acc0_row0_col15, #T_3acc0_row1_col14, #T_3acc0_row1_col15, #T_3acc0_row1_col27, #T_3acc0_row2_col16 {\n",
       "  background-color: #e9edf0;\n",
       "  color: #000000;\n",
       "}\n",
       "#T_3acc0_row0_col3 {\n",
       "  background-color: #d8e1e8;\n",
       "  color: #000000;\n",
       "}\n",
       "#T_3acc0_row0_col4, #T_3acc0_row0_col11, #T_3acc0_row1_col28, #T_3acc0_row2_col1, #T_3acc0_row2_col9, #T_3acc0_row2_col23 {\n",
       "  background-color: #f2eeee;\n",
       "  color: #000000;\n",
       "}\n",
       "#T_3acc0_row0_col5 {\n",
       "  background-color: #f0ddde;\n",
       "  color: #000000;\n",
       "}\n",
       "#T_3acc0_row0_col6, #T_3acc0_row1_col2, #T_3acc0_row2_col6, #T_3acc0_row2_col18, #T_3acc0_row2_col26 {\n",
       "  background-color: #f2ebeb;\n",
       "  color: #000000;\n",
       "}\n",
       "#T_3acc0_row0_col7, #T_3acc0_row0_col9, #T_3acc0_row0_col13, #T_3acc0_row0_col27, #T_3acc0_row0_col28, #T_3acc0_row1_col10, #T_3acc0_row1_col11, #T_3acc0_row1_col12, #T_3acc0_row1_col18, #T_3acc0_row1_col23, #T_3acc0_row2_col10, #T_3acc0_row2_col12 {\n",
       "  background-color: #f2f1f1;\n",
       "  color: #000000;\n",
       "}\n",
       "#T_3acc0_row0_col10, #T_3acc0_row0_col17, #T_3acc0_row1_col8, #T_3acc0_row1_col9, #T_3acc0_row1_col13, #T_3acc0_row1_col20, #T_3acc0_row1_col24, #T_3acc0_row2_col13, #T_3acc0_row2_col17 {\n",
       "  background-color: #eff0f2;\n",
       "  color: #000000;\n",
       "}\n",
       "#T_3acc0_row0_col12, #T_3acc0_row1_col6, #T_3acc0_row1_col19 {\n",
       "  background-color: #eceef1;\n",
       "  color: #000000;\n",
       "}\n",
       "#T_3acc0_row0_col14, #T_3acc0_row0_col19, #T_3acc0_row2_col2 {\n",
       "  background-color: #e5eaee;\n",
       "  color: #000000;\n",
       "}\n",
       "#T_3acc0_row0_col16 {\n",
       "  background-color: #d9e2e9;\n",
       "  color: #000000;\n",
       "}\n",
       "#T_3acc0_row0_col20, #T_3acc0_row0_col21, #T_3acc0_row0_col26, #T_3acc0_row1_col22, #T_3acc0_row2_col8, #T_3acc0_row2_col11 {\n",
       "  background-color: #f2efef;\n",
       "  color: #000000;\n",
       "}\n",
       "#T_3acc0_row0_col22 {\n",
       "  background-color: #f0e3e3;\n",
       "  color: #000000;\n",
       "}\n",
       "#T_3acc0_row0_col25, #T_3acc0_row1_col5 {\n",
       "  background-color: #f1e8e9;\n",
       "  color: #000000;\n",
       "}\n",
       "#T_3acc0_row0_col29 {\n",
       "  background-color: #e8ecef;\n",
       "  color: #000000;\n",
       "}\n",
       "#T_3acc0_row1_col0 {\n",
       "  background-color: #e0e6eb;\n",
       "  color: #000000;\n",
       "}\n",
       "#T_3acc0_row1_col1, #T_3acc0_row2_col20 {\n",
       "  background-color: #ebeef0;\n",
       "  color: #000000;\n",
       "}\n",
       "#T_3acc0_row1_col3, #T_3acc0_row2_col4 {\n",
       "  background-color: #efd9da;\n",
       "  color: #000000;\n",
       "}\n",
       "#T_3acc0_row1_col4 {\n",
       "  background-color: #f0e0e1;\n",
       "  color: #000000;\n",
       "}\n",
       "#T_3acc0_row1_col7, #T_3acc0_row1_col25, #T_3acc0_row1_col26, #T_3acc0_row2_col19, #T_3acc0_row2_col29 {\n",
       "  background-color: #edeff1;\n",
       "  color: #000000;\n",
       "}\n",
       "#T_3acc0_row2_col0, #T_3acc0_row2_col24 {\n",
       "  background-color: #f1e7e7;\n",
       "  color: #000000;\n",
       "}\n",
       "#T_3acc0_row2_col7 {\n",
       "  background-color: #f1e4e5;\n",
       "  color: #000000;\n",
       "}\n",
       "#T_3acc0_row2_col25 {\n",
       "  background-color: #f0e1e2;\n",
       "  color: #000000;\n",
       "}\n",
       "#T_3acc0_row2_col27 {\n",
       "  background-color: #e7ebee;\n",
       "  color: #000000;\n",
       "}\n",
       "</style>\n",
       "<table id=\"T_3acc0\">\n",
       "  <thead>\n",
       "    <tr>\n",
       "      <th class=\"blank level0\" >&nbsp;</th>\n",
       "      <th id=\"T_3acc0_level0_col0\" class=\"col_heading level0 col0\" >fears</th>\n",
       "      <th id=\"T_3acc0_level0_col1\" class=\"col_heading level0 col1\" >for</th>\n",
       "      <th id=\"T_3acc0_level0_col2\" class=\"col_heading level0 col2\" >t</th>\n",
       "      <th id=\"T_3acc0_level0_col3\" class=\"col_heading level0 col3\" >n</th>\n",
       "      <th id=\"T_3acc0_level0_col4\" class=\"col_heading level0 col4\" >pension</th>\n",
       "      <th id=\"T_3acc0_level0_col5\" class=\"col_heading level0 col5\" >after</th>\n",
       "      <th id=\"T_3acc0_level0_col6\" class=\"col_heading level0 col6\" >talks</th>\n",
       "      <th id=\"T_3acc0_level0_col7\" class=\"col_heading level0 col7\" >unions</th>\n",
       "      <th id=\"T_3acc0_level0_col8\" class=\"col_heading level0 col8\" >representing</th>\n",
       "      <th id=\"T_3acc0_level0_col9\" class=\"col_heading level0 col9\" >workers</th>\n",
       "      <th id=\"T_3acc0_level0_col10\" class=\"col_heading level0 col10\" >at</th>\n",
       "      <th id=\"T_3acc0_level0_col11\" class=\"col_heading level0 col11\" >turner</th>\n",
       "      <th id=\"T_3acc0_level0_col12\" class=\"col_heading level0 col12\" >new</th>\n",
       "      <th id=\"T_3acc0_level0_col13\" class=\"col_heading level0 col13\" >##all</th>\n",
       "      <th id=\"T_3acc0_level0_col14\" class=\"col_heading level0 col14\" >say</th>\n",
       "      <th id=\"T_3acc0_level0_col15\" class=\"col_heading level0 col15\" >they</th>\n",
       "      <th id=\"T_3acc0_level0_col16\" class=\"col_heading level0 col16\" >are</th>\n",
       "      <th id=\"T_3acc0_level0_col17\" class=\"col_heading level0 col17\" >'</th>\n",
       "      <th id=\"T_3acc0_level0_col18\" class=\"col_heading level0 col18\" >disappointed</th>\n",
       "      <th id=\"T_3acc0_level0_col19\" class=\"col_heading level0 col19\" >'.1</th>\n",
       "      <th id=\"T_3acc0_level0_col20\" class=\"col_heading level0 col20\" >after.1</th>\n",
       "      <th id=\"T_3acc0_level0_col21\" class=\"col_heading level0 col21\" >talks.1</th>\n",
       "      <th id=\"T_3acc0_level0_col22\" class=\"col_heading level0 col22\" >with</th>\n",
       "      <th id=\"T_3acc0_level0_col23\" class=\"col_heading level0 col23\" >stricken</th>\n",
       "      <th id=\"T_3acc0_level0_col24\" class=\"col_heading level0 col24\" >parent</th>\n",
       "      <th id=\"T_3acc0_level0_col25\" class=\"col_heading level0 col25\" >firm</th>\n",
       "      <th id=\"T_3acc0_level0_col26\" class=\"col_heading level0 col26\" >federal</th>\n",
       "      <th id=\"T_3acc0_level0_col27\" class=\"col_heading level0 col27\" >mo</th>\n",
       "      <th id=\"T_3acc0_level0_col28\" class=\"col_heading level0 col28\" >##gul</th>\n",
       "      <th id=\"T_3acc0_level0_col29\" class=\"col_heading level0 col29\" >.</th>\n",
       "    </tr>\n",
       "  </thead>\n",
       "  <tbody>\n",
       "    <tr>\n",
       "      <th id=\"T_3acc0_level0_row0\" class=\"row_heading level0 row0\" >lime</th>\n",
       "      <td id=\"T_3acc0_row0_col0\" class=\"data row0 col0\" >0.02</td>\n",
       "      <td id=\"T_3acc0_row0_col1\" class=\"data row0 col1\" >-0.01</td>\n",
       "      <td id=\"T_3acc0_row0_col2\" class=\"data row0 col2\" >-0.04</td>\n",
       "      <td id=\"T_3acc0_row0_col3\" class=\"data row0 col3\" >-0.14</td>\n",
       "      <td id=\"T_3acc0_row0_col4\" class=\"data row0 col4\" >0.02</td>\n",
       "      <td id=\"T_3acc0_row0_col5\" class=\"data row0 col5\" >0.11</td>\n",
       "      <td id=\"T_3acc0_row0_col6\" class=\"data row0 col6\" >0.03</td>\n",
       "      <td id=\"T_3acc0_row0_col7\" class=\"data row0 col7\" >0.01</td>\n",
       "      <td id=\"T_3acc0_row0_col8\" class=\"data row0 col8\" >-0.01</td>\n",
       "      <td id=\"T_3acc0_row0_col9\" class=\"data row0 col9\" >0.00</td>\n",
       "      <td id=\"T_3acc0_row0_col10\" class=\"data row0 col10\" >-0.01</td>\n",
       "      <td id=\"T_3acc0_row0_col11\" class=\"data row0 col11\" >0.02</td>\n",
       "      <td id=\"T_3acc0_row0_col12\" class=\"data row0 col12\" >-0.02</td>\n",
       "      <td id=\"T_3acc0_row0_col13\" class=\"data row0 col13\" >0.00</td>\n",
       "      <td id=\"T_3acc0_row0_col14\" class=\"data row0 col14\" >-0.06</td>\n",
       "      <td id=\"T_3acc0_row0_col15\" class=\"data row0 col15\" >-0.04</td>\n",
       "      <td id=\"T_3acc0_row0_col16\" class=\"data row0 col16\" >-0.14</td>\n",
       "      <td id=\"T_3acc0_row0_col17\" class=\"data row0 col17\" >-0.01</td>\n",
       "      <td id=\"T_3acc0_row0_col18\" class=\"data row0 col18\" >-0.00</td>\n",
       "      <td id=\"T_3acc0_row0_col19\" class=\"data row0 col19\" >-0.07</td>\n",
       "      <td id=\"T_3acc0_row0_col20\" class=\"data row0 col20\" >0.01</td>\n",
       "      <td id=\"T_3acc0_row0_col21\" class=\"data row0 col21\" >0.01</td>\n",
       "      <td id=\"T_3acc0_row0_col22\" class=\"data row0 col22\" >0.08</td>\n",
       "      <td id=\"T_3acc0_row0_col23\" class=\"data row0 col23\" >-0.00</td>\n",
       "      <td id=\"T_3acc0_row0_col24\" class=\"data row0 col24\" >-0.00</td>\n",
       "      <td id=\"T_3acc0_row0_col25\" class=\"data row0 col25\" >0.05</td>\n",
       "      <td id=\"T_3acc0_row0_col26\" class=\"data row0 col26\" >0.01</td>\n",
       "      <td id=\"T_3acc0_row0_col27\" class=\"data row0 col27\" >0.00</td>\n",
       "      <td id=\"T_3acc0_row0_col28\" class=\"data row0 col28\" >0.01</td>\n",
       "      <td id=\"T_3acc0_row0_col29\" class=\"data row0 col29\" >-0.05</td>\n",
       "    </tr>\n",
       "    <tr>\n",
       "      <th id=\"T_3acc0_level0_row1\" class=\"row_heading level0 row1\" >occlusion</th>\n",
       "      <td id=\"T_3acc0_row1_col0\" class=\"data row1 col0\" >-0.10</td>\n",
       "      <td id=\"T_3acc0_row1_col1\" class=\"data row1 col1\" >-0.04</td>\n",
       "      <td id=\"T_3acc0_row1_col2\" class=\"data row1 col2\" >0.04</td>\n",
       "      <td id=\"T_3acc0_row1_col3\" class=\"data row1 col3\" >0.14</td>\n",
       "      <td id=\"T_3acc0_row1_col4\" class=\"data row1 col4\" >0.10</td>\n",
       "      <td id=\"T_3acc0_row1_col5\" class=\"data row1 col5\" >0.05</td>\n",
       "      <td id=\"T_3acc0_row1_col6\" class=\"data row1 col6\" >-0.03</td>\n",
       "      <td id=\"T_3acc0_row1_col7\" class=\"data row1 col7\" >-0.02</td>\n",
       "      <td id=\"T_3acc0_row1_col8\" class=\"data row1 col8\" >-0.01</td>\n",
       "      <td id=\"T_3acc0_row1_col9\" class=\"data row1 col9\" >-0.01</td>\n",
       "      <td id=\"T_3acc0_row1_col10\" class=\"data row1 col10\" >0.00</td>\n",
       "      <td id=\"T_3acc0_row1_col11\" class=\"data row1 col11\" >0.00</td>\n",
       "      <td id=\"T_3acc0_row1_col12\" class=\"data row1 col12\" >0.00</td>\n",
       "      <td id=\"T_3acc0_row1_col13\" class=\"data row1 col13\" >-0.02</td>\n",
       "      <td id=\"T_3acc0_row1_col14\" class=\"data row1 col14\" >-0.05</td>\n",
       "      <td id=\"T_3acc0_row1_col15\" class=\"data row1 col15\" >-0.04</td>\n",
       "      <td id=\"T_3acc0_row1_col16\" class=\"data row1 col16\" >-0.01</td>\n",
       "      <td id=\"T_3acc0_row1_col17\" class=\"data row1 col17\" >-0.00</td>\n",
       "      <td id=\"T_3acc0_row1_col18\" class=\"data row1 col18\" >0.01</td>\n",
       "      <td id=\"T_3acc0_row1_col19\" class=\"data row1 col19\" >-0.03</td>\n",
       "      <td id=\"T_3acc0_row1_col20\" class=\"data row1 col20\" >-0.01</td>\n",
       "      <td id=\"T_3acc0_row1_col21\" class=\"data row1 col21\" >-0.01</td>\n",
       "      <td id=\"T_3acc0_row1_col22\" class=\"data row1 col22\" >0.01</td>\n",
       "      <td id=\"T_3acc0_row1_col23\" class=\"data row1 col23\" >0.01</td>\n",
       "      <td id=\"T_3acc0_row1_col24\" class=\"data row1 col24\" >-0.01</td>\n",
       "      <td id=\"T_3acc0_row1_col25\" class=\"data row1 col25\" >-0.02</td>\n",
       "      <td id=\"T_3acc0_row1_col26\" class=\"data row1 col26\" >-0.02</td>\n",
       "      <td id=\"T_3acc0_row1_col27\" class=\"data row1 col27\" >-0.04</td>\n",
       "      <td id=\"T_3acc0_row1_col28\" class=\"data row1 col28\" >0.02</td>\n",
       "      <td id=\"T_3acc0_row1_col29\" class=\"data row1 col29\" >0.03</td>\n",
       "    </tr>\n",
       "    <tr>\n",
       "      <th id=\"T_3acc0_level0_row2\" class=\"row_heading level0 row2\" >lig</th>\n",
       "      <td id=\"T_3acc0_row2_col0\" class=\"data row2 col0\" >0.06</td>\n",
       "      <td id=\"T_3acc0_row2_col1\" class=\"data row2 col1\" >0.02</td>\n",
       "      <td id=\"T_3acc0_row2_col2\" class=\"data row2 col2\" >-0.07</td>\n",
       "      <td id=\"T_3acc0_row2_col3\" class=\"data row2 col3\" >0.03</td>\n",
       "      <td id=\"T_3acc0_row2_col4\" class=\"data row2 col4\" >0.13</td>\n",
       "      <td id=\"T_3acc0_row2_col5\" class=\"data row2 col5\" >0.03</td>\n",
       "      <td id=\"T_3acc0_row2_col6\" class=\"data row2 col6\" >0.03</td>\n",
       "      <td id=\"T_3acc0_row2_col7\" class=\"data row2 col7\" >0.07</td>\n",
       "      <td id=\"T_3acc0_row2_col8\" class=\"data row2 col8\" >0.01</td>\n",
       "      <td id=\"T_3acc0_row2_col9\" class=\"data row2 col9\" >0.02</td>\n",
       "      <td id=\"T_3acc0_row2_col10\" class=\"data row2 col10\" >0.00</td>\n",
       "      <td id=\"T_3acc0_row2_col11\" class=\"data row2 col11\" >0.01</td>\n",
       "      <td id=\"T_3acc0_row2_col12\" class=\"data row2 col12\" >0.00</td>\n",
       "      <td id=\"T_3acc0_row2_col13\" class=\"data row2 col13\" >-0.01</td>\n",
       "      <td id=\"T_3acc0_row2_col14\" class=\"data row2 col14\" >-0.01</td>\n",
       "      <td id=\"T_3acc0_row2_col15\" class=\"data row2 col15\" >-0.01</td>\n",
       "      <td id=\"T_3acc0_row2_col16\" class=\"data row2 col16\" >-0.04</td>\n",
       "      <td id=\"T_3acc0_row2_col17\" class=\"data row2 col17\" >-0.01</td>\n",
       "      <td id=\"T_3acc0_row2_col18\" class=\"data row2 col18\" >0.04</td>\n",
       "      <td id=\"T_3acc0_row2_col19\" class=\"data row2 col19\" >-0.02</td>\n",
       "      <td id=\"T_3acc0_row2_col20\" class=\"data row2 col20\" >-0.03</td>\n",
       "      <td id=\"T_3acc0_row2_col21\" class=\"data row2 col21\" >0.03</td>\n",
       "      <td id=\"T_3acc0_row2_col22\" class=\"data row2 col22\" >-0.00</td>\n",
       "      <td id=\"T_3acc0_row2_col23\" class=\"data row2 col23\" >0.02</td>\n",
       "      <td id=\"T_3acc0_row2_col24\" class=\"data row2 col24\" >0.06</td>\n",
       "      <td id=\"T_3acc0_row2_col25\" class=\"data row2 col25\" >0.09</td>\n",
       "      <td id=\"T_3acc0_row2_col26\" class=\"data row2 col26\" >0.03</td>\n",
       "      <td id=\"T_3acc0_row2_col27\" class=\"data row2 col27\" >-0.06</td>\n",
       "      <td id=\"T_3acc0_row2_col28\" class=\"data row2 col28\" >0.03</td>\n",
       "      <td id=\"T_3acc0_row2_col29\" class=\"data row2 col29\" >-0.02</td>\n",
       "    </tr>\n",
       "  </tbody>\n",
       "</table>\n"
      ],
      "text/plain": [
       "<pandas.io.formats.style.Styler at 0x292b4cf40>"
      ]
     },
     "execution_count": 5,
     "metadata": {},
     "output_type": "execute_result"
    }
   ],
   "source": [
    "i = 0\n",
    "# We normalize explanations to ease the comparison\n",
    "explanations = thermostat_data.get_explanations(i, normalize_scores = True)\n",
    "\n",
    "table = bench.show_table(explanations)\n",
    "table"
   ]
  },
  {
   "cell_type": "markdown",
   "id": "6c4c70a5",
   "metadata": {},
   "source": [
    "Evaluate the pre-computed explanations with all the supported evaluators is straightforward. \n",
    "The `target` parameter matches the one used by Thermostat to generate the the explanations of the instance!"
   ]
  },
  {
   "cell_type": "code",
   "execution_count": 6,
   "id": "4a38b57b",
   "metadata": {},
   "outputs": [
    {
     "name": "stderr",
     "output_type": "stream",
     "text": [
      "                                                                                \r"
     ]
    }
   ],
   "source": [
    "target = thermostat_data.get_target_explanations(i)\n",
    "explanation_evaluations = bench.evaluate_explanations(explanations, target=target)"
   ]
  },
  {
   "cell_type": "markdown",
   "id": "d0f6e7b8",
   "metadata": {},
   "source": [
    "We can then visualize the result"
   ]
  },
  {
   "cell_type": "code",
   "execution_count": 7,
   "id": "d34b93b0",
   "metadata": {},
   "outputs": [
    {
     "data": {
      "text/html": [
       "<style type=\"text/css\">\n",
       "#T_d6267_row0_col0 {\n",
       "  background-color: #eecfd1;\n",
       "  color: #000000;\n",
       "  background-color: #ae61ae;\n",
       "  color: #f1f1f1;\n",
       "}\n",
       "#T_d6267_row0_col1 {\n",
       "  background-color: #efd6d7;\n",
       "  color: #000000;\n",
       "  background-color: #c28ac2;\n",
       "  color: #f1f1f1;\n",
       "}\n",
       "#T_d6267_row0_col2 {\n",
       "  background-color: #eff0f2;\n",
       "  color: #000000;\n",
       "  background-color: #ba79ba;\n",
       "  color: #f1f1f1;\n",
       "}\n",
       "#T_d6267_row1_col0 {\n",
       "  background-color: #efdadb;\n",
       "  color: #000000;\n",
       "  background-color: #b268b2;\n",
       "  color: #f1f1f1;\n",
       "}\n",
       "#T_d6267_row1_col1, #T_d6267_row2_col1 {\n",
       "  background-color: #f1f1f2;\n",
       "  color: #000000;\n",
       "  background-color: #b977b9;\n",
       "  color: #f1f1f1;\n",
       "}\n",
       "#T_d6267_row1_col2 {\n",
       "  background-color: #f2eeee;\n",
       "  color: #000000;\n",
       "  background-color: #b876b8;\n",
       "  color: #f1f1f1;\n",
       "}\n",
       "#T_d6267_row2_col0 {\n",
       "  background-color: #ecc5c7;\n",
       "  color: #000000;\n",
       "  background-color: #ab5aab;\n",
       "  color: #f1f1f1;\n",
       "}\n",
       "#T_d6267_row2_col2 {\n",
       "  background-color: #e7ebee;\n",
       "  color: #000000;\n",
       "  background-color: #bd7fbd;\n",
       "  color: #f1f1f1;\n",
       "}\n",
       "</style>\n",
       "<table id=\"T_d6267\">\n",
       "  <thead>\n",
       "    <tr>\n",
       "      <th class=\"blank level0\" >&nbsp;</th>\n",
       "      <th id=\"T_d6267_level0_col0\" class=\"col_heading level0 col0\" >aopc_compr</th>\n",
       "      <th id=\"T_d6267_level0_col1\" class=\"col_heading level0 col1\" >aopc_suff</th>\n",
       "      <th id=\"T_d6267_level0_col2\" class=\"col_heading level0 col2\" >taucorr_loo</th>\n",
       "    </tr>\n",
       "  </thead>\n",
       "  <tbody>\n",
       "    <tr>\n",
       "      <th id=\"T_d6267_level0_row0\" class=\"row_heading level0 row0\" >lime</th>\n",
       "      <td id=\"T_d6267_row0_col0\" class=\"data row0 col0\" >0.19</td>\n",
       "      <td id=\"T_d6267_row0_col1\" class=\"data row0 col1\" >0.15</td>\n",
       "      <td id=\"T_d6267_row0_col2\" class=\"data row0 col2\" >-0.01</td>\n",
       "    </tr>\n",
       "    <tr>\n",
       "      <th id=\"T_d6267_level0_row1\" class=\"row_heading level0 row1\" >occlusion</th>\n",
       "      <td id=\"T_d6267_row1_col0\" class=\"data row1 col0\" >0.13</td>\n",
       "      <td id=\"T_d6267_row1_col1\" class=\"data row1 col1\" >-0.00</td>\n",
       "      <td id=\"T_d6267_row1_col2\" class=\"data row1 col2\" >0.02</td>\n",
       "    </tr>\n",
       "    <tr>\n",
       "      <th id=\"T_d6267_level0_row2\" class=\"row_heading level0 row2\" >lig</th>\n",
       "      <td id=\"T_d6267_row2_col0\" class=\"data row2 col0\" >0.24</td>\n",
       "      <td id=\"T_d6267_row2_col1\" class=\"data row2 col1\" >-0.00</td>\n",
       "      <td id=\"T_d6267_row2_col2\" class=\"data row2 col2\" >-0.06</td>\n",
       "    </tr>\n",
       "  </tbody>\n",
       "</table>\n"
      ],
      "text/plain": [
       "<pandas.io.formats.style.Styler at 0x2beffdf10>"
      ]
     },
     "execution_count": 7,
     "metadata": {},
     "output_type": "execute_result"
    }
   ],
   "source": [
    "bench.show_evaluation_table(explanation_evaluations)"
   ]
  },
  {
   "cell_type": "markdown",
   "id": "e3f28fd1",
   "metadata": {},
   "source": [
    "## Evaluate explainers on a multiple instances"
   ]
  },
  {
   "cell_type": "markdown",
   "id": "be2abc9e",
   "metadata": {},
   "source": [
    "We can then evaluate explanations across multiple samples. The evaluation compute the average faithfulness scores of the explainers across the samples "
   ]
  },
  {
   "cell_type": "code",
   "execution_count": 8,
   "id": "c06828ed",
   "metadata": {
    "scrolled": true
   },
   "outputs": [
    {
     "name": "stderr",
     "output_type": "stream",
     "text": [
      "                                                                                \r"
     ]
    }
   ],
   "source": [
    "# Compute and average evaluation scores one of the supported dataset\n",
    "samples = np.arange(10)\n",
    "sample_evaluations =  bench.evaluate_samples(thermostat_data, samples)"
   ]
  },
  {
   "cell_type": "markdown",
   "id": "11abb767",
   "metadata": {},
   "source": [
    "and we visualize the result"
   ]
  },
  {
   "cell_type": "code",
   "execution_count": 9,
   "id": "aed57e27",
   "metadata": {},
   "outputs": [
    {
     "data": {
      "text/html": [
       "<style type=\"text/css\">\n",
       "#T_0bbc4_row0_col0 {\n",
       "  background-color: #edccce;\n",
       "  color: #000000;\n",
       "  background-color: #ad5fad;\n",
       "  color: #f1f1f1;\n",
       "}\n",
       "#T_0bbc4_row0_col1 {\n",
       "  background-color: #efd4d6;\n",
       "  color: #000000;\n",
       "  background-color: #c38bc3;\n",
       "  color: #f1f1f1;\n",
       "}\n",
       "#T_0bbc4_row0_col2 {\n",
       "  background-color: #f2ebeb;\n",
       "  color: #000000;\n",
       "  background-color: #b774b7;\n",
       "  color: #f1f1f1;\n",
       "}\n",
       "#T_0bbc4_row1_col0 {\n",
       "  background-color: #ebbdc1;\n",
       "  color: #000000;\n",
       "  background-color: #a956a9;\n",
       "  color: #f1f1f1;\n",
       "}\n",
       "#T_0bbc4_row1_col1 {\n",
       "  background-color: #f0e3e3;\n",
       "  color: #000000;\n",
       "  background-color: #be82be;\n",
       "  color: #f1f1f1;\n",
       "}\n",
       "#T_0bbc4_row1_col2 {\n",
       "  background-color: #edc7ca;\n",
       "  color: #000000;\n",
       "  background-color: #ac5cac;\n",
       "  color: #f1f1f1;\n",
       "}\n",
       "#T_0bbc4_row2_col0 {\n",
       "  background-color: #e8a6ab;\n",
       "  color: #000000;\n",
       "  background-color: #a247a2;\n",
       "  color: #f1f1f1;\n",
       "}\n",
       "#T_0bbc4_row2_col1 {\n",
       "  background-color: #f2eeee;\n",
       "  color: #000000;\n",
       "  background-color: #bb7abb;\n",
       "  color: #f1f1f1;\n",
       "}\n",
       "#T_0bbc4_row2_col2 {\n",
       "  background-color: #f1e7e7;\n",
       "  color: #000000;\n",
       "  background-color: #b671b6;\n",
       "  color: #f1f1f1;\n",
       "}\n",
       "</style>\n",
       "<table id=\"T_0bbc4\">\n",
       "  <thead>\n",
       "    <tr>\n",
       "      <th class=\"blank level0\" >&nbsp;</th>\n",
       "      <th id=\"T_0bbc4_level0_col0\" class=\"col_heading level0 col0\" >aopc_compr</th>\n",
       "      <th id=\"T_0bbc4_level0_col1\" class=\"col_heading level0 col1\" >aopc_suff</th>\n",
       "      <th id=\"T_0bbc4_level0_col2\" class=\"col_heading level0 col2\" >taucorr_loo</th>\n",
       "    </tr>\n",
       "  </thead>\n",
       "  <tbody>\n",
       "    <tr>\n",
       "      <th id=\"T_0bbc4_level0_row0\" class=\"row_heading level0 row0\" >lime</th>\n",
       "      <td id=\"T_0bbc4_row0_col0\" class=\"data row0 col0\" >0.208240</td>\n",
       "      <td id=\"T_0bbc4_row0_col1\" class=\"data row0 col1\" >0.160388</td>\n",
       "      <td id=\"T_0bbc4_row0_col2\" class=\"data row0 col2\" >0.031872</td>\n",
       "    </tr>\n",
       "    <tr>\n",
       "      <th id=\"T_0bbc4_level0_row1\" class=\"row_heading level0 row1\" >occlusion</th>\n",
       "      <td id=\"T_0bbc4_row1_col0\" class=\"data row1 col0\" >0.282744</td>\n",
       "      <td id=\"T_0bbc4_row1_col1\" class=\"data row1 col1\" >0.081829</td>\n",
       "      <td id=\"T_0bbc4_row1_col2\" class=\"data row1 col2\" >0.231818</td>\n",
       "    </tr>\n",
       "    <tr>\n",
       "      <th id=\"T_0bbc4_level0_row2\" class=\"row_heading level0 row2\" >lig</th>\n",
       "      <td id=\"T_0bbc4_row2_col0\" class=\"data row2 col0\" >0.407021</td>\n",
       "      <td id=\"T_0bbc4_row2_col1\" class=\"data row2 col1\" >0.017823</td>\n",
       "      <td id=\"T_0bbc4_row2_col2\" class=\"data row2 col2\" >0.056728</td>\n",
       "    </tr>\n",
       "  </tbody>\n",
       "</table>\n"
      ],
      "text/plain": [
       "<pandas.io.formats.style.Styler at 0x28ad09ac0>"
      ]
     },
     "execution_count": 9,
     "metadata": {},
     "output_type": "execute_result"
    }
   ],
   "source": [
    "bench.show_samples_evaluation_table(sample_evaluations)"
   ]
  }
 ],
 "metadata": {
  "kernelspec": {
   "display_name": "xai",
   "language": "python",
   "name": "xai"
  },
  "language_info": {
   "codemirror_mode": {
    "name": "ipython",
    "version": 3
   },
   "file_extension": ".py",
   "mimetype": "text/x-python",
   "name": "python",
   "nbconvert_exporter": "python",
   "pygments_lexer": "ipython3",
   "version": "3.9.10"
  },
  "toc": {
   "base_numbering": 1,
   "nav_menu": {},
   "number_sections": true,
   "sideBar": true,
   "skip_h1_title": false,
   "title_cell": "Table of Contents",
   "title_sidebar": "Contents",
   "toc_cell": false,
   "toc_position": {},
   "toc_section_display": true,
   "toc_window_display": false
  },
  "vscode": {
   "interpreter": {
    "hash": "d8f902cf6ca391daaec6c50bfce6a52cbc75b613a5db9822f88b522b8035bbf2"
   }
  }
 },
 "nbformat": 4,
 "nbformat_minor": 5
}
