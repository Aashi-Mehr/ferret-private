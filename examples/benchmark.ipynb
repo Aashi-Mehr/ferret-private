{
 "cells": [
  {
   "cell_type": "markdown",
   "id": "9d24491a",
   "metadata": {},
   "source": [
    "# Introduction to *ferret*\n",
    "\n",
    "Hi there! This notebook will guide you through the basic functionalities of *ferret*, using as an example the Sentiment Classification task.\n",
    "\n",
    "Specifically, you will see how to:\n",
    "\n",
    "- load a model from the Hugging Face Hub into our `Benchmark` client interface;\n",
    "- use the class to explain a text query using all the supported post-hoc feature attribution methods;\n",
    "- visualize the explanations in tabular format;\n",
    "- **evaluate** all the explanations over the metrics (faithfulness and plausibility).\n",
    "\n",
    "Scroll over to know more 😉"
   ]
  },
  {
   "cell_type": "code",
   "execution_count": 1,
   "id": "52852519-03d4-4f7e-8a73-8c80786d5646",
   "metadata": {},
   "outputs": [],
   "source": [
    "%load_ext autoreload\n",
    "%autoreload 2"
   ]
  },
  {
   "cell_type": "code",
   "execution_count": 2,
   "id": "14d18989-fda4-4f8d-b265-2992d9062e99",
   "metadata": {},
   "outputs": [
    {
     "name": "stderr",
     "output_type": "stream",
     "text": [
      "/Users/eliana/anaconda3/envs/xai/lib/python3.10/site-packages/tqdm/auto.py:22: TqdmWarning: IProgress not found. Please update jupyter and ipywidgets. See https://ipywidgets.readthedocs.io/en/stable/user_install.html\n",
      "  from .autonotebook import tqdm as notebook_tqdm\n"
     ]
    }
   ],
   "source": [
    "from transformers import AutoTokenizer, AutoModelForSequenceClassification\n",
    "from ferret import Benchmark\n",
    "import numpy as np"
   ]
  },
  {
   "cell_type": "markdown",
   "id": "bac7579e",
   "metadata": {},
   "source": [
    "For the purpose of this tutorial, we will use the sentiment classification model `cardiffnlp/twitter-xlm-roberta-base-sentiment`."
   ]
  },
  {
   "cell_type": "code",
   "execution_count": 3,
   "id": "d537c947-682e-49fd-92d2-bd823bb90808",
   "metadata": {},
   "outputs": [],
   "source": [
    "name = \"cardiffnlp/twitter-xlm-roberta-base-sentiment\"\n",
    "model = AutoModelForSequenceClassification.from_pretrained(name)\n",
    "tokenizer = AutoTokenizer.from_pretrained(name)"
   ]
  },
  {
   "cell_type": "markdown",
   "id": "593830f1",
   "metadata": {},
   "source": [
    "## Explain a single instance"
   ]
  },
  {
   "cell_type": "markdown",
   "id": "7370ffd4",
   "metadata": {},
   "source": [
    "The fastest way to get started with *ferret* is using the `Benchmark` interface class."
   ]
  },
  {
   "cell_type": "code",
   "execution_count": 4,
   "id": "737c9329",
   "metadata": {},
   "outputs": [],
   "source": [
    "bench = Benchmark(model, tokenizer)"
   ]
  },
  {
   "cell_type": "markdown",
   "id": "c75cc6b5",
   "metadata": {},
   "source": [
    "Extracting post-hoc explanations with all the supported methods and standard parameters is as easy as:"
   ]
  },
  {
   "cell_type": "code",
   "execution_count": 5,
   "id": "94c4f140",
   "metadata": {},
   "outputs": [
    {
     "name": "stderr",
     "output_type": "stream",
     "text": [
      "Explainer:   0%|                                          | 0/6 [00:00<?, ?it/s]`return_all_scores` is now deprecated, use `top_k=1` if you want similar functionnality\n",
      "Asking to truncate to max_length but no maximum length is provided and the model has no predefined maximum length. Default to no truncation.\n",
      "                                                                                \r"
     ]
    }
   ],
   "source": [
    "explanations = bench.explain(\"I love your style!\", target=2)"
   ]
  },
  {
   "cell_type": "code",
   "execution_count": 6,
   "id": "8a1ba65b",
   "metadata": {},
   "outputs": [
    {
     "data": {
      "text/plain": [
       "[Explanation(text='I love your style!', tokens=['<s>', '▁I', '▁love', '▁your', '▁style', '!', '</s>'], scores=array([0.        , 0.01447297, 0.423284  , 0.28050641, 0.22077435,\n",
       "        0.06096227, 0.        ]), explainer='Partition SHAP', target=2),\n",
       " Explanation(text='I love your style!', tokens=['<s>', '▁I', '▁love', '▁your', '▁style', '!', '</s>'], scores=array([-0.09891703, -0.07561425,  0.33465704,  0.17949801,  0.14378843,\n",
       "         0.08339744, -0.0841278 ]), explainer='LIME', target=2),\n",
       " Explanation(text='I love your style!', tokens=['<s>', '▁I', '▁love', '▁your', '▁style', '!', '</s>'], scores=tensor([0.1017, 0.0755, 0.1665, 0.1174, 0.3521, 0.0746, 0.1122]), explainer='Gradient', target=2),\n",
       " Explanation(text='I love your style!', tokens=['<s>', '▁I', '▁love', '▁your', '▁style', '!', '</s>'], scores=tensor([ 0.1606, -0.0242,  0.0818, -0.3194,  0.2226,  0.0763,  0.1152]), explainer='Gradient (x Input)', target=2),\n",
       " Explanation(text='I love your style!', tokens=['<s>', '▁I', '▁love', '▁your', '▁style', '!', '</s>'], scores=tensor([-0.0964,  0.1712,  0.2033,  0.2427, -0.0735,  0.0319,  0.1811],\n",
       "        dtype=torch.float64), explainer='Integrated Gradient', target=2),\n",
       " Explanation(text='I love your style!', tokens=['<s>', '▁I', '▁love', '▁your', '▁style', '!', '</s>'], scores=tensor([0.0000, 0.1547, 0.0889, 0.1213, 0.2221, 0.4129, 0.0000],\n",
       "        dtype=torch.float64), explainer='Integrated Gradient (x Input)', target=2)]"
      ]
     },
     "execution_count": 6,
     "metadata": {},
     "output_type": "execute_result"
    }
   ],
   "source": [
    "explanations"
   ]
  },
  {
   "cell_type": "markdown",
   "id": "ac9f79e2",
   "metadata": {},
   "source": [
    "Let's visualize the results."
   ]
  },
  {
   "cell_type": "code",
   "execution_count": 7,
   "id": "18800ed9",
   "metadata": {},
   "outputs": [
    {
     "data": {
      "text/html": [
       "<style type=\"text/css\">\n",
       "#T_9608d_row0_col0 {\n",
       "  background-color: #f2efef;\n",
       "  color: #000000;\n",
       "}\n",
       "#T_9608d_row0_col1 {\n",
       "  background-color: #e8a4a9;\n",
       "  color: #000000;\n",
       "}\n",
       "#T_9608d_row0_col2 {\n",
       "  background-color: #ecbfc2;\n",
       "  color: #000000;\n",
       "}\n",
       "#T_9608d_row0_col3, #T_9608d_row3_col3, #T_9608d_row5_col3 {\n",
       "  background-color: #edc9cb;\n",
       "  color: #000000;\n",
       "}\n",
       "#T_9608d_row0_col4 {\n",
       "  background-color: #f1e7e7;\n",
       "  color: #000000;\n",
       "}\n",
       "#T_9608d_row1_col0, #T_9608d_row4_col3 {\n",
       "  background-color: #e4e9ed;\n",
       "  color: #000000;\n",
       "}\n",
       "#T_9608d_row1_col1 {\n",
       "  background-color: #eab5b9;\n",
       "  color: #000000;\n",
       "}\n",
       "#T_9608d_row1_col2 {\n",
       "  background-color: #eed1d3;\n",
       "  color: #000000;\n",
       "}\n",
       "#T_9608d_row1_col3 {\n",
       "  background-color: #efd7d9;\n",
       "  color: #000000;\n",
       "}\n",
       "#T_9608d_row1_col4, #T_9608d_row3_col1 {\n",
       "  background-color: #f0e3e3;\n",
       "  color: #000000;\n",
       "}\n",
       "#T_9608d_row2_col0, #T_9608d_row2_col4, #T_9608d_row3_col4 {\n",
       "  background-color: #f1e4e5;\n",
       "  color: #000000;\n",
       "}\n",
       "#T_9608d_row2_col1, #T_9608d_row4_col0 {\n",
       "  background-color: #eed3d5;\n",
       "  color: #000000;\n",
       "}\n",
       "#T_9608d_row2_col2, #T_9608d_row5_col2 {\n",
       "  background-color: #efdbdd;\n",
       "  color: #000000;\n",
       "}\n",
       "#T_9608d_row2_col3 {\n",
       "  background-color: #eab0b5;\n",
       "  color: #000000;\n",
       "}\n",
       "#T_9608d_row3_col0 {\n",
       "  background-color: #eceef1;\n",
       "  color: #000000;\n",
       "}\n",
       "#T_9608d_row3_col2 {\n",
       "  background-color: #b9ccdb;\n",
       "  color: #000000;\n",
       "}\n",
       "#T_9608d_row4_col1 {\n",
       "  background-color: #edccce;\n",
       "  color: #000000;\n",
       "}\n",
       "#T_9608d_row4_col2 {\n",
       "  background-color: #ecc5c7;\n",
       "  color: #000000;\n",
       "}\n",
       "#T_9608d_row4_col4 {\n",
       "  background-color: #f2ebeb;\n",
       "  color: #000000;\n",
       "}\n",
       "#T_9608d_row5_col0 {\n",
       "  background-color: #efd6d7;\n",
       "  color: #000000;\n",
       "}\n",
       "#T_9608d_row5_col1 {\n",
       "  background-color: #f0e1e2;\n",
       "  color: #000000;\n",
       "}\n",
       "#T_9608d_row5_col4 {\n",
       "  background-color: #e8a6ab;\n",
       "  color: #000000;\n",
       "}\n",
       "</style>\n",
       "<table id=\"T_9608d\">\n",
       "  <thead>\n",
       "    <tr>\n",
       "      <th class=\"index_name level0\" >Token</th>\n",
       "      <th id=\"T_9608d_level0_col0\" class=\"col_heading level0 col0\" >▁I</th>\n",
       "      <th id=\"T_9608d_level0_col1\" class=\"col_heading level0 col1\" >▁love</th>\n",
       "      <th id=\"T_9608d_level0_col2\" class=\"col_heading level0 col2\" >▁your</th>\n",
       "      <th id=\"T_9608d_level0_col3\" class=\"col_heading level0 col3\" >▁style</th>\n",
       "      <th id=\"T_9608d_level0_col4\" class=\"col_heading level0 col4\" >!</th>\n",
       "    </tr>\n",
       "  </thead>\n",
       "  <tbody>\n",
       "    <tr>\n",
       "      <th id=\"T_9608d_level0_row0\" class=\"row_heading level0 row0\" >Partition SHAP</th>\n",
       "      <td id=\"T_9608d_row0_col0\" class=\"data row0 col0\" >0.01</td>\n",
       "      <td id=\"T_9608d_row0_col1\" class=\"data row0 col1\" >0.42</td>\n",
       "      <td id=\"T_9608d_row0_col2\" class=\"data row0 col2\" >0.28</td>\n",
       "      <td id=\"T_9608d_row0_col3\" class=\"data row0 col3\" >0.22</td>\n",
       "      <td id=\"T_9608d_row0_col4\" class=\"data row0 col4\" >0.06</td>\n",
       "    </tr>\n",
       "    <tr>\n",
       "      <th id=\"T_9608d_level0_row1\" class=\"row_heading level0 row1\" >LIME</th>\n",
       "      <td id=\"T_9608d_row1_col0\" class=\"data row1 col0\" >-0.08</td>\n",
       "      <td id=\"T_9608d_row1_col1\" class=\"data row1 col1\" >0.33</td>\n",
       "      <td id=\"T_9608d_row1_col2\" class=\"data row1 col2\" >0.18</td>\n",
       "      <td id=\"T_9608d_row1_col3\" class=\"data row1 col3\" >0.14</td>\n",
       "      <td id=\"T_9608d_row1_col4\" class=\"data row1 col4\" >0.08</td>\n",
       "    </tr>\n",
       "    <tr>\n",
       "      <th id=\"T_9608d_level0_row2\" class=\"row_heading level0 row2\" >Gradient</th>\n",
       "      <td id=\"T_9608d_row2_col0\" class=\"data row2 col0\" >0.08</td>\n",
       "      <td id=\"T_9608d_row2_col1\" class=\"data row2 col1\" >0.17</td>\n",
       "      <td id=\"T_9608d_row2_col2\" class=\"data row2 col2\" >0.12</td>\n",
       "      <td id=\"T_9608d_row2_col3\" class=\"data row2 col3\" >0.35</td>\n",
       "      <td id=\"T_9608d_row2_col4\" class=\"data row2 col4\" >0.07</td>\n",
       "    </tr>\n",
       "    <tr>\n",
       "      <th id=\"T_9608d_level0_row3\" class=\"row_heading level0 row3\" >Gradient (x Input)</th>\n",
       "      <td id=\"T_9608d_row3_col0\" class=\"data row3 col0\" >-0.02</td>\n",
       "      <td id=\"T_9608d_row3_col1\" class=\"data row3 col1\" >0.08</td>\n",
       "      <td id=\"T_9608d_row3_col2\" class=\"data row3 col2\" >-0.32</td>\n",
       "      <td id=\"T_9608d_row3_col3\" class=\"data row3 col3\" >0.22</td>\n",
       "      <td id=\"T_9608d_row3_col4\" class=\"data row3 col4\" >0.08</td>\n",
       "    </tr>\n",
       "    <tr>\n",
       "      <th id=\"T_9608d_level0_row4\" class=\"row_heading level0 row4\" >Integrated Gradient</th>\n",
       "      <td id=\"T_9608d_row4_col0\" class=\"data row4 col0\" >0.17</td>\n",
       "      <td id=\"T_9608d_row4_col1\" class=\"data row4 col1\" >0.20</td>\n",
       "      <td id=\"T_9608d_row4_col2\" class=\"data row4 col2\" >0.24</td>\n",
       "      <td id=\"T_9608d_row4_col3\" class=\"data row4 col3\" >-0.07</td>\n",
       "      <td id=\"T_9608d_row4_col4\" class=\"data row4 col4\" >0.03</td>\n",
       "    </tr>\n",
       "    <tr>\n",
       "      <th id=\"T_9608d_level0_row5\" class=\"row_heading level0 row5\" >Integrated Gradient (x Input)</th>\n",
       "      <td id=\"T_9608d_row5_col0\" class=\"data row5 col0\" >0.15</td>\n",
       "      <td id=\"T_9608d_row5_col1\" class=\"data row5 col1\" >0.09</td>\n",
       "      <td id=\"T_9608d_row5_col2\" class=\"data row5 col2\" >0.12</td>\n",
       "      <td id=\"T_9608d_row5_col3\" class=\"data row5 col3\" >0.22</td>\n",
       "      <td id=\"T_9608d_row5_col4\" class=\"data row5 col4\" >0.41</td>\n",
       "    </tr>\n",
       "  </tbody>\n",
       "</table>\n"
      ],
      "text/plain": [
       "<pandas.io.formats.style.Styler at 0x7ff62caceb30>"
      ]
     },
     "execution_count": 7,
     "metadata": {},
     "output_type": "execute_result"
    }
   ],
   "source": [
    "t = bench.show_table(explanations)\n",
    "t"
   ]
  },
  {
   "cell_type": "markdown",
   "id": "79dca2c8",
   "metadata": {},
   "source": [
    "## Evaluate explanation of a single instance"
   ]
  },
  {
   "cell_type": "markdown",
   "id": "9e15cf29",
   "metadata": {},
   "source": [
    "Evaluate explanations with all the supported evaluators is straightforward. Remember to specify the `target` parameter to match the one used during the explanation!"
   ]
  },
  {
   "cell_type": "code",
   "execution_count": 8,
   "id": "a8ffe8f6",
   "metadata": {},
   "outputs": [
    {
     "name": "stderr",
     "output_type": "stream",
     "text": [
      "                                                                                \r"
     ]
    }
   ],
   "source": [
    "explanation_evaluations = bench.evaluate_explanations(explanations, target=2)"
   ]
  },
  {
   "cell_type": "markdown",
   "id": "aa0fa638",
   "metadata": {},
   "source": [
    "Again, we can look at the results in a tabular format."
   ]
  },
  {
   "cell_type": "code",
   "execution_count": 9,
   "id": "fa3d689f",
   "metadata": {},
   "outputs": [
    {
     "data": {
      "text/html": [
       "<style type=\"text/css\">\n",
       "#T_ff14e_row0_col0 {\n",
       "  background-color: #e8a6ab;\n",
       "  color: #000000;\n",
       "  background-color: #a247a2;\n",
       "  color: #f1f1f1;\n",
       "}\n",
       "#T_ff14e_row0_col1 {\n",
       "  background-color: #eecdcf;\n",
       "  color: #000000;\n",
       "  background-color: #c590c5;\n",
       "  color: #f1f1f1;\n",
       "}\n",
       "#T_ff14e_row0_col2, #T_ff14e_row1_col2 {\n",
       "  background-color: #e9a8ad;\n",
       "  color: #000000;\n",
       "  background-color: #a247a2;\n",
       "  color: #f1f1f1;\n",
       "}\n",
       "#T_ff14e_row1_col0 {\n",
       "  background-color: #eaafb3;\n",
       "  color: #000000;\n",
       "  background-color: #a44ca4;\n",
       "  color: #f1f1f1;\n",
       "}\n",
       "#T_ff14e_row1_col1 {\n",
       "  background-color: #ecc5c7;\n",
       "  color: #000000;\n",
       "  background-color: #c895c8;\n",
       "  color: #f1f1f1;\n",
       "}\n",
       "#T_ff14e_row2_col0 {\n",
       "  background-color: #e8a2a7;\n",
       "  color: #000000;\n",
       "  background-color: #a044a0;\n",
       "  color: #f1f1f1;\n",
       "}\n",
       "#T_ff14e_row2_col1 {\n",
       "  background-color: #edc9cb;\n",
       "  color: #000000;\n",
       "  background-color: #c693c6;\n",
       "  color: #f1f1f1;\n",
       "}\n",
       "#T_ff14e_row2_col2 {\n",
       "  background-color: #eecdcf;\n",
       "  color: #000000;\n",
       "  background-color: #ae60ae;\n",
       "  color: #f1f1f1;\n",
       "}\n",
       "#T_ff14e_row3_col0 {\n",
       "  background-color: #eab0b5;\n",
       "  color: #000000;\n",
       "  background-color: #a54da5;\n",
       "  color: #f1f1f1;\n",
       "}\n",
       "#T_ff14e_row3_col1 {\n",
       "  background-color: #e9a9ae;\n",
       "  color: #000000;\n",
       "  background-color: #d0a7d0;\n",
       "  color: #000000;\n",
       "}\n",
       "#T_ff14e_row3_col2 {\n",
       "  background-color: #df5e68;\n",
       "  color: #f1f1f1;\n",
       "  background-color: #8b188b;\n",
       "  color: #f1f1f1;\n",
       "}\n",
       "#T_ff14e_row4_col0 {\n",
       "  background-color: #ebbdc1;\n",
       "  color: #000000;\n",
       "  background-color: #a956a9;\n",
       "  color: #f1f1f1;\n",
       "}\n",
       "#T_ff14e_row4_col1 {\n",
       "  background-color: #ecc0c3;\n",
       "  color: #000000;\n",
       "  background-color: #c998c9;\n",
       "  color: #f1f1f1;\n",
       "}\n",
       "#T_ff14e_row4_col2 {\n",
       "  background-color: #aac2d5;\n",
       "  color: #000000;\n",
       "  background-color: #d1a8d1;\n",
       "  color: #000000;\n",
       "}\n",
       "#T_ff14e_row5_col0 {\n",
       "  background-color: #eab6ba;\n",
       "  color: #000000;\n",
       "  background-color: #a751a7;\n",
       "  color: #f1f1f1;\n",
       "}\n",
       "#T_ff14e_row5_col1 {\n",
       "  background-color: #ecc3c6;\n",
       "  color: #000000;\n",
       "  background-color: #c896c8;\n",
       "  color: #f1f1f1;\n",
       "}\n",
       "#T_ff14e_row5_col2 {\n",
       "  background-color: #f2f1f1;\n",
       "  color: #000000;\n",
       "  background-color: #b977b9;\n",
       "  color: #f1f1f1;\n",
       "}\n",
       "</style>\n",
       "<table id=\"T_ff14e\">\n",
       "  <thead>\n",
       "    <tr>\n",
       "      <th class=\"blank level0\" >&nbsp;</th>\n",
       "      <th id=\"T_ff14e_level0_col0\" class=\"col_heading level0 col0\" >aopc_compr</th>\n",
       "      <th id=\"T_ff14e_level0_col1\" class=\"col_heading level0 col1\" >aopc_suff</th>\n",
       "      <th id=\"T_ff14e_level0_col2\" class=\"col_heading level0 col2\" >taucorr_loo</th>\n",
       "    </tr>\n",
       "  </thead>\n",
       "  <tbody>\n",
       "    <tr>\n",
       "      <th id=\"T_ff14e_level0_row0\" class=\"row_heading level0 row0\" >Partition SHAP</th>\n",
       "      <td id=\"T_ff14e_row0_col0\" class=\"data row0 col0\" >0.41</td>\n",
       "      <td id=\"T_ff14e_row0_col1\" class=\"data row0 col1\" >0.20</td>\n",
       "      <td id=\"T_ff14e_row0_col2\" class=\"data row0 col2\" >0.40</td>\n",
       "    </tr>\n",
       "    <tr>\n",
       "      <th id=\"T_ff14e_level0_row1\" class=\"row_heading level0 row1\" >LIME</th>\n",
       "      <td id=\"T_ff14e_row1_col0\" class=\"data row1 col0\" >0.36</td>\n",
       "      <td id=\"T_ff14e_row1_col1\" class=\"data row1 col1\" >0.25</td>\n",
       "      <td id=\"T_ff14e_row1_col2\" class=\"data row1 col2\" >0.40</td>\n",
       "    </tr>\n",
       "    <tr>\n",
       "      <th id=\"T_ff14e_level0_row2\" class=\"row_heading level0 row2\" >Gradient</th>\n",
       "      <td id=\"T_ff14e_row2_col0\" class=\"data row2 col0\" >0.43</td>\n",
       "      <td id=\"T_ff14e_row2_col1\" class=\"data row2 col1\" >0.22</td>\n",
       "      <td id=\"T_ff14e_row2_col2\" class=\"data row2 col2\" >0.20</td>\n",
       "    </tr>\n",
       "    <tr>\n",
       "      <th id=\"T_ff14e_level0_row3\" class=\"row_heading level0 row3\" >Gradient (x Input)</th>\n",
       "      <td id=\"T_ff14e_row3_col0\" class=\"data row3 col0\" >0.36</td>\n",
       "      <td id=\"T_ff14e_row3_col1\" class=\"data row3 col1\" >0.39</td>\n",
       "      <td id=\"T_ff14e_row3_col2\" class=\"data row3 col2\" >0.80</td>\n",
       "    </tr>\n",
       "    <tr>\n",
       "      <th id=\"T_ff14e_level0_row4\" class=\"row_heading level0 row4\" >Integrated Gradient</th>\n",
       "      <td id=\"T_ff14e_row4_col0\" class=\"data row4 col0\" >0.29</td>\n",
       "      <td id=\"T_ff14e_row4_col1\" class=\"data row4 col1\" >0.27</td>\n",
       "      <td id=\"T_ff14e_row4_col2\" class=\"data row4 col2\" >-0.40</td>\n",
       "    </tr>\n",
       "    <tr>\n",
       "      <th id=\"T_ff14e_level0_row5\" class=\"row_heading level0 row5\" >Integrated Gradient (x Input)</th>\n",
       "      <td id=\"T_ff14e_row5_col0\" class=\"data row5 col0\" >0.33</td>\n",
       "      <td id=\"T_ff14e_row5_col1\" class=\"data row5 col1\" >0.26</td>\n",
       "      <td id=\"T_ff14e_row5_col2\" class=\"data row5 col2\" >0.00</td>\n",
       "    </tr>\n",
       "  </tbody>\n",
       "</table>\n"
      ],
      "text/plain": [
       "<pandas.io.formats.style.Styler at 0x7ff5ec04b220>"
      ]
     },
     "execution_count": 9,
     "metadata": {},
     "output_type": "execute_result"
    }
   ],
   "source": [
    "bench.show_evaluation_table(explanation_evaluations)"
   ]
  },
  {
   "cell_type": "markdown",
   "id": "1d86def7",
   "metadata": {},
   "source": [
    "Area Over the Perturbation Curve (AOPC) Comprehensiveness (aopc_compr), AOPC Sufficiency (aopc_suff) and Correlation with Leave-One-Out scores (taucorr_loo) are three measures of faithfulness.\n",
    "\n",
    "**AOPC Comprehensiveness**. Comprehensiveness measures the drop in the model probability if the relevant tokens of the explanations are removed. We measure comprehensiveness via the Area Over the Perturbation Curve by progressively considering the most $k$ important tokens, with $k$ from 1 to #tokens (as default) and then averaging the result. The higher the value, the more the explainer is able to select the relevant tokens for the prediction.\n",
    "\n",
    "**AOPC Sufficiency**. Sufficiency captures if the tokens in the explanation are sufficient for the model to make the prediction. As for comprehensiveness, we use the AOPC score.\n",
    "\n",
    "**Correlation with Leave-One-Out scores**. We first compute the leave-one-out scores by computing the prediction difference when one feature at the time is omitted. We then measure the Spearman correlation with the explanations."
   ]
  },
  {
   "cell_type": "markdown",
   "id": "fff44d00",
   "metadata": {},
   "source": [
    "### Plausibility"
   ]
  },
  {
   "cell_type": "markdown",
   "id": "7cad0272",
   "metadata": {},
   "source": [
    "We can also specify a human rationale and evaluate plausibility."
   ]
  },
  {
   "cell_type": "code",
   "execution_count": 10,
   "id": "0561e8d4",
   "metadata": {},
   "outputs": [
    {
     "name": "stderr",
     "output_type": "stream",
     "text": [
      "                                                                                \r"
     ]
    },
    {
     "data": {
      "text/html": [
       "<style type=\"text/css\">\n",
       "#T_464b1_row0_col0, #T_464b1_row2_col0 {\n",
       "  background-color: #cfdbe4;\n",
       "  color: #000000;\n",
       "  background-color: #c48fc4;\n",
       "  color: #f1f1f1;\n",
       "}\n",
       "#T_464b1_row0_col1 {\n",
       "  background-color: #e1e7ec;\n",
       "  color: #000000;\n",
       "  background-color: #b46db4;\n",
       "  color: #f1f1f1;\n",
       "}\n",
       "#T_464b1_row0_col2, #T_464b1_row1_col2, #T_464b1_row5_col2 {\n",
       "  background-color: #cedae4;\n",
       "  color: #000000;\n",
       "  background-color: #c590c5;\n",
       "  color: #f1f1f1;\n",
       "}\n",
       "#T_464b1_row0_col3, #T_464b1_row0_col4, #T_464b1_row0_col5, #T_464b1_row1_col3, #T_464b1_row1_col4, #T_464b1_row1_col5 {\n",
       "  background-color: #da3b46;\n",
       "  color: #f1f1f1;\n",
       "  background-color: #800080;\n",
       "  color: #f1f1f1;\n",
       "}\n",
       "#T_464b1_row1_col0 {\n",
       "  background-color: #d6e0e7;\n",
       "  color: #000000;\n",
       "  background-color: #c28ac2;\n",
       "  color: #f1f1f1;\n",
       "}\n",
       "#T_464b1_row1_col1, #T_464b1_row4_col1 {\n",
       "  background-color: #dde4ea;\n",
       "  color: #000000;\n",
       "  background-color: #b36ab3;\n",
       "  color: #f1f1f1;\n",
       "}\n",
       "#T_464b1_row2_col1, #T_464b1_row5_col1 {\n",
       "  background-color: #e0e6eb;\n",
       "  color: #000000;\n",
       "  background-color: #b46cb4;\n",
       "  color: #f1f1f1;\n",
       "}\n",
       "#T_464b1_row2_col2, #T_464b1_row2_col4, #T_464b1_row2_col5, #T_464b1_row3_col4, #T_464b1_row3_col5, #T_464b1_row4_col4, #T_464b1_row4_col5, #T_464b1_row5_col4, #T_464b1_row5_col5 {\n",
       "  background-color: #f2f1f1;\n",
       "  color: #000000;\n",
       "  background-color: #b977b9;\n",
       "  color: #f1f1f1;\n",
       "}\n",
       "#T_464b1_row2_col3, #T_464b1_row3_col3, #T_464b1_row4_col3 {\n",
       "  background-color: #ecc3c6;\n",
       "  color: #000000;\n",
       "  background-color: #ab59ab;\n",
       "  color: #f1f1f1;\n",
       "}\n",
       "#T_464b1_row3_col0 {\n",
       "  background-color: #dae3e9;\n",
       "  color: #000000;\n",
       "  background-color: #c187c1;\n",
       "  color: #f1f1f1;\n",
       "}\n",
       "#T_464b1_row3_col1 {\n",
       "  background-color: #d2dde6;\n",
       "  color: #000000;\n",
       "  background-color: #af63af;\n",
       "  color: #f1f1f1;\n",
       "}\n",
       "#T_464b1_row3_col2 {\n",
       "  background-color: #87abc6;\n",
       "  color: #f1f1f1;\n",
       "  background-color: #dcc0dc;\n",
       "  color: #000000;\n",
       "}\n",
       "#T_464b1_row4_col0 {\n",
       "  background-color: #dce3ea;\n",
       "  color: #000000;\n",
       "  background-color: #c086c0;\n",
       "  color: #f1f1f1;\n",
       "}\n",
       "#T_464b1_row4_col2 {\n",
       "  background-color: #eecdcf;\n",
       "  color: #000000;\n",
       "  background-color: #ae60ae;\n",
       "  color: #f1f1f1;\n",
       "}\n",
       "#T_464b1_row5_col0 {\n",
       "  background-color: #d5dfe7;\n",
       "  color: #000000;\n",
       "  background-color: #c38bc3;\n",
       "  color: #f1f1f1;\n",
       "}\n",
       "#T_464b1_row5_col3 {\n",
       "  background-color: #f0e0e1;\n",
       "  color: #000000;\n",
       "  background-color: #b46cb4;\n",
       "  color: #f1f1f1;\n",
       "}\n",
       "</style>\n",
       "<table id=\"T_464b1\">\n",
       "  <thead>\n",
       "    <tr>\n",
       "      <th class=\"blank level0\" >&nbsp;</th>\n",
       "      <th id=\"T_464b1_level0_col0\" class=\"col_heading level0 col0\" >aopc_compr</th>\n",
       "      <th id=\"T_464b1_level0_col1\" class=\"col_heading level0 col1\" >aopc_suff</th>\n",
       "      <th id=\"T_464b1_level0_col2\" class=\"col_heading level0 col2\" >taucorr_loo</th>\n",
       "      <th id=\"T_464b1_level0_col3\" class=\"col_heading level0 col3\" >auprc_plau</th>\n",
       "      <th id=\"T_464b1_level0_col4\" class=\"col_heading level0 col4\" >token_f1_plau</th>\n",
       "      <th id=\"T_464b1_level0_col5\" class=\"col_heading level0 col5\" >token_iou_plau</th>\n",
       "    </tr>\n",
       "  </thead>\n",
       "  <tbody>\n",
       "    <tr>\n",
       "      <th id=\"T_464b1_level0_row0\" class=\"row_heading level0 row0\" >Partition SHAP</th>\n",
       "      <td id=\"T_464b1_row0_col0\" class=\"data row0 col0\" >-0.19</td>\n",
       "      <td id=\"T_464b1_row0_col1\" class=\"data row0 col1\" >-0.09</td>\n",
       "      <td id=\"T_464b1_row0_col2\" class=\"data row0 col2\" >-0.20</td>\n",
       "      <td id=\"T_464b1_row0_col3\" class=\"data row0 col3\" >1.00</td>\n",
       "      <td id=\"T_464b1_row0_col4\" class=\"data row0 col4\" >1.00</td>\n",
       "      <td id=\"T_464b1_row0_col5\" class=\"data row0 col5\" >1.00</td>\n",
       "    </tr>\n",
       "    <tr>\n",
       "      <th id=\"T_464b1_level0_row1\" class=\"row_heading level0 row1\" >LIME</th>\n",
       "      <td id=\"T_464b1_row1_col0\" class=\"data row1 col0\" >-0.15</td>\n",
       "      <td id=\"T_464b1_row1_col1\" class=\"data row1 col1\" >-0.11</td>\n",
       "      <td id=\"T_464b1_row1_col2\" class=\"data row1 col2\" >-0.20</td>\n",
       "      <td id=\"T_464b1_row1_col3\" class=\"data row1 col3\" >1.00</td>\n",
       "      <td id=\"T_464b1_row1_col4\" class=\"data row1 col4\" >1.00</td>\n",
       "      <td id=\"T_464b1_row1_col5\" class=\"data row1 col5\" >1.00</td>\n",
       "    </tr>\n",
       "    <tr>\n",
       "      <th id=\"T_464b1_level0_row2\" class=\"row_heading level0 row2\" >Gradient</th>\n",
       "      <td id=\"T_464b1_row2_col0\" class=\"data row2 col0\" >-0.19</td>\n",
       "      <td id=\"T_464b1_row2_col1\" class=\"data row2 col1\" >-0.10</td>\n",
       "      <td id=\"T_464b1_row2_col2\" class=\"data row2 col2\" >0.00</td>\n",
       "      <td id=\"T_464b1_row2_col3\" class=\"data row2 col3\" >0.25</td>\n",
       "      <td id=\"T_464b1_row2_col4\" class=\"data row2 col4\" >0.00</td>\n",
       "      <td id=\"T_464b1_row2_col5\" class=\"data row2 col5\" >0.00</td>\n",
       "    </tr>\n",
       "    <tr>\n",
       "      <th id=\"T_464b1_level0_row3\" class=\"row_heading level0 row3\" >Gradient (x Input)</th>\n",
       "      <td id=\"T_464b1_row3_col0\" class=\"data row3 col0\" >-0.13</td>\n",
       "      <td id=\"T_464b1_row3_col1\" class=\"data row3 col1\" >-0.18</td>\n",
       "      <td id=\"T_464b1_row3_col2\" class=\"data row3 col2\" >-0.60</td>\n",
       "      <td id=\"T_464b1_row3_col3\" class=\"data row3 col3\" >0.25</td>\n",
       "      <td id=\"T_464b1_row3_col4\" class=\"data row3 col4\" >0.00</td>\n",
       "      <td id=\"T_464b1_row3_col5\" class=\"data row3 col5\" >0.00</td>\n",
       "    </tr>\n",
       "    <tr>\n",
       "      <th id=\"T_464b1_level0_row4\" class=\"row_heading level0 row4\" >Integrated Gradient</th>\n",
       "      <td id=\"T_464b1_row4_col0\" class=\"data row4 col0\" >-0.12</td>\n",
       "      <td id=\"T_464b1_row4_col1\" class=\"data row4 col1\" >-0.12</td>\n",
       "      <td id=\"T_464b1_row4_col2\" class=\"data row4 col2\" >0.20</td>\n",
       "      <td id=\"T_464b1_row4_col3\" class=\"data row4 col3\" >0.25</td>\n",
       "      <td id=\"T_464b1_row4_col4\" class=\"data row4 col4\" >0.00</td>\n",
       "      <td id=\"T_464b1_row4_col5\" class=\"data row4 col5\" >0.00</td>\n",
       "    </tr>\n",
       "    <tr>\n",
       "      <th id=\"T_464b1_level0_row5\" class=\"row_heading level0 row5\" >Integrated Gradient (x Input)</th>\n",
       "      <td id=\"T_464b1_row5_col0\" class=\"data row5 col0\" >-0.16</td>\n",
       "      <td id=\"T_464b1_row5_col1\" class=\"data row5 col1\" >-0.10</td>\n",
       "      <td id=\"T_464b1_row5_col2\" class=\"data row5 col2\" >-0.20</td>\n",
       "      <td id=\"T_464b1_row5_col3\" class=\"data row5 col3\" >0.10</td>\n",
       "      <td id=\"T_464b1_row5_col4\" class=\"data row5 col4\" >0.00</td>\n",
       "      <td id=\"T_464b1_row5_col5\" class=\"data row5 col5\" >0.00</td>\n",
       "    </tr>\n",
       "  </tbody>\n",
       "</table>\n"
      ],
      "text/plain": [
       "<pandas.io.formats.style.Styler at 0x7ff5ec04b0a0>"
      ]
     },
     "execution_count": 10,
     "metadata": {},
     "output_type": "execute_result"
    }
   ],
   "source": [
    "explanation_evaluations = bench.evaluate_explanations(\n",
    "    explanations,\n",
    "    target=0,\n",
    "    human_rationale=[0, 1, 0, 0, 0],\n",
    "    top_k_rationale = 1\n",
    ")\n",
    "bench.show_evaluation_table(explanation_evaluations)"
   ]
  },
  {
   "cell_type": "markdown",
   "id": "ca7a5ac0",
   "metadata": {},
   "source": [
    "Plausibility evaluates how well the explanation agree with human rationale. We evaluate plausibility via \n",
    "Area Under the Precision Recall curve (AUPRC) (auprc_plau),  token-level f1-score (token_f1_plau) and average Intersection-Over-Union (IOU) at the token level (token_iou_plau).\n",
    "\n",
    "\n",
    "**Area Under the Precision Recall curve (AUPRC)** is computed by sweeping a threshold over token scores.\n",
    "\n",
    "Token-level f1-score and the average Intersection-Over-Unionconsider discrete rationales.\n",
    "We derive a discrete rationale by taking the top-k values. K in the example is set to 1. * \n",
    "\n",
    "**Token-level f1-score** is the token-level F1 scores derived from the token-level precision and recall. \n",
    "**Intersection-Over-Union (IOU)** is the size of the overlap of the tokens they cover divided by the size of their union.\n",
    "\n",
    "*When the set of human rationales for the dataset is available, K is set as the average rationale length (as in ERASER)"
   ]
  },
  {
   "cell_type": "markdown",
   "id": "3cabbcb0",
   "metadata": {},
   "source": [
    "# Evaluating explainers on a supported XAI Datasets"
   ]
  },
  {
   "cell_type": "markdown",
   "id": "1e70b2fd",
   "metadata": {},
   "source": [
    "We can directly load a dataset with rationales using our Dataset API -- since we use Hugging Face's [datasets](https://huggingface.co/datasets), you will download the dataset just once and cache it 🚀"
   ]
  },
  {
   "cell_type": "code",
   "execution_count": 11,
   "id": "23bb7ea7",
   "metadata": {},
   "outputs": [
    {
     "name": "stderr",
     "output_type": "stream",
     "text": [
      "Reusing dataset hatexplain (/Users/eliana/.cache/huggingface/datasets/hatexplain/plain_text/1.0.0/df474d8d8667d89ef30649bf66e9c856ad8305bef4bc147e8e31cbdf1b8e0249)\n",
      "100%|████████████████████████████████████████████| 3/3 [00:00<00:00, 120.58it/s]\n"
     ]
    }
   ],
   "source": [
    "hatexdata = bench.load_dataset(\"hatexplain\")"
   ]
  },
  {
   "cell_type": "markdown",
   "id": "e472f7f8",
   "metadata": {},
   "source": [
    "Here we show an example of text and its human rationales."
   ]
  },
  {
   "cell_type": "code",
   "execution_count": 12,
   "id": "1d082e8c",
   "metadata": {},
   "outputs": [
    {
     "data": {
      "text/plain": [
       "('<user> <user> why are you repeating yourself are you a little retarded',\n",
       " [[], [], [0, 0, 0, 0, 0, 0, 0, 0, 0, 0, 0, 0, 0, 0, 0, 0, 1, 1]])"
      ]
     },
     "execution_count": 12,
     "metadata": {},
     "output_type": "execute_result"
    }
   ],
   "source": [
    "hatexdata[2][\"text\"], hatexdata[2][\"rationale\"]"
   ]
  },
  {
   "cell_type": "markdown",
   "id": "83951d6f",
   "metadata": {},
   "source": [
    "We can compute evaluate explanations for a set of the samples of the dataset.\n",
    "\n",
    "As a default, explanations and their evaluation is computed w.r.t. the predicted class. We can otherwise specify the target class via the parameter 'target'"
   ]
  },
  {
   "cell_type": "code",
   "execution_count": 13,
   "id": "c35ef613",
   "metadata": {},
   "outputs": [
    {
     "name": "stderr",
     "output_type": "stream",
     "text": [
      "explain:   0%|                                            | 0/5 [00:00<?, ?it/s]`return_all_scores` is now deprecated, use `top_k=1` if you want similar functionnality\n",
      "explain:  20%|███████                            | 1/5 [02:41<10:46, 161.72s/it]`return_all_scores` is now deprecated, use `top_k=1` if you want similar functionnality\n",
      "explain:  40%|██████████████                     | 2/5 [04:33<06:37, 132.39s/it]`return_all_scores` is now deprecated, use `top_k=1` if you want similar functionnality\n",
      "explain:  60%|█████████████████████              | 3/5 [05:41<03:25, 102.81s/it]`return_all_scores` is now deprecated, use `top_k=1` if you want similar functionnality\n",
      "explain:  80%|████████████████████████████       | 4/5 [07:54<01:54, 114.87s/it]`return_all_scores` is now deprecated, use `top_k=1` if you want similar functionnality\n",
      "                                                                                \r"
     ]
    }
   ],
   "source": [
    "# Compute and average evaluation scores one of the supported dataset\n",
    "samples = np.arange(5)\n",
    "sample_evaluations =  bench.evaluate_samples(hatexdata, samples)"
   ]
  },
  {
   "cell_type": "markdown",
   "id": "7e04cc43",
   "metadata": {},
   "source": [
    "and visualize the evaluation results"
   ]
  },
  {
   "cell_type": "code",
   "execution_count": 14,
   "id": "37506275",
   "metadata": {},
   "outputs": [
    {
     "data": {
      "text/html": [
       "<style type=\"text/css\">\n",
       "#T_9334c_row0_col0 {\n",
       "  background-color: #e69298;\n",
       "  color: #f1f1f1;\n",
       "  background-color: #9b399b;\n",
       "  color: #f1f1f1;\n",
       "}\n",
       "#T_9334c_row0_col1 {\n",
       "  background-color: #e8ecef;\n",
       "  color: #000000;\n",
       "  background-color: #b672b6;\n",
       "  color: #f1f1f1;\n",
       "}\n",
       "#T_9334c_row0_col2 {\n",
       "  background-color: #ebbcbf;\n",
       "  color: #000000;\n",
       "  background-color: #a955a9;\n",
       "  color: #f1f1f1;\n",
       "}\n",
       "#T_9334c_row0_col3 {\n",
       "  background-color: #df5e68;\n",
       "  color: #f1f1f1;\n",
       "  background-color: #8b188b;\n",
       "  color: #f1f1f1;\n",
       "}\n",
       "#T_9334c_row0_col4, #T_9334c_row1_col4, #T_9334c_row2_col0, #T_9334c_row3_col4, #T_9334c_row5_col4 {\n",
       "  background-color: #e8a6ab;\n",
       "  color: #000000;\n",
       "  background-color: #a247a2;\n",
       "  color: #f1f1f1;\n",
       "}\n",
       "#T_9334c_row0_col5, #T_9334c_row1_col5, #T_9334c_row3_col5, #T_9334c_row5_col5 {\n",
       "  background-color: #ecc2c5;\n",
       "  color: #000000;\n",
       "  background-color: #aa58aa;\n",
       "  color: #f1f1f1;\n",
       "}\n",
       "#T_9334c_row1_col0 {\n",
       "  background-color: #eed0d2;\n",
       "  color: #000000;\n",
       "  background-color: #af62af;\n",
       "  color: #f1f1f1;\n",
       "}\n",
       "#T_9334c_row1_col1 {\n",
       "  background-color: #f1e7e7;\n",
       "  color: #000000;\n",
       "  background-color: #bd7fbd;\n",
       "  color: #f1f1f1;\n",
       "}\n",
       "#T_9334c_row1_col2 {\n",
       "  background-color: #f1e5e6;\n",
       "  color: #000000;\n",
       "  background-color: #b670b6;\n",
       "  color: #f1f1f1;\n",
       "}\n",
       "#T_9334c_row1_col3 {\n",
       "  background-color: #df646d;\n",
       "  color: #f1f1f1;\n",
       "  background-color: #8d1b8d;\n",
       "  color: #f1f1f1;\n",
       "}\n",
       "#T_9334c_row2_col1 {\n",
       "  background-color: #f2eded;\n",
       "  color: #000000;\n",
       "  background-color: #bb7bbb;\n",
       "  color: #f1f1f1;\n",
       "}\n",
       "#T_9334c_row2_col2 {\n",
       "  background-color: #f0ddde;\n",
       "  color: #000000;\n",
       "  background-color: #b36ab3;\n",
       "  color: #f1f1f1;\n",
       "}\n",
       "#T_9334c_row2_col3 {\n",
       "  background-color: #db4550;\n",
       "  color: #f1f1f1;\n",
       "  background-color: #830783;\n",
       "  color: #f1f1f1;\n",
       "}\n",
       "#T_9334c_row2_col4 {\n",
       "  background-color: #e79a9f;\n",
       "  color: #000000;\n",
       "  background-color: #9e3e9e;\n",
       "  color: #f1f1f1;\n",
       "}\n",
       "#T_9334c_row2_col5 {\n",
       "  background-color: #ebb8bb;\n",
       "  color: #000000;\n",
       "  background-color: #a752a7;\n",
       "  color: #f1f1f1;\n",
       "}\n",
       "#T_9334c_row3_col0 {\n",
       "  background-color: #f1e4e5;\n",
       "  color: #000000;\n",
       "  background-color: #b56fb5;\n",
       "  color: #f1f1f1;\n",
       "}\n",
       "#T_9334c_row3_col1 {\n",
       "  background-color: #ecc2c5;\n",
       "  color: #000000;\n",
       "  background-color: #c897c8;\n",
       "  color: #f1f1f1;\n",
       "}\n",
       "#T_9334c_row3_col2 {\n",
       "  background-color: #e9edf0;\n",
       "  color: #000000;\n",
       "  background-color: #bc7dbc;\n",
       "  color: #f1f1f1;\n",
       "}\n",
       "#T_9334c_row3_col3 {\n",
       "  background-color: #df636c;\n",
       "  color: #f1f1f1;\n",
       "  background-color: #8d1a8d;\n",
       "  color: #f1f1f1;\n",
       "}\n",
       "#T_9334c_row4_col0 {\n",
       "  background-color: #efd7d9;\n",
       "  color: #000000;\n",
       "  background-color: #b166b1;\n",
       "  color: #f1f1f1;\n",
       "}\n",
       "#T_9334c_row4_col1 {\n",
       "  background-color: #efdadb;\n",
       "  color: #000000;\n",
       "  background-color: #c187c1;\n",
       "  color: #f1f1f1;\n",
       "}\n",
       "#T_9334c_row4_col2 {\n",
       "  background-color: #f1e8e9;\n",
       "  color: #000000;\n",
       "  background-color: #b672b6;\n",
       "  color: #f1f1f1;\n",
       "}\n",
       "#T_9334c_row4_col3 {\n",
       "  background-color: #e2777f;\n",
       "  color: #f1f1f1;\n",
       "  background-color: #932793;\n",
       "  color: #f1f1f1;\n",
       "}\n",
       "#T_9334c_row4_col4 {\n",
       "  background-color: #eab2b6;\n",
       "  color: #000000;\n",
       "  background-color: #a54ea5;\n",
       "  color: #f1f1f1;\n",
       "}\n",
       "#T_9334c_row4_col5 {\n",
       "  background-color: #edccce;\n",
       "  color: #000000;\n",
       "  background-color: #ad5fad;\n",
       "  color: #f1f1f1;\n",
       "}\n",
       "#T_9334c_row5_col0 {\n",
       "  background-color: #efd9da;\n",
       "  color: #000000;\n",
       "  background-color: #b267b2;\n",
       "  color: #f1f1f1;\n",
       "}\n",
       "#T_9334c_row5_col1 {\n",
       "  background-color: #ecc3c6;\n",
       "  color: #000000;\n",
       "  background-color: #c896c8;\n",
       "  color: #f1f1f1;\n",
       "}\n",
       "#T_9334c_row5_col2 {\n",
       "  background-color: #f2eded;\n",
       "  color: #000000;\n",
       "  background-color: #b875b8;\n",
       "  color: #f1f1f1;\n",
       "}\n",
       "#T_9334c_row5_col3 {\n",
       "  background-color: #de5a64;\n",
       "  color: #f1f1f1;\n",
       "  background-color: #8a158a;\n",
       "  color: #f1f1f1;\n",
       "}\n",
       "</style>\n",
       "<table id=\"T_9334c\">\n",
       "  <thead>\n",
       "    <tr>\n",
       "      <th class=\"blank level0\" >&nbsp;</th>\n",
       "      <th id=\"T_9334c_level0_col0\" class=\"col_heading level0 col0\" >aopc_compr</th>\n",
       "      <th id=\"T_9334c_level0_col1\" class=\"col_heading level0 col1\" >aopc_suff</th>\n",
       "      <th id=\"T_9334c_level0_col2\" class=\"col_heading level0 col2\" >taucorr_loo</th>\n",
       "      <th id=\"T_9334c_level0_col3\" class=\"col_heading level0 col3\" >auprc_plau</th>\n",
       "      <th id=\"T_9334c_level0_col4\" class=\"col_heading level0 col4\" >token_f1_plau</th>\n",
       "      <th id=\"T_9334c_level0_col5\" class=\"col_heading level0 col5\" >token_iou_plau</th>\n",
       "    </tr>\n",
       "  </thead>\n",
       "  <tbody>\n",
       "    <tr>\n",
       "      <th id=\"T_9334c_level0_row0\" class=\"row_heading level0 row0\" >Partition SHAP</th>\n",
       "      <td id=\"T_9334c_row0_col0\" class=\"data row0 col0\" >0.520906</td>\n",
       "      <td id=\"T_9334c_row0_col1\" class=\"data row0 col1\" >-0.049725</td>\n",
       "      <td id=\"T_9334c_row0_col2\" class=\"data row0 col2\" >0.292903</td>\n",
       "      <td id=\"T_9334c_row0_col3\" class=\"data row0 col3\" >0.803985</td>\n",
       "      <td id=\"T_9334c_row0_col4\" class=\"data row0 col4\" >0.413793</td>\n",
       "      <td id=\"T_9334c_row0_col5\" class=\"data row0 col5\" >0.260870</td>\n",
       "    </tr>\n",
       "    <tr>\n",
       "      <th id=\"T_9334c_level0_row1\" class=\"row_heading level0 row1\" >LIME</th>\n",
       "      <td id=\"T_9334c_row1_col0\" class=\"data row1 col0\" >0.183729</td>\n",
       "      <td id=\"T_9334c_row1_col1\" class=\"data row1 col1\" >0.060867</td>\n",
       "      <td id=\"T_9334c_row1_col2\" class=\"data row1 col2\" >0.069774</td>\n",
       "      <td id=\"T_9334c_row1_col3\" class=\"data row1 col3\" >0.768730</td>\n",
       "      <td id=\"T_9334c_row1_col4\" class=\"data row1 col4\" >0.413793</td>\n",
       "      <td id=\"T_9334c_row1_col5\" class=\"data row1 col5\" >0.260870</td>\n",
       "    </tr>\n",
       "    <tr>\n",
       "      <th id=\"T_9334c_level0_row2\" class=\"row_heading level0 row2\" >Gradient</th>\n",
       "      <td id=\"T_9334c_row2_col0\" class=\"data row2 col0\" >0.412918</td>\n",
       "      <td id=\"T_9334c_row2_col1\" class=\"data row2 col1\" >0.026478</td>\n",
       "      <td id=\"T_9334c_row2_col2\" class=\"data row2 col2\" >0.114198</td>\n",
       "      <td id=\"T_9334c_row2_col3\" class=\"data row2 col3\" >0.939195</td>\n",
       "      <td id=\"T_9334c_row2_col4\" class=\"data row2 col4\" >0.482759</td>\n",
       "      <td id=\"T_9334c_row2_col5\" class=\"data row2 col5\" >0.318182</td>\n",
       "    </tr>\n",
       "    <tr>\n",
       "      <th id=\"T_9334c_level0_row3\" class=\"row_heading level0 row3\" >Gradient (x Input)</th>\n",
       "      <td id=\"T_9334c_row3_col0\" class=\"data row3 col0\" >0.070884</td>\n",
       "      <td id=\"T_9334c_row3_col1\" class=\"data row3 col1\" >0.263768</td>\n",
       "      <td id=\"T_9334c_row3_col2\" class=\"data row3 col2\" >-0.041688</td>\n",
       "      <td id=\"T_9334c_row3_col3\" class=\"data row3 col3\" >0.778192</td>\n",
       "      <td id=\"T_9334c_row3_col4\" class=\"data row3 col4\" >0.413793</td>\n",
       "      <td id=\"T_9334c_row3_col5\" class=\"data row3 col5\" >0.260870</td>\n",
       "    </tr>\n",
       "    <tr>\n",
       "      <th id=\"T_9334c_level0_row4\" class=\"row_heading level0 row4\" >Integrated Gradient</th>\n",
       "      <td id=\"T_9334c_row4_col0\" class=\"data row4 col0\" >0.142813</td>\n",
       "      <td id=\"T_9334c_row4_col1\" class=\"data row4 col1\" >0.128925</td>\n",
       "      <td id=\"T_9334c_row4_col2\" class=\"data row4 col2\" >0.054109</td>\n",
       "      <td id=\"T_9334c_row4_col3\" class=\"data row4 col3\" >0.668896</td>\n",
       "      <td id=\"T_9334c_row4_col4\" class=\"data row4 col4\" >0.344828</td>\n",
       "      <td id=\"T_9334c_row4_col5\" class=\"data row4 col5\" >0.208333</td>\n",
       "    </tr>\n",
       "    <tr>\n",
       "      <th id=\"T_9334c_level0_row5\" class=\"row_heading level0 row5\" >Integrated Gradient (x Input)</th>\n",
       "      <td id=\"T_9334c_row5_col0\" class=\"data row5 col0\" >0.133697</td>\n",
       "      <td id=\"T_9334c_row5_col1\" class=\"data row5 col1\" >0.255439</td>\n",
       "      <td id=\"T_9334c_row5_col2\" class=\"data row5 col2\" >0.030192</td>\n",
       "      <td id=\"T_9334c_row5_col3\" class=\"data row5 col3\" >0.824997</td>\n",
       "      <td id=\"T_9334c_row5_col4\" class=\"data row5 col4\" >0.413793</td>\n",
       "      <td id=\"T_9334c_row5_col5\" class=\"data row5 col5\" >0.260870</td>\n",
       "    </tr>\n",
       "  </tbody>\n",
       "</table>\n"
      ],
      "text/plain": [
       "<pandas.io.formats.style.Styler at 0x7ff594d67d60>"
      ]
     },
     "execution_count": 14,
     "metadata": {},
     "output_type": "execute_result"
    }
   ],
   "source": [
    "bench.show_samples_evaluation_table(sample_evaluations)"
   ]
  },
  {
   "cell_type": "markdown",
   "id": "0706f67e",
   "metadata": {},
   "source": [
    "# Bonus!\n",
    "\n",
    "There is more! You can:\n",
    "\n",
    "- use *ferret* built-in explainers to have fine-grained control over their *init* and *call* parameters (please refer to our [doc](https://ferret.readthedocs.io/en/latest/?version=latest) to know more)\n",
    "- compute individual faithfulness and plausibility metrics over explanations"
   ]
  },
  {
   "cell_type": "markdown",
   "id": "561f2113",
   "metadata": {},
   "source": [
    "**Interface to individual explainers**\n",
    "\n",
    "You can also use individual explainers using an object oriented interface."
   ]
  },
  {
   "cell_type": "code",
   "execution_count": 15,
   "id": "77e3877f",
   "metadata": {},
   "outputs": [],
   "source": [
    "from ferret import SHAPExplainer, LIMEExplainer"
   ]
  },
  {
   "cell_type": "code",
   "execution_count": 16,
   "id": "52c85a95",
   "metadata": {},
   "outputs": [
    {
     "data": {
      "text/plain": [
       "Explanation(text='hello my friend', tokens=['<s>', '▁hell', 'o', '▁my', '▁friend', '</s>'], scores=[0.050474912847888576, 0.03263839024009319, 0.014845006777639913, -0.0036407287599287508, -0.023999428967105964, 0.06192408403365266], explainer='LIME', target=1)"
      ]
     },
     "execution_count": 16,
     "metadata": {},
     "output_type": "execute_result"
    }
   ],
   "source": [
    "exp = LIMEExplainer(model, tokenizer)\n",
    "exp(\"hello my friend\")"
   ]
  },
  {
   "cell_type": "code",
   "execution_count": 17,
   "id": "e75aa80e-773a-48de-a27f-5eb6cdb670a6",
   "metadata": {},
   "outputs": [
    {
     "name": "stderr",
     "output_type": "stream",
     "text": [
      "`return_all_scores` is now deprecated, use `top_k=1` if you want similar functionnality\n"
     ]
    },
    {
     "data": {
      "text/plain": [
       "Explanation(text='hello my friend', tokens=['<s>', '▁hell', 'o', '▁my', '▁friend', '</s>'], scores=array([ 0.        ,  0.00641441,  0.07140772, -0.01425122, -0.01147836,\n",
       "        0.        ]), explainer='Partition SHAP', target=1)"
      ]
     },
     "execution_count": 17,
     "metadata": {},
     "output_type": "execute_result"
    }
   ],
   "source": [
    "exp = SHAPExplainer(model, tokenizer)\n",
    "exp(\"hello my friend\")"
   ]
  },
  {
   "cell_type": "code",
   "execution_count": 18,
   "id": "09532fdd",
   "metadata": {},
   "outputs": [],
   "source": [
    "exp = SHAPExplainer(model, tokenizer)\n",
    "e = exp(\"I love your style!\", target = 0)"
   ]
  },
  {
   "cell_type": "code",
   "execution_count": 19,
   "id": "9db355c7",
   "metadata": {},
   "outputs": [
    {
     "data": {
      "text/html": [
       "<style type=\"text/css\">\n",
       "#T_1dc5f_row0_col0 {\n",
       "  background-color: #f2f1f1;\n",
       "  color: #000000;\n",
       "}\n",
       "#T_1dc5f_row0_col1 {\n",
       "  background-color: #d9e2e9;\n",
       "  color: #000000;\n",
       "}\n",
       "#T_1dc5f_row0_col2 {\n",
       "  background-color: #e4e9ed;\n",
       "  color: #000000;\n",
       "}\n",
       "#T_1dc5f_row0_col3 {\n",
       "  background-color: #e1e7ec;\n",
       "  color: #000000;\n",
       "}\n",
       "#T_1dc5f_row0_col4 {\n",
       "  background-color: #edeff1;\n",
       "  color: #000000;\n",
       "}\n",
       "</style>\n",
       "<table id=\"T_1dc5f\">\n",
       "  <thead>\n",
       "    <tr>\n",
       "      <th class=\"index_name level0\" >Token</th>\n",
       "      <th id=\"T_1dc5f_level0_col0\" class=\"col_heading level0 col0\" >▁I</th>\n",
       "      <th id=\"T_1dc5f_level0_col1\" class=\"col_heading level0 col1\" >▁love</th>\n",
       "      <th id=\"T_1dc5f_level0_col2\" class=\"col_heading level0 col2\" >▁your</th>\n",
       "      <th id=\"T_1dc5f_level0_col3\" class=\"col_heading level0 col3\" >▁style</th>\n",
       "      <th id=\"T_1dc5f_level0_col4\" class=\"col_heading level0 col4\" >!</th>\n",
       "    </tr>\n",
       "  </thead>\n",
       "  <tbody>\n",
       "    <tr>\n",
       "      <th id=\"T_1dc5f_level0_row0\" class=\"row_heading level0 row0\" >Partition SHAP</th>\n",
       "      <td id=\"T_1dc5f_row0_col0\" class=\"data row0 col0\" >0.00</td>\n",
       "      <td id=\"T_1dc5f_row0_col1\" class=\"data row0 col1\" >-0.13</td>\n",
       "      <td id=\"T_1dc5f_row0_col2\" class=\"data row0 col2\" >-0.08</td>\n",
       "      <td id=\"T_1dc5f_row0_col3\" class=\"data row0 col3\" >-0.09</td>\n",
       "      <td id=\"T_1dc5f_row0_col4\" class=\"data row0 col4\" >-0.02</td>\n",
       "    </tr>\n",
       "  </tbody>\n",
       "</table>\n"
      ],
      "text/plain": [
       "<pandas.io.formats.style.Styler at 0x7ff594d65660>"
      ]
     },
     "execution_count": 19,
     "metadata": {},
     "output_type": "execute_result"
    }
   ],
   "source": [
    "bench.show_table([e])"
   ]
  },
  {
   "cell_type": "markdown",
   "id": "0a55837e",
   "metadata": {},
   "source": [
    "and evaluate an individual evaluation measure"
   ]
  },
  {
   "cell_type": "code",
   "execution_count": 20,
   "id": "6112eb61",
   "metadata": {},
   "outputs": [],
   "source": [
    "from ferret import AOPC_Comprehensiveness_Evaluation\n",
    "from ferret.evaluators import Model\n",
    "\n",
    "aopc_compr_eval = AOPC_Comprehensiveness_Evaluation(Model(model), tokenizer)"
   ]
  },
  {
   "cell_type": "code",
   "execution_count": 21,
   "id": "fdc834d5",
   "metadata": {},
   "outputs": [
    {
     "data": {
      "text/plain": [
       "Evaluation(name='aopc_compr', score=-0.0044906978)"
      ]
     },
     "execution_count": 21,
     "metadata": {},
     "output_type": "execute_result"
    }
   ],
   "source": [
    "aopc_compr_eval.compute_evaluation(e, target = 0)"
   ]
  },
  {
   "cell_type": "code",
   "execution_count": 22,
   "id": "44661fb5",
   "metadata": {},
   "outputs": [
    {
     "name": "stderr",
     "output_type": "stream",
     "text": [
      "                                                                                \r"
     ]
    },
    {
     "data": {
      "text/html": [
       "<style type=\"text/css\">\n",
       "#T_8582d_row0_col0 {\n",
       "  background-color: #f1f1f2;\n",
       "  color: #000000;\n",
       "  background-color: #ba78ba;\n",
       "  color: #f1f1f1;\n",
       "}\n",
       "#T_8582d_row0_col1 {\n",
       "  background-color: #b9ccdb;\n",
       "  color: #000000;\n",
       "  background-color: #a752a7;\n",
       "  color: #f1f1f1;\n",
       "}\n",
       "#T_8582d_row0_col2 {\n",
       "  background-color: #e9a8ad;\n",
       "  color: #000000;\n",
       "  background-color: #a247a2;\n",
       "  color: #f1f1f1;\n",
       "}\n",
       "</style>\n",
       "<table id=\"T_8582d\">\n",
       "  <thead>\n",
       "    <tr>\n",
       "      <th class=\"blank level0\" >&nbsp;</th>\n",
       "      <th id=\"T_8582d_level0_col0\" class=\"col_heading level0 col0\" >aopc_compr</th>\n",
       "      <th id=\"T_8582d_level0_col1\" class=\"col_heading level0 col1\" >aopc_suff</th>\n",
       "      <th id=\"T_8582d_level0_col2\" class=\"col_heading level0 col2\" >taucorr_loo</th>\n",
       "    </tr>\n",
       "  </thead>\n",
       "  <tbody>\n",
       "    <tr>\n",
       "      <th id=\"T_8582d_level0_row0\" class=\"row_heading level0 row0\" >Partition SHAP</th>\n",
       "      <td id=\"T_8582d_row0_col0\" class=\"data row0 col0\" >-0.00</td>\n",
       "      <td id=\"T_8582d_row0_col1\" class=\"data row0 col1\" >-0.32</td>\n",
       "      <td id=\"T_8582d_row0_col2\" class=\"data row0 col2\" >0.40</td>\n",
       "    </tr>\n",
       "  </tbody>\n",
       "</table>\n"
      ],
      "text/plain": [
       "<pandas.io.formats.style.Styler at 0x7ff594e4c100>"
      ]
     },
     "execution_count": 22,
     "metadata": {},
     "output_type": "execute_result"
    }
   ],
   "source": [
    "ev = bench.evaluate_explanation(e, target = 0)\n",
    "bench.show_evaluation_table([ev])"
   ]
  }
 ],
 "metadata": {
  "kernelspec": {
   "display_name": "xai",
   "language": "python",
   "name": "xai"
  },
  "language_info": {
   "codemirror_mode": {
    "name": "ipython",
    "version": 3
   },
   "file_extension": ".py",
   "mimetype": "text/x-python",
   "name": "python",
   "nbconvert_exporter": "python",
   "pygments_lexer": "ipython3",
   "version": "3.10.4"
  },
  "toc": {
   "base_numbering": 1,
   "nav_menu": {},
   "number_sections": true,
   "sideBar": true,
   "skip_h1_title": false,
   "title_cell": "Table of Contents",
   "title_sidebar": "Contents",
   "toc_cell": false,
   "toc_position": {},
   "toc_section_display": true,
   "toc_window_display": false
  },
  "vscode": {
   "interpreter": {
    "hash": "d8f902cf6ca391daaec6c50bfce6a52cbc75b613a5db9822f88b522b8035bbf2"
   }
  }
 },
 "nbformat": 4,
 "nbformat_minor": 5
}
